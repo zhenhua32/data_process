{
 "cells": [
  {
   "cell_type": "code",
   "execution_count": 1,
   "metadata": {},
   "outputs": [],
   "source": [
    "import pandas as pd"
   ]
  },
  {
   "cell_type": "code",
   "execution_count": 2,
   "metadata": {},
   "outputs": [
    {
     "data": {
      "text/html": [
       "<div>\n",
       "<style scoped>\n",
       "    .dataframe tbody tr th:only-of-type {\n",
       "        vertical-align: middle;\n",
       "    }\n",
       "\n",
       "    .dataframe tbody tr th {\n",
       "        vertical-align: top;\n",
       "    }\n",
       "\n",
       "    .dataframe thead th {\n",
       "        text-align: right;\n",
       "    }\n",
       "</style>\n",
       "<table border=\"1\" class=\"dataframe\">\n",
       "  <thead>\n",
       "    <tr style=\"text-align: right;\">\n",
       "      <th></th>\n",
       "      <th>label</th>\n",
       "      <th>sentence1</th>\n",
       "    </tr>\n",
       "  </thead>\n",
       "  <tbody>\n",
       "    <tr>\n",
       "      <th>0</th>\n",
       "      <td>政务_文旅</td>\n",
       "      <td>安徽三祖寺发现佛牙舍利 初步判断为宋代皇家所赐</td>\n",
       "    </tr>\n",
       "    <tr>\n",
       "      <th>1</th>\n",
       "      <td>科技_数码</td>\n",
       "      <td>员工曝苹果2022年春季发布会要来了！iPhone SE 3即将发布</td>\n",
       "    </tr>\n",
       "    <tr>\n",
       "      <th>2</th>\n",
       "      <td>汽车_行业</td>\n",
       "      <td>俄乌战争使大众向中国和美国转移产能</td>\n",
       "    </tr>\n",
       "    <tr>\n",
       "      <th>3</th>\n",
       "      <td>科技_车科技</td>\n",
       "      <td>再也不怕事故扯皮！所有新车全面上线黑匣子：比行车记录仪好用</td>\n",
       "    </tr>\n",
       "    <tr>\n",
       "      <th>4</th>\n",
       "      <td>体育_中国足球</td>\n",
       "      <td>终身禁赛！体育总局和公安部联手严查严打赌球假球行为</td>\n",
       "    </tr>\n",
       "    <tr>\n",
       "      <th>...</th>\n",
       "      <td>...</td>\n",
       "      <td>...</td>\n",
       "    </tr>\n",
       "    <tr>\n",
       "      <th>3915</th>\n",
       "      <td>政务_发展治理</td>\n",
       "      <td>住建部约谈五城背后：东莞房价涨幅超深圳、房企南通激战抢地</td>\n",
       "    </tr>\n",
       "    <tr>\n",
       "      <th>3916</th>\n",
       "      <td>体育_NBA</td>\n",
       "      <td>欧文回应与哈登不和传言：别把我名字放到这些傻瓜文章里！</td>\n",
       "    </tr>\n",
       "    <tr>\n",
       "      <th>3917</th>\n",
       "      <td>政务_发展治理</td>\n",
       "      <td>统计局：中国3月CPI同比增长0.4%，环比下降0.5%</td>\n",
       "    </tr>\n",
       "    <tr>\n",
       "      <th>3918</th>\n",
       "      <td>娱乐_电影</td>\n",
       "      <td>她这组写真照真不错</td>\n",
       "    </tr>\n",
       "    <tr>\n",
       "      <th>3919</th>\n",
       "      <td>体育_国际足球</td>\n",
       "      <td>球迷怒斥金球奖颁给梅西是耻辱 竟收获C罗寄来的签名球衣</td>\n",
       "    </tr>\n",
       "  </tbody>\n",
       "</table>\n",
       "<p>3920 rows × 2 columns</p>\n",
       "</div>"
      ],
      "text/plain": [
       "        label                           sentence1\n",
       "0       政务_文旅             安徽三祖寺发现佛牙舍利 初步判断为宋代皇家所赐\n",
       "1       科技_数码  员工曝苹果2022年春季发布会要来了！iPhone SE 3即将发布\n",
       "2       汽车_行业                   俄乌战争使大众向中国和美国转移产能\n",
       "3      科技_车科技       再也不怕事故扯皮！所有新车全面上线黑匣子：比行车记录仪好用\n",
       "4     体育_中国足球           终身禁赛！体育总局和公安部联手严查严打赌球假球行为\n",
       "...       ...                                 ...\n",
       "3915  政务_发展治理        住建部约谈五城背后：东莞房价涨幅超深圳、房企南通激战抢地\n",
       "3916   体育_NBA         欧文回应与哈登不和传言：别把我名字放到这些傻瓜文章里！\n",
       "3917  政务_发展治理        统计局：中国3月CPI同比增长0.4%，环比下降0.5%\n",
       "3918    娱乐_电影                           她这组写真照真不错\n",
       "3919  体育_国际足球         球迷怒斥金球奖颁给梅西是耻辱 竟收获C罗寄来的签名球衣\n",
       "\n",
       "[3920 rows x 2 columns]"
      ]
     },
     "execution_count": 2,
     "metadata": {},
     "output_type": "execute_result"
    }
   ],
   "source": [
    "df = pd.read_csv(\"./ifeng_data/train.csv\", header=None, sep=\"\\t\", names=[\"label\", \"sentence1\"])\n",
    "df"
   ]
  },
  {
   "cell_type": "code",
   "execution_count": 3,
   "metadata": {},
   "outputs": [
    {
     "data": {
      "text/plain": [
       "31.0"
      ]
     },
     "execution_count": 3,
     "metadata": {},
     "output_type": "execute_result"
    }
   ],
   "source": [
    "df[\"sentence1\"].str.len().quantile(0.9)"
   ]
  },
  {
   "cell_type": "code",
   "execution_count": 4,
   "metadata": {},
   "outputs": [
    {
     "name": "stdout",
     "output_type": "stream",
     "text": [
      "['体育', '娱乐', '政务', '时尚', '汽车', '科技'] 6\n",
      "['5G', 'CBA', 'NBA', '中国足球', '区块链', '反腐', '发展治理', '国际足球', '地方', '导购', '情感', '手机', '政策', '数码', '文旅', '新车', '时装', '明星', '电影', '电视', '美容', '行业', '试驾', '车科技', '音乐'] 25\n"
     ]
    }
   ],
   "source": [
    "labels = sorted(df[\"label\"].value_counts().index.tolist())\n",
    "\n",
    "labels1 = sorted(set([x.split(\"_\")[0] for x in labels]))\n",
    "labels2 = sorted(set([x.split(\"_\")[1] for x in labels]))\n",
    "print(labels1, len(labels1))\n",
    "print(labels2, len(labels2))"
   ]
  },
  {
   "cell_type": "code",
   "execution_count": null,
   "metadata": {},
   "outputs": [],
   "source": []
  },
  {
   "cell_type": "code",
   "execution_count": 5,
   "metadata": {},
   "outputs": [
    {
     "name": "stdout",
     "output_type": "stream",
     "text": [
      "['C:\\\\Anaconda3\\\\envs\\\\transformers\\\\lib\\\\site-packages\\\\ipykernel_launcher.py', '--ip=127.0.0.1', '--stdin=9003', '--control=9001', '--hb=9000', '--Session.signature_scheme=\"hmac-sha256\"', '--Session.key=b\"61ff7098-6bb8-4a8d-8e51-8425d478ccc5\"', '--shell=9002', '--transport=\"tcp\"', '--iopub=9004', '--f=C:\\\\Users\\\\tzh\\\\AppData\\\\Local\\\\Temp\\\\tmp-12152U6wj6hnTJsGu.json']\n"
     ]
    }
   ],
   "source": [
    "import sys\n",
    "print(sys.argv)\n",
    "sys.argv = sys.argv[:1]"
   ]
  },
  {
   "cell_type": "code",
   "execution_count": 6,
   "metadata": {},
   "outputs": [],
   "source": [
    "import logging\n",
    "import os\n",
    "\n",
    "import numpy as np\n",
    "from transformers import TFAutoModelForSequenceClassification, set_seed, create_optimizer\n",
    "\n",
    "import tensorflow as tf  # noqa: E402\n",
    "\n",
    "# import tensorflow.python.keras as keras\n",
    "import tensorflow.keras as keras\n",
    "\n",
    "\n",
    "from param_helper import load_params, SavePretrainedCallback\n",
    "from dataset_helper import load_data, covert_to_tf_dataset, load_data_layer\n",
    "\n",
    "logger = logging.getLogger(__name__)\n",
    "os.environ[\"TF_CPP_MIN_LOG_LEVEL\"] = \"1\"  # Reduce the amount of console output from TF"
   ]
  },
  {
   "cell_type": "code",
   "execution_count": 7,
   "metadata": {},
   "outputs": [
    {
     "name": "stdout",
     "output_type": "stream",
     "text": [
      "03/26/2022 23:15:02 - INFO - param_helper - Training/evaluation parameters TFTrainingArguments(\n",
      "_n_gpu=1,\n",
      "adafactor=False,\n",
      "adam_beta1=0.9,\n",
      "adam_beta2=0.999,\n",
      "adam_epsilon=1e-08,\n",
      "bf16=False,\n",
      "bf16_full_eval=False,\n",
      "dataloader_drop_last=False,\n",
      "dataloader_num_workers=0,\n",
      "dataloader_pin_memory=True,\n",
      "ddp_bucket_cap_mb=None,\n",
      "ddp_find_unused_parameters=None,\n",
      "debug=[],\n",
      "deepspeed=None,\n",
      "disable_tqdm=False,\n",
      "do_eval=False,\n",
      "do_predict=False,\n",
      "do_train=False,\n",
      "eval_accumulation_steps=None,\n",
      "eval_steps=None,\n",
      "evaluation_strategy=IntervalStrategy.NO,\n",
      "fp16=False,\n",
      "fp16_backend=auto,\n",
      "fp16_full_eval=False,\n",
      "fp16_opt_level=O1,\n",
      "gcp_project=None,\n",
      "gradient_accumulation_steps=1,\n",
      "gradient_checkpointing=False,\n",
      "greater_is_better=None,\n",
      "group_by_length=False,\n",
      "half_precision_backend=auto,\n",
      "hub_model_id=None,\n",
      "hub_strategy=HubStrategy.EVERY_SAVE,\n",
      "hub_token=<HUB_TOKEN>,\n",
      "ignore_data_skip=False,\n",
      "label_names=None,\n",
      "label_smoothing_factor=0.0,\n",
      "learning_rate=5e-05,\n",
      "length_column_name=length,\n",
      "load_best_model_at_end=False,\n",
      "local_rank=-1,\n",
      "log_level=-1,\n",
      "log_level_replica=-1,\n",
      "log_on_each_node=True,\n",
      "logging_dir=output\\runs\\Mar26_23-15-02_DESKTOP-1OR65MK,\n",
      "logging_first_step=False,\n",
      "logging_nan_inf_filter=True,\n",
      "logging_steps=500,\n",
      "logging_strategy=IntervalStrategy.STEPS,\n",
      "lr_scheduler_type=SchedulerType.LINEAR,\n",
      "max_grad_norm=1.0,\n",
      "max_steps=-1,\n",
      "metric_for_best_model=None,\n",
      "mp_parameters=,\n",
      "no_cuda=False,\n",
      "num_train_epochs=5,\n",
      "optim=OptimizerNames.ADAMW_HF,\n",
      "output_dir=output,\n",
      "overwrite_output_dir=True,\n",
      "past_index=-1,\n",
      "per_device_eval_batch_size=8,\n",
      "per_device_train_batch_size=8,\n",
      "poly_power=1.0,\n",
      "prediction_loss_only=False,\n",
      "push_to_hub=False,\n",
      "push_to_hub_model_id=None,\n",
      "push_to_hub_organization=None,\n",
      "push_to_hub_token=<PUSH_TO_HUB_TOKEN>,\n",
      "remove_unused_columns=True,\n",
      "report_to=['tensorboard'],\n",
      "resume_from_checkpoint=None,\n",
      "run_name=output,\n",
      "save_on_each_node=False,\n",
      "save_steps=500,\n",
      "save_strategy=IntervalStrategy.STEPS,\n",
      "save_total_limit=None,\n",
      "seed=42,\n",
      "sharded_ddp=[],\n",
      "skip_memory_metrics=True,\n",
      "tf32=None,\n",
      "tpu_metrics_debug=False,\n",
      "tpu_name=None,\n",
      "tpu_num_cores=None,\n",
      "tpu_zone=None,\n",
      "use_legacy_prediction_loop=False,\n",
      "warmup_ratio=0.0,\n",
      "warmup_steps=0,\n",
      "weight_decay=0.0,\n",
      "xla=False,\n",
      "xpu_backend=None,\n",
      ")\n",
      "03/26/2022 23:15:12 - WARNING - datasets.builder - Using custom data configuration default-efc3665f38c94ff3\n",
      "03/26/2022 23:15:12 - WARNING - datasets.builder - Reusing dataset csv (C:\\Users\\tzh\\.cache\\huggingface\\datasets\\csv\\default-efc3665f38c94ff3\\0.0.0\\6b9057d9e23d9d8a2f05b985917a0da84d70c5dae3d22ddd8a3f22fb01c69d9e)\n"
     ]
    },
    {
     "name": "stderr",
     "output_type": "stream",
     "text": [
      "100%|██████████| 2/2 [00:00<00:00, 499.71it/s]"
     ]
    },
    {
     "name": "stdout",
     "output_type": "stream",
     "text": [
      "['体育', '娱乐', '政务', '时尚', '汽车', '科技'] 6\n",
      "['5G', 'CBA', 'NBA', '中国足球', '区块链', '反腐', '发展治理', '国际足球', '地方', '导购', '情感', '手机', '政策', '数码', '文旅', '新车', '时装', '明星', '电影', '电视', '美容', '行业', '试驾', '车科技', '音乐'] 25\n"
     ]
    },
    {
     "name": "stderr",
     "output_type": "stream",
     "text": [
      "\n",
      "100%|██████████| 4/4 [00:00<00:00, 22.23ba/s]\n",
      "100%|██████████| 1/1 [00:00<00:00, 21.74ba/s]\n"
     ]
    }
   ],
   "source": [
    "model_args, data_args, training_args, checkpoint = load_params(\"my.json\")\n",
    "datasets, config, is_regression, data_collator, non_label_column_names = load_data_layer(\n",
    "    model_args, data_args, training_args, checkpoint\n",
    ")\n",
    "tf_data = covert_to_tf_dataset(datasets, data_args, training_args, data_collator, non_label_column_names, True)"
   ]
  },
  {
   "cell_type": "code",
   "execution_count": 8,
   "metadata": {},
   "outputs": [
    {
     "data": {
      "text/plain": [
       "({'attention_mask': <tf.Tensor: shape=(8, 32), dtype=int64, numpy=\n",
       "  array([[1, 1, 1, 1, 1, 1, 1, 1, 1, 1, 1, 1, 1, 1, 1, 1, 1, 1, 1, 1, 1, 1,\n",
       "          1, 1, 1, 1, 1, 1, 1, 0, 0, 0],\n",
       "         [1, 1, 1, 1, 1, 1, 1, 1, 1, 1, 1, 1, 1, 1, 1, 1, 1, 1, 1, 1, 1, 1,\n",
       "          1, 1, 1, 1, 1, 1, 1, 1, 0, 0],\n",
       "         [1, 1, 1, 1, 1, 1, 1, 1, 1, 1, 1, 1, 1, 1, 1, 1, 1, 1, 1, 1, 1, 1,\n",
       "          1, 1, 1, 1, 0, 0, 0, 0, 0, 0],\n",
       "         [1, 1, 1, 1, 1, 1, 1, 1, 1, 1, 1, 1, 1, 1, 1, 1, 1, 1, 1, 1, 1, 1,\n",
       "          1, 1, 1, 1, 1, 1, 1, 1, 1, 1],\n",
       "         [1, 1, 1, 1, 1, 1, 1, 1, 1, 1, 1, 1, 1, 1, 1, 1, 1, 1, 1, 1, 1, 1,\n",
       "          1, 1, 0, 0, 0, 0, 0, 0, 0, 0],\n",
       "         [1, 1, 1, 1, 1, 1, 1, 1, 1, 1, 1, 1, 1, 1, 1, 1, 1, 1, 1, 1, 1, 1,\n",
       "          1, 1, 1, 1, 1, 0, 0, 0, 0, 0],\n",
       "         [1, 1, 1, 1, 1, 1, 1, 1, 1, 1, 1, 1, 1, 1, 1, 1, 1, 1, 1, 1, 1, 1,\n",
       "          1, 1, 1, 1, 1, 1, 0, 0, 0, 0],\n",
       "         [1, 1, 1, 1, 1, 1, 1, 1, 1, 1, 1, 1, 1, 1, 1, 1, 1, 1, 1, 1, 1, 1,\n",
       "          0, 0, 0, 0, 0, 0, 0, 0, 0, 0]], dtype=int64)>,\n",
       "  'input_ids': <tf.Tensor: shape=(8, 32), dtype=int64, numpy=\n",
       "  array([[  101,   680,  1290,   711,  1394,   868,  4638,  2532,  1305,\n",
       "           4293,  2797,  2207,  5101,  8013,  6631,  1920,  3344,  3173,\n",
       "           3322,  3284,  1045,  8038, 10550,  2399,  2128,  1294,   722,\n",
       "           1045,   102,     0,     0,     0],\n",
       "         [  101,  2605,  5341,  1649,  2161,   100,  5436,  6756,   100,\n",
       "           1400,  5330,  8038,  4374,  5543,  5543,  4684,  3064,  7313,\n",
       "            704,  6887,  3624,  8024,  6627,  2207,  1995,  2146,  2357,\n",
       "           1333,  6446,   102,     0,     0],\n",
       "         [  101,  6756,  5500,  3299,  2845,  8078,   948,  3217,  2170,\n",
       "           8024,  2496,  1726,  3265,  6878,  1168,  2773,   751,  8024,\n",
       "            862,  3198,  3632,   519,  6649,   520,  8043,   102,     0,\n",
       "              0,     0,     0,     0,     0],\n",
       "         [  101,   733,  7599,  4788,  3857,  4989,  4060,  1928,   100,\n",
       "            100,   794,   704,  1925,  5307,  3845,  2339,   868,   833,\n",
       "           6379,  6956,  5392,  4692,  7770,  3717,  2398,  2458,  3123,\n",
       "           2802,  6863,  1394,   868,   102],\n",
       "         [  101,  7360,  5277,   680,  3059,  5466,  3300,   862,  1277,\n",
       "           1166,  8043,  1072,   860,  2512,  1510,  3300,  1525,   763,\n",
       "           8043,   671,  3152,  4692,  2743,   102,     0,     0,     0,\n",
       "              0,     0,     0,     0,     0],\n",
       "         [  101,   517,  4685,  6864,  3198,  5688,   518,  4178,  2428,\n",
       "            679,  1121,  1196,  2658,  1285,  5277,  7440,   881,  7509,\n",
       "           6145,  3787,  3025,  2797,  3780,  2689,   722,  3180,   102,\n",
       "              0,     0,     0,     0,     0],\n",
       "         [  101,  1952,  3172,  1305,  2512,  1400,  3433,  2548,  2861,\n",
       "            185,  2357,  3821,  1046,  3257,  3198,  2622,  2512,  6851,\n",
       "           7463,  2682,   683,  2552,   976,   671,  1399,  3678,   779,\n",
       "            102,     0,     0,     0,     0],\n",
       "         [  101,  3616,  6639,  5468,  2135,  3175,  8038,  3616,  1094,\n",
       "           1104,  6612,  1765,   794,  1760,  2516,  2533,  1836,  3121,\n",
       "            711,  2349,  7944,   102,     0,     0,     0,     0,     0,\n",
       "              0,     0,     0,     0,     0]], dtype=int64)>,\n",
       "  'output_1': <tf.Tensor: shape=(8,), dtype=int64, numpy=array([5, 1, 4, 2, 2, 1, 1, 0], dtype=int64)>,\n",
       "  'output_2': <tf.Tensor: shape=(8,), dtype=int64, numpy=array([11, 19, 21,  6, 12, 19, 17,  7], dtype=int64)>,\n",
       "  'token_type_ids': <tf.Tensor: shape=(8, 32), dtype=int64, numpy=\n",
       "  array([[0, 0, 0, 0, 0, 0, 0, 0, 0, 0, 0, 0, 0, 0, 0, 0, 0, 0, 0, 0, 0, 0,\n",
       "          0, 0, 0, 0, 0, 0, 0, 0, 0, 0],\n",
       "         [0, 0, 0, 0, 0, 0, 0, 0, 0, 0, 0, 0, 0, 0, 0, 0, 0, 0, 0, 0, 0, 0,\n",
       "          0, 0, 0, 0, 0, 0, 0, 0, 0, 0],\n",
       "         [0, 0, 0, 0, 0, 0, 0, 0, 0, 0, 0, 0, 0, 0, 0, 0, 0, 0, 0, 0, 0, 0,\n",
       "          0, 0, 0, 0, 0, 0, 0, 0, 0, 0],\n",
       "         [0, 0, 0, 0, 0, 0, 0, 0, 0, 0, 0, 0, 0, 0, 0, 0, 0, 0, 0, 0, 0, 0,\n",
       "          0, 0, 0, 0, 0, 0, 0, 0, 0, 0],\n",
       "         [0, 0, 0, 0, 0, 0, 0, 0, 0, 0, 0, 0, 0, 0, 0, 0, 0, 0, 0, 0, 0, 0,\n",
       "          0, 0, 0, 0, 0, 0, 0, 0, 0, 0],\n",
       "         [0, 0, 0, 0, 0, 0, 0, 0, 0, 0, 0, 0, 0, 0, 0, 0, 0, 0, 0, 0, 0, 0,\n",
       "          0, 0, 0, 0, 0, 0, 0, 0, 0, 0],\n",
       "         [0, 0, 0, 0, 0, 0, 0, 0, 0, 0, 0, 0, 0, 0, 0, 0, 0, 0, 0, 0, 0, 0,\n",
       "          0, 0, 0, 0, 0, 0, 0, 0, 0, 0],\n",
       "         [0, 0, 0, 0, 0, 0, 0, 0, 0, 0, 0, 0, 0, 0, 0, 0, 0, 0, 0, 0, 0, 0,\n",
       "          0, 0, 0, 0, 0, 0, 0, 0, 0, 0]], dtype=int64)>},\n",
       " {'output_1': <tf.Tensor: shape=(8,), dtype=int64, numpy=array([5, 1, 4, 2, 2, 1, 1, 0], dtype=int64)>,\n",
       "  'output_2': <tf.Tensor: shape=(8,), dtype=int64, numpy=array([11, 19, 21,  6, 12, 19, 17,  7], dtype=int64)>})"
      ]
     },
     "execution_count": 8,
     "metadata": {},
     "output_type": "execute_result"
    }
   ],
   "source": [
    "next(iter(tf_data[\"train\"]))"
   ]
  },
  {
   "cell_type": "code",
   "execution_count": 9,
   "metadata": {},
   "outputs": [],
   "source": [
    "# model_path = model_args.model_name_or_path\n",
    "# model = TFAutoModelForSequenceClassification.from_pretrained(\n",
    "#     model_path,\n",
    "#     config=config,\n",
    "#     cache_dir=model_args.cache_dir,\n",
    "#     revision=model_args.model_revision,\n",
    "#     use_auth_token=True if model_args.use_auth_token else None,\n",
    "# )\n",
    "# model"
   ]
  },
  {
   "cell_type": "code",
   "execution_count": 10,
   "metadata": {},
   "outputs": [],
   "source": [
    "# model.summary()"
   ]
  },
  {
   "cell_type": "code",
   "execution_count": 11,
   "metadata": {},
   "outputs": [
    {
     "name": "stdout",
     "output_type": "stream",
     "text": [
      "len(output) 2\n"
     ]
    },
    {
     "name": "stderr",
     "output_type": "stream",
     "text": [
      "All model checkpoint layers were used when initializing TFBertForSequenceClassification.\n",
      "\n",
      "Some layers of TFBertForSequenceClassification were not initialized from the model checkpoint at bert-base-chinese and are newly initialized: ['classifier1', 'classifier2']\n",
      "You should probably TRAIN this model on a down-stream task to be able to use it for predictions and inference.\n"
     ]
    },
    {
     "name": "stdout",
     "output_type": "stream",
     "text": [
      "len(output) 2\n"
     ]
    },
    {
     "data": {
      "text/plain": [
       "<model_helper.TFBertForSequenceClassification at 0x21434bfc5e0>"
      ]
     },
     "execution_count": 11,
     "metadata": {},
     "output_type": "execute_result"
    }
   ],
   "source": [
    "from model_helper import TFBertForSequenceClassification\n",
    "\n",
    "model_path = model_args.model_name_or_path\n",
    "model = TFBertForSequenceClassification.from_pretrained(\n",
    "    model_path,\n",
    "    config=config,\n",
    "    cache_dir=model_args.cache_dir,\n",
    "    revision=model_args.model_revision,\n",
    "    use_auth_token=True if model_args.use_auth_token else None,\n",
    ")\n",
    "model"
   ]
  },
  {
   "cell_type": "code",
   "execution_count": 12,
   "metadata": {},
   "outputs": [
    {
     "name": "stdout",
     "output_type": "stream",
     "text": [
      "Model: \"tf_bert_for_sequence_classification\"\n",
      "_________________________________________________________________\n",
      " Layer (type)                Output Shape              Param #   \n",
      "=================================================================\n",
      " bert (TFBertMainLayer)      multiple                  102267648 \n",
      "                                                                 \n",
      " dropout_37 (Dropout)        multiple                  0         \n",
      "                                                                 \n",
      " dropout_38 (Dropout)        multiple                  0         \n",
      "                                                                 \n",
      " classifier1 (Dense)         multiple                  4614      \n",
      "                                                                 \n",
      " classifier2 (Dense)         multiple                  19225     \n",
      "                                                                 \n",
      "=================================================================\n",
      "Total params: 102,291,487\n",
      "Trainable params: 102,291,487\n",
      "Non-trainable params: 0\n",
      "_________________________________________________________________\n"
     ]
    }
   ],
   "source": [
    "model.summary()"
   ]
  },
  {
   "cell_type": "code",
   "execution_count": 13,
   "metadata": {},
   "outputs": [],
   "source": [
    "optimizer = keras.optimizers.Adam(\n",
    "    learning_rate=training_args.learning_rate,\n",
    "    beta_1=training_args.adam_beta1,\n",
    "    beta_2=training_args.adam_beta2,\n",
    "    epsilon=training_args.adam_epsilon,\n",
    "    clipnorm=training_args.max_grad_norm,\n",
    ")\n",
    "loss_fn = keras.losses.SparseCategoricalCrossentropy(from_logits=True)\n",
    "loss_fn2 = keras.losses.SparseCategoricalCrossentropy(from_logits=True)\n",
    "metrics = [\"accuracy\"]\n",
    "# model.compile(optimizer=optimizer, loss={\"output_1\": loss_fn, \"output_2\": loss_fn2}, metrics=metrics)\n",
    "model.compile(optimizer=optimizer, loss=[loss_fn, loss_fn2], metrics=metrics)"
   ]
  },
  {
   "cell_type": "code",
   "execution_count": 14,
   "metadata": {},
   "outputs": [
    {
     "name": "stdout",
     "output_type": "stream",
     "text": [
      "Epoch 1/5\n",
      "len(output) 2\n",
      "len(output) 2\n",
      "490/490 [==============================] - ETA: 0s - loss: 2.2384 - output_1_loss: 0.5692 - output_2_loss: 1.6693 - output_1_accuracy: 0.8186 - output_2_accuracy: 0.5000len(output) 2\n",
      "490/490 [==============================] - 89s 144ms/step - loss: 2.2384 - output_1_loss: 0.5692 - output_2_loss: 1.6693 - output_1_accuracy: 0.8186 - output_2_accuracy: 0.5000 - val_loss: 1.4122 - val_output_1_loss: 0.3850 - val_output_2_loss: 1.0272 - val_output_1_accuracy: 0.8714 - val_output_2_accuracy: 0.6918\n",
      "Epoch 2/5\n",
      "490/490 [==============================] - 70s 143ms/step - loss: 1.1363 - output_1_loss: 0.2675 - output_2_loss: 0.8689 - output_1_accuracy: 0.9145 - output_2_accuracy: 0.7161 - val_loss: 1.4351 - val_output_1_loss: 0.4154 - val_output_2_loss: 1.0197 - val_output_1_accuracy: 0.8847 - val_output_2_accuracy: 0.6806\n",
      "Epoch 3/5\n",
      "490/490 [==============================] - 70s 144ms/step - loss: 0.7863 - output_1_loss: 0.1803 - output_2_loss: 0.6061 - output_1_accuracy: 0.9452 - output_2_accuracy: 0.8122 - val_loss: 1.5290 - val_output_1_loss: 0.4676 - val_output_2_loss: 1.0613 - val_output_1_accuracy: 0.8755 - val_output_2_accuracy: 0.7000\n",
      "Epoch 4/5\n",
      "490/490 [==============================] - 72s 147ms/step - loss: 0.5486 - output_1_loss: 0.1107 - output_2_loss: 0.4379 - output_1_accuracy: 0.9686 - output_2_accuracy: 0.8668 - val_loss: 1.5770 - val_output_1_loss: 0.4467 - val_output_2_loss: 1.1303 - val_output_1_accuracy: 0.8980 - val_output_2_accuracy: 0.7051\n",
      "Epoch 5/5\n",
      "490/490 [==============================] - 72s 147ms/step - loss: 0.3815 - output_1_loss: 0.0672 - output_2_loss: 0.3143 - output_1_accuracy: 0.9819 - output_2_accuracy: 0.9064 - val_loss: 1.5022 - val_output_1_loss: 0.4714 - val_output_2_loss: 1.0308 - val_output_1_accuracy: 0.8929 - val_output_2_accuracy: 0.7245\n"
     ]
    },
    {
     "data": {
      "text/plain": [
       "<keras.callbacks.History at 0x21434b8fd60>"
      ]
     },
     "execution_count": 14,
     "metadata": {},
     "output_type": "execute_result"
    }
   ],
   "source": [
    "model.fit(\n",
    "    tf_data[\"train\"],\n",
    "    validation_data=tf_data[\"validation\"],\n",
    "    epochs=int(training_args.num_train_epochs),\n",
    "    callbacks=[],\n",
    ")"
   ]
  }
 ],
 "metadata": {
  "interpreter": {
   "hash": "21ade77d1a005a9febcfd29d2ec0dea48f74b0b2dc097f0a2ba8132806873fea"
  },
  "kernelspec": {
   "display_name": "Python 3.9.7 ('transformers')",
   "language": "python",
   "name": "python3"
  },
  "language_info": {
   "codemirror_mode": {
    "name": "ipython",
    "version": 3
   },
   "file_extension": ".py",
   "mimetype": "text/x-python",
   "name": "python",
   "nbconvert_exporter": "python",
   "pygments_lexer": "ipython3",
   "version": "3.9.7"
  },
  "orig_nbformat": 4
 },
 "nbformat": 4,
 "nbformat_minor": 2
}
