{
 "cells": [
  {
   "cell_type": "code",
   "execution_count": 1,
   "metadata": {},
   "outputs": [],
   "source": [
    "import pandas as pd"
   ]
  },
  {
   "cell_type": "code",
   "execution_count": 2,
   "metadata": {},
   "outputs": [
    {
     "data": {
      "text/html": [
       "<div>\n",
       "<style scoped>\n",
       "    .dataframe tbody tr th:only-of-type {\n",
       "        vertical-align: middle;\n",
       "    }\n",
       "\n",
       "    .dataframe tbody tr th {\n",
       "        vertical-align: top;\n",
       "    }\n",
       "\n",
       "    .dataframe thead th {\n",
       "        text-align: right;\n",
       "    }\n",
       "</style>\n",
       "<table border=\"1\" class=\"dataframe\">\n",
       "  <thead>\n",
       "    <tr style=\"text-align: right;\">\n",
       "      <th></th>\n",
       "      <th>label</th>\n",
       "      <th>sentence1</th>\n",
       "    </tr>\n",
       "  </thead>\n",
       "  <tbody>\n",
       "    <tr>\n",
       "      <th>0</th>\n",
       "      <td>政务_文旅</td>\n",
       "      <td>安徽三祖寺发现佛牙舍利 初步判断为宋代皇家所赐</td>\n",
       "    </tr>\n",
       "    <tr>\n",
       "      <th>1</th>\n",
       "      <td>科技_数码</td>\n",
       "      <td>员工曝苹果2022年春季发布会要来了！iPhone SE 3即将发布</td>\n",
       "    </tr>\n",
       "    <tr>\n",
       "      <th>2</th>\n",
       "      <td>汽车_行业</td>\n",
       "      <td>俄乌战争使大众向中国和美国转移产能</td>\n",
       "    </tr>\n",
       "    <tr>\n",
       "      <th>3</th>\n",
       "      <td>科技_车科技</td>\n",
       "      <td>再也不怕事故扯皮！所有新车全面上线黑匣子：比行车记录仪好用</td>\n",
       "    </tr>\n",
       "    <tr>\n",
       "      <th>4</th>\n",
       "      <td>体育_中国足球</td>\n",
       "      <td>终身禁赛！体育总局和公安部联手严查严打赌球假球行为</td>\n",
       "    </tr>\n",
       "    <tr>\n",
       "      <th>...</th>\n",
       "      <td>...</td>\n",
       "      <td>...</td>\n",
       "    </tr>\n",
       "    <tr>\n",
       "      <th>3915</th>\n",
       "      <td>政务_发展治理</td>\n",
       "      <td>住建部约谈五城背后：东莞房价涨幅超深圳、房企南通激战抢地</td>\n",
       "    </tr>\n",
       "    <tr>\n",
       "      <th>3916</th>\n",
       "      <td>体育_NBA</td>\n",
       "      <td>欧文回应与哈登不和传言：别把我名字放到这些傻瓜文章里！</td>\n",
       "    </tr>\n",
       "    <tr>\n",
       "      <th>3917</th>\n",
       "      <td>政务_发展治理</td>\n",
       "      <td>统计局：中国3月CPI同比增长0.4%，环比下降0.5%</td>\n",
       "    </tr>\n",
       "    <tr>\n",
       "      <th>3918</th>\n",
       "      <td>娱乐_电影</td>\n",
       "      <td>她这组写真照真不错</td>\n",
       "    </tr>\n",
       "    <tr>\n",
       "      <th>3919</th>\n",
       "      <td>体育_国际足球</td>\n",
       "      <td>球迷怒斥金球奖颁给梅西是耻辱 竟收获C罗寄来的签名球衣</td>\n",
       "    </tr>\n",
       "  </tbody>\n",
       "</table>\n",
       "<p>3920 rows × 2 columns</p>\n",
       "</div>"
      ],
      "text/plain": [
       "        label                           sentence1\n",
       "0       政务_文旅             安徽三祖寺发现佛牙舍利 初步判断为宋代皇家所赐\n",
       "1       科技_数码  员工曝苹果2022年春季发布会要来了！iPhone SE 3即将发布\n",
       "2       汽车_行业                   俄乌战争使大众向中国和美国转移产能\n",
       "3      科技_车科技       再也不怕事故扯皮！所有新车全面上线黑匣子：比行车记录仪好用\n",
       "4     体育_中国足球           终身禁赛！体育总局和公安部联手严查严打赌球假球行为\n",
       "...       ...                                 ...\n",
       "3915  政务_发展治理        住建部约谈五城背后：东莞房价涨幅超深圳、房企南通激战抢地\n",
       "3916   体育_NBA         欧文回应与哈登不和传言：别把我名字放到这些傻瓜文章里！\n",
       "3917  政务_发展治理        统计局：中国3月CPI同比增长0.4%，环比下降0.5%\n",
       "3918    娱乐_电影                           她这组写真照真不错\n",
       "3919  体育_国际足球         球迷怒斥金球奖颁给梅西是耻辱 竟收获C罗寄来的签名球衣\n",
       "\n",
       "[3920 rows x 2 columns]"
      ]
     },
     "execution_count": 2,
     "metadata": {},
     "output_type": "execute_result"
    }
   ],
   "source": [
    "df = pd.read_csv(\"./ifeng_data/train.csv\", header=None, sep=\"\\t\", names=[\"label\", \"sentence1\"])\n",
    "df"
   ]
  },
  {
   "cell_type": "code",
   "execution_count": 3,
   "metadata": {},
   "outputs": [
    {
     "data": {
      "text/plain": [
       "31.0"
      ]
     },
     "execution_count": 3,
     "metadata": {},
     "output_type": "execute_result"
    }
   ],
   "source": [
    "df[\"sentence1\"].str.len().quantile(0.9)"
   ]
  },
  {
   "cell_type": "code",
   "execution_count": 4,
   "metadata": {},
   "outputs": [
    {
     "name": "stdout",
     "output_type": "stream",
     "text": [
      "['体育', '娱乐', '政务', '时尚', '汽车', '科技'] 6\n",
      "['5G', 'CBA', 'NBA', '中国足球', '区块链', '反腐', '发展治理', '国际足球', '地方', '导购', '情感', '手机', '政策', '数码', '文旅', '新车', '时装', '明星', '电影', '电视', '美容', '行业', '试驾', '车科技', '音乐'] 25\n"
     ]
    }
   ],
   "source": [
    "labels = sorted(df[\"label\"].value_counts().index.tolist())\n",
    "\n",
    "labels1 = sorted(set([x.split(\"_\")[0] for x in labels]))\n",
    "labels2 = sorted(set([x.split(\"_\")[1] for x in labels]))\n",
    "print(labels1, len(labels1))\n",
    "print(labels2, len(labels2))"
   ]
  },
  {
   "cell_type": "code",
   "execution_count": null,
   "metadata": {},
   "outputs": [],
   "source": []
  },
  {
   "cell_type": "code",
   "execution_count": 5,
   "metadata": {},
   "outputs": [
    {
     "name": "stdout",
     "output_type": "stream",
     "text": [
      "['C:\\\\Anaconda3\\\\envs\\\\transformers\\\\lib\\\\site-packages\\\\ipykernel_launcher.py', '--ip=127.0.0.1', '--stdin=9008', '--control=9006', '--hb=9005', '--Session.signature_scheme=\"hmac-sha256\"', '--Session.key=b\"cb3b9ed4-0c73-4de2-8810-0a6294d4a626\"', '--shell=9007', '--transport=\"tcp\"', '--iopub=9009', '--f=C:\\\\Users\\\\tzh\\\\AppData\\\\Local\\\\Temp\\\\tmp-12152cMHAv1CmoDK9.json']\n"
     ]
    }
   ],
   "source": [
    "import sys\n",
    "print(sys.argv)\n",
    "sys.argv = sys.argv[:1]"
   ]
  },
  {
   "cell_type": "code",
   "execution_count": 6,
   "metadata": {},
   "outputs": [],
   "source": [
    "import logging\n",
    "import os\n",
    "\n",
    "import numpy as np\n",
    "from transformers import TFAutoModelForSequenceClassification, set_seed, create_optimizer\n",
    "\n",
    "import tensorflow as tf  # noqa: E402\n",
    "\n",
    "# import tensorflow.python.keras as keras\n",
    "import tensorflow.keras as keras\n",
    "\n",
    "\n",
    "from param_helper import load_params, SavePretrainedCallback\n",
    "from dataset_helper import load_data, covert_to_tf_dataset, load_data_layer\n",
    "\n",
    "logger = logging.getLogger(__name__)\n",
    "os.environ[\"TF_CPP_MIN_LOG_LEVEL\"] = \"1\"  # Reduce the amount of console output from TF"
   ]
  },
  {
   "cell_type": "code",
   "execution_count": 7,
   "metadata": {},
   "outputs": [
    {
     "name": "stdout",
     "output_type": "stream",
     "text": [
      "03/26/2022 22:39:43 - INFO - param_helper - Training/evaluation parameters TFTrainingArguments(\n",
      "_n_gpu=1,\n",
      "adafactor=False,\n",
      "adam_beta1=0.9,\n",
      "adam_beta2=0.999,\n",
      "adam_epsilon=1e-08,\n",
      "bf16=False,\n",
      "bf16_full_eval=False,\n",
      "dataloader_drop_last=False,\n",
      "dataloader_num_workers=0,\n",
      "dataloader_pin_memory=True,\n",
      "ddp_bucket_cap_mb=None,\n",
      "ddp_find_unused_parameters=None,\n",
      "debug=[],\n",
      "deepspeed=None,\n",
      "disable_tqdm=False,\n",
      "do_eval=False,\n",
      "do_predict=False,\n",
      "do_train=False,\n",
      "eval_accumulation_steps=None,\n",
      "eval_steps=None,\n",
      "evaluation_strategy=IntervalStrategy.NO,\n",
      "fp16=False,\n",
      "fp16_backend=auto,\n",
      "fp16_full_eval=False,\n",
      "fp16_opt_level=O1,\n",
      "gcp_project=None,\n",
      "gradient_accumulation_steps=1,\n",
      "gradient_checkpointing=False,\n",
      "greater_is_better=None,\n",
      "group_by_length=False,\n",
      "half_precision_backend=auto,\n",
      "hub_model_id=None,\n",
      "hub_strategy=HubStrategy.EVERY_SAVE,\n",
      "hub_token=<HUB_TOKEN>,\n",
      "ignore_data_skip=False,\n",
      "label_names=None,\n",
      "label_smoothing_factor=0.0,\n",
      "learning_rate=5e-05,\n",
      "length_column_name=length,\n",
      "load_best_model_at_end=False,\n",
      "local_rank=-1,\n",
      "log_level=-1,\n",
      "log_level_replica=-1,\n",
      "log_on_each_node=True,\n",
      "logging_dir=output\\runs\\Mar26_22-39-43_DESKTOP-1OR65MK,\n",
      "logging_first_step=False,\n",
      "logging_nan_inf_filter=True,\n",
      "logging_steps=500,\n",
      "logging_strategy=IntervalStrategy.STEPS,\n",
      "lr_scheduler_type=SchedulerType.LINEAR,\n",
      "max_grad_norm=1.0,\n",
      "max_steps=-1,\n",
      "metric_for_best_model=None,\n",
      "mp_parameters=,\n",
      "no_cuda=False,\n",
      "num_train_epochs=5,\n",
      "optim=OptimizerNames.ADAMW_HF,\n",
      "output_dir=output,\n",
      "overwrite_output_dir=True,\n",
      "past_index=-1,\n",
      "per_device_eval_batch_size=8,\n",
      "per_device_train_batch_size=8,\n",
      "poly_power=1.0,\n",
      "prediction_loss_only=False,\n",
      "push_to_hub=False,\n",
      "push_to_hub_model_id=None,\n",
      "push_to_hub_organization=None,\n",
      "push_to_hub_token=<PUSH_TO_HUB_TOKEN>,\n",
      "remove_unused_columns=True,\n",
      "report_to=['tensorboard'],\n",
      "resume_from_checkpoint=None,\n",
      "run_name=output,\n",
      "save_on_each_node=False,\n",
      "save_steps=500,\n",
      "save_strategy=IntervalStrategy.STEPS,\n",
      "save_total_limit=None,\n",
      "seed=42,\n",
      "sharded_ddp=[],\n",
      "skip_memory_metrics=True,\n",
      "tf32=None,\n",
      "tpu_metrics_debug=False,\n",
      "tpu_name=None,\n",
      "tpu_num_cores=None,\n",
      "tpu_zone=None,\n",
      "use_legacy_prediction_loop=False,\n",
      "warmup_ratio=0.0,\n",
      "warmup_steps=0,\n",
      "weight_decay=0.0,\n",
      "xla=False,\n",
      "xpu_backend=None,\n",
      ")\n",
      "03/26/2022 22:39:44 - WARNING - datasets.builder - Using custom data configuration default-efc3665f38c94ff3\n",
      "03/26/2022 22:39:44 - WARNING - datasets.builder - Reusing dataset csv (C:\\Users\\tzh\\.cache\\huggingface\\datasets\\csv\\default-efc3665f38c94ff3\\0.0.0\\6b9057d9e23d9d8a2f05b985917a0da84d70c5dae3d22ddd8a3f22fb01c69d9e)\n"
     ]
    },
    {
     "name": "stderr",
     "output_type": "stream",
     "text": [
      "100%|██████████| 2/2 [00:00<00:00, 982.96it/s]"
     ]
    },
    {
     "name": "stdout",
     "output_type": "stream",
     "text": [
      "['体育', '娱乐', '政务', '时尚', '汽车', '科技'] 6\n",
      "['5G', 'CBA', 'NBA', '中国足球', '区块链', '反腐', '发展治理', '国际足球', '地方', '导购', '情感', '手机', '政策', '数码', '文旅', '新车', '时装', '明星', '电影', '电视', '美容', '行业', '试驾', '车科技', '音乐'] 25\n"
     ]
    },
    {
     "name": "stderr",
     "output_type": "stream",
     "text": [
      "\n"
     ]
    },
    {
     "name": "stdout",
     "output_type": "stream",
     "text": [
      "03/26/2022 22:39:57 - WARNING - datasets.arrow_dataset - Loading cached processed dataset at C:\\Users\\tzh\\.cache\\huggingface\\datasets\\csv\\default-efc3665f38c94ff3\\0.0.0\\6b9057d9e23d9d8a2f05b985917a0da84d70c5dae3d22ddd8a3f22fb01c69d9e\\cache-3f99cac7bd08c7fe.arrow\n"
     ]
    },
    {
     "name": "stderr",
     "output_type": "stream",
     "text": [
      "100%|██████████| 1/1 [00:00<00:00, 20.81ba/s]\n"
     ]
    }
   ],
   "source": [
    "model_args, data_args, training_args, checkpoint = load_params(\"my.json\")\n",
    "datasets, config, is_regression, data_collator, non_label_column_names = load_data_layer(\n",
    "    model_args, data_args, training_args, checkpoint\n",
    ")\n",
    "tf_data = covert_to_tf_dataset(datasets, data_args, training_args, data_collator, non_label_column_names, True)"
   ]
  },
  {
   "cell_type": "code",
   "execution_count": 8,
   "metadata": {},
   "outputs": [
    {
     "data": {
      "text/plain": [
       "({'attention_mask': <tf.Tensor: shape=(8, 31), dtype=int64, numpy=\n",
       "  array([[1, 1, 1, 1, 1, 1, 1, 1, 1, 1, 1, 1, 1, 1, 1, 1, 1, 1, 1, 1, 1, 1,\n",
       "          1, 1, 1, 1, 1, 0, 0, 0, 0],\n",
       "         [1, 1, 1, 1, 1, 1, 1, 1, 1, 1, 1, 1, 1, 1, 1, 1, 1, 1, 1, 1, 1, 1,\n",
       "          1, 1, 1, 1, 1, 1, 1, 1, 1],\n",
       "         [1, 1, 1, 1, 1, 1, 1, 1, 1, 1, 1, 1, 1, 1, 1, 1, 1, 1, 1, 1, 1, 1,\n",
       "          1, 1, 1, 1, 0, 0, 0, 0, 0],\n",
       "         [1, 1, 1, 1, 1, 1, 1, 1, 1, 1, 1, 1, 1, 1, 1, 1, 1, 1, 1, 1, 1, 1,\n",
       "          0, 0, 0, 0, 0, 0, 0, 0, 0],\n",
       "         [1, 1, 1, 1, 1, 1, 1, 1, 1, 1, 1, 1, 1, 1, 1, 1, 1, 1, 1, 1, 1, 0,\n",
       "          0, 0, 0, 0, 0, 0, 0, 0, 0],\n",
       "         [1, 1, 1, 1, 1, 1, 1, 1, 1, 1, 1, 1, 1, 1, 1, 1, 0, 0, 0, 0, 0, 0,\n",
       "          0, 0, 0, 0, 0, 0, 0, 0, 0],\n",
       "         [1, 1, 1, 1, 1, 1, 1, 1, 1, 1, 1, 1, 1, 1, 1, 1, 1, 1, 1, 1, 1, 1,\n",
       "          1, 1, 1, 1, 0, 0, 0, 0, 0],\n",
       "         [1, 1, 1, 1, 1, 1, 1, 1, 1, 1, 1, 1, 1, 1, 1, 1, 1, 1, 1, 1, 1, 1,\n",
       "          1, 1, 1, 1, 1, 1, 1, 0, 0]], dtype=int64)>,\n",
       "  'input_ids': <tf.Tensor: shape=(8, 31), dtype=int64, numpy=\n",
       "  array([[ 101, 5320, 6369, 2229, 8038,  125, 3299,  819, 4343, 5489,  817,\n",
       "          3419, 5326, 5330,  678, 7360, 8111,  110, 2233, 3696, 1139, 6121,\n",
       "          1920, 2388, 1872, 1217,  102,    0,    0,    0,    0],\n",
       "         [ 101,  100, 3717, 3362, 1995,  100, 1726, 2418,  794, 3313, 5815,\n",
       "          3419, 5812, 5401, 1946, 8038, 2769,  679, 1762,  725, 8024, 7218,\n",
       "          1545, 3144, 2945, 3221, 2141, 2802, 2141, 4638,  102],\n",
       "         [ 101, 4865, 4576, 1343, 4576, 1313,  784,  720, 4277, 2094, 1962,\n",
       "          4696, 3633, 1962, 4500, 4638, 4865, 4576,  772, 1501, 2961, 6121,\n",
       "          3528, 8108, 2487,  102,    0,    0,    0,    0,    0],\n",
       "         [ 101,  124, 1921, 1184, 6206, 3724,  678, 2247,  100, 2442, 3815,\n",
       "          5632, 2526,  100, 4638, 3466, 2175, 7270, 8024, 5862, 7716,  102,\n",
       "             0,    0,    0,    0,    0,    0,    0,    0,    0],\n",
       "         [ 101, 3173, 3621, 2140, 7716,  124, 5143, 2991, 3921, 4276, 6452,\n",
       "          4212, 3284, 1045, 2399, 1079, 3633, 2466, 1355, 2357,  102,    0,\n",
       "             0,    0,    0,    0,    0,    0,    0,    0,    0],\n",
       "         [ 101, 5741, 3362,  674, 1039,  100,  120,  100, 4706, 7262,  130,\n",
       "          3299, 7030,  772, 8043,  102,    0,    0,    0,    0,    0,    0,\n",
       "             0,    0,    0,    0,    0,    0,    0,    0,    0],\n",
       "         [ 101, 1744, 2157, 1139, 2797, 1086, 2915, 5790,  817,  100, 3717,\n",
       "          1146,  100, 6821,  763, 2382, 4500, 5790, 4775, 1139,  100, 1765,\n",
       "          3352,  817,  100,  102,    0,    0,    0,    0,    0],\n",
       "         [ 101, 1266,  776, 8038, 1139, 1545, 6756, 6775, 1400, 4509, 6435,\n",
       "          3291, 3173, 2900, 3403, 3187, 3198, 7361, 1039, 3190, 1184,  679,\n",
       "          2553, 2799, 1831,  743, 3173, 6756,  102,    0,    0]],\n",
       "        dtype=int64)>,\n",
       "  'label1': <tf.Tensor: shape=(8,), dtype=int64, numpy=array([2, 1, 3, 2, 4, 5, 2, 2], dtype=int64)>,\n",
       "  'label2': <tf.Tensor: shape=(8,), dtype=int64, numpy=array([ 6, 24, 20,  5, 15, 13, 12, 12], dtype=int64)>,\n",
       "  'token_type_ids': <tf.Tensor: shape=(8, 31), dtype=int64, numpy=\n",
       "  array([[0, 0, 0, 0, 0, 0, 0, 0, 0, 0, 0, 0, 0, 0, 0, 0, 0, 0, 0, 0, 0, 0,\n",
       "          0, 0, 0, 0, 0, 0, 0, 0, 0],\n",
       "         [0, 0, 0, 0, 0, 0, 0, 0, 0, 0, 0, 0, 0, 0, 0, 0, 0, 0, 0, 0, 0, 0,\n",
       "          0, 0, 0, 0, 0, 0, 0, 0, 0],\n",
       "         [0, 0, 0, 0, 0, 0, 0, 0, 0, 0, 0, 0, 0, 0, 0, 0, 0, 0, 0, 0, 0, 0,\n",
       "          0, 0, 0, 0, 0, 0, 0, 0, 0],\n",
       "         [0, 0, 0, 0, 0, 0, 0, 0, 0, 0, 0, 0, 0, 0, 0, 0, 0, 0, 0, 0, 0, 0,\n",
       "          0, 0, 0, 0, 0, 0, 0, 0, 0],\n",
       "         [0, 0, 0, 0, 0, 0, 0, 0, 0, 0, 0, 0, 0, 0, 0, 0, 0, 0, 0, 0, 0, 0,\n",
       "          0, 0, 0, 0, 0, 0, 0, 0, 0],\n",
       "         [0, 0, 0, 0, 0, 0, 0, 0, 0, 0, 0, 0, 0, 0, 0, 0, 0, 0, 0, 0, 0, 0,\n",
       "          0, 0, 0, 0, 0, 0, 0, 0, 0],\n",
       "         [0, 0, 0, 0, 0, 0, 0, 0, 0, 0, 0, 0, 0, 0, 0, 0, 0, 0, 0, 0, 0, 0,\n",
       "          0, 0, 0, 0, 0, 0, 0, 0, 0],\n",
       "         [0, 0, 0, 0, 0, 0, 0, 0, 0, 0, 0, 0, 0, 0, 0, 0, 0, 0, 0, 0, 0, 0,\n",
       "          0, 0, 0, 0, 0, 0, 0, 0, 0]], dtype=int64)>},\n",
       " {'label1': <tf.Tensor: shape=(8,), dtype=int64, numpy=array([2, 1, 3, 2, 4, 5, 2, 2], dtype=int64)>,\n",
       "  'label2': <tf.Tensor: shape=(8,), dtype=int64, numpy=array([ 6, 24, 20,  5, 15, 13, 12, 12], dtype=int64)>})"
      ]
     },
     "execution_count": 8,
     "metadata": {},
     "output_type": "execute_result"
    }
   ],
   "source": [
    "next(iter(tf_data[\"train\"]))"
   ]
  },
  {
   "cell_type": "code",
   "execution_count": 9,
   "metadata": {},
   "outputs": [],
   "source": [
    "# model_path = model_args.model_name_or_path\n",
    "# model = TFAutoModelForSequenceClassification.from_pretrained(\n",
    "#     model_path,\n",
    "#     config=config,\n",
    "#     cache_dir=model_args.cache_dir,\n",
    "#     revision=model_args.model_revision,\n",
    "#     use_auth_token=True if model_args.use_auth_token else None,\n",
    "# )\n",
    "# model"
   ]
  },
  {
   "cell_type": "code",
   "execution_count": 10,
   "metadata": {},
   "outputs": [],
   "source": [
    "# model.summary()"
   ]
  },
  {
   "cell_type": "code",
   "execution_count": 11,
   "metadata": {},
   "outputs": [
    {
     "name": "stdout",
     "output_type": "stream",
     "text": [
      "len(output) 2\n"
     ]
    },
    {
     "name": "stderr",
     "output_type": "stream",
     "text": [
      "All model checkpoint layers were used when initializing TFBertForSequenceClassification.\n",
      "\n",
      "Some layers of TFBertForSequenceClassification were not initialized from the model checkpoint at bert-base-chinese and are newly initialized: ['classifier2', 'classifier1']\n",
      "You should probably TRAIN this model on a down-stream task to be able to use it for predictions and inference.\n"
     ]
    },
    {
     "name": "stdout",
     "output_type": "stream",
     "text": [
      "len(output) 2\n"
     ]
    },
    {
     "data": {
      "text/plain": [
       "<model_helper.TFBertForSequenceClassification at 0x25c47795e20>"
      ]
     },
     "execution_count": 11,
     "metadata": {},
     "output_type": "execute_result"
    }
   ],
   "source": [
    "from model_helper import TFBertForSequenceClassification\n",
    "\n",
    "model_path = model_args.model_name_or_path\n",
    "model = TFBertForSequenceClassification.from_pretrained(\n",
    "    model_path,\n",
    "    config=config,\n",
    "    cache_dir=model_args.cache_dir,\n",
    "    revision=model_args.model_revision,\n",
    "    use_auth_token=True if model_args.use_auth_token else None,\n",
    ")\n",
    "model"
   ]
  },
  {
   "cell_type": "code",
   "execution_count": 12,
   "metadata": {},
   "outputs": [
    {
     "name": "stdout",
     "output_type": "stream",
     "text": [
      "Model: \"tf_bert_for_sequence_classification\"\n",
      "_________________________________________________________________\n",
      " Layer (type)                Output Shape              Param #   \n",
      "=================================================================\n",
      " bert (TFBertMainLayer)      multiple                  102267648 \n",
      "                                                                 \n",
      " dropout_37 (Dropout)        multiple                  0         \n",
      "                                                                 \n",
      " dropout_38 (Dropout)        multiple                  0         \n",
      "                                                                 \n",
      " classifier1 (Dense)         multiple                  4614      \n",
      "                                                                 \n",
      " classifier2 (Dense)         multiple                  19225     \n",
      "                                                                 \n",
      "=================================================================\n",
      "Total params: 102,291,487\n",
      "Trainable params: 102,291,487\n",
      "Non-trainable params: 0\n",
      "_________________________________________________________________\n"
     ]
    }
   ],
   "source": [
    "model.summary()"
   ]
  },
  {
   "cell_type": "code",
   "execution_count": 13,
   "metadata": {},
   "outputs": [],
   "source": [
    "optimizer = keras.optimizers.Adam(\n",
    "    learning_rate=training_args.learning_rate,\n",
    "    beta_1=training_args.adam_beta1,\n",
    "    beta_2=training_args.adam_beta2,\n",
    "    epsilon=training_args.adam_epsilon,\n",
    "    clipnorm=training_args.max_grad_norm,\n",
    ")\n",
    "loss_fn = keras.losses.SparseCategoricalCrossentropy(from_logits=True)\n",
    "loss_fn2 = keras.losses.SparseCategoricalCrossentropy(from_logits=True)\n",
    "metrics = [\"accuracy\"]\n",
    "# model.compile(optimizer=optimizer, loss={\"output_1\": loss_fn, \"output_2\": loss_fn2}, metrics=metrics)\n",
    "model.compile(optimizer=optimizer, loss=[loss_fn, loss_fn2], metrics=metrics)"
   ]
  },
  {
   "cell_type": "code",
   "execution_count": 14,
   "metadata": {},
   "outputs": [
    {
     "name": "stdout",
     "output_type": "stream",
     "text": [
      "Epoch 1/5\n",
      "len(output) 2\n"
     ]
    },
    {
     "ename": "ValueError",
     "evalue": "in user code:\n\n    File \"C:\\Anaconda3\\envs\\transformers\\lib\\site-packages\\keras\\engine\\training.py\", line 878, in train_function  *\n        return step_function(self, iterator)\n    File \"C:\\Anaconda3\\envs\\transformers\\lib\\site-packages\\keras\\engine\\training.py\", line 867, in step_function  **\n        outputs = model.distribute_strategy.run(run_step, args=(data,))\n    File \"C:\\Anaconda3\\envs\\transformers\\lib\\site-packages\\keras\\engine\\training.py\", line 860, in run_step  **\n        outputs = model.train_step(data)\n    File \"C:\\Anaconda3\\envs\\transformers\\lib\\site-packages\\transformers\\modeling_tf_utils.py\", line 914, in train_step\n        loss = self.compiled_loss(y, y_pred, sample_weight, regularization_losses=self.losses)\n    File \"C:\\Anaconda3\\envs\\transformers\\lib\\site-packages\\keras\\engine\\compile_utils.py\", line 180, in __call__\n        y_true = self._conform_to_outputs(y_pred, y_true)\n    File \"C:\\Anaconda3\\envs\\transformers\\lib\\site-packages\\keras\\engine\\compile_utils.py\", line 56, in _conform_to_outputs\n        struct = map_to_output_names(outputs, self._output_names, struct)\n    File \"C:\\Anaconda3\\envs\\transformers\\lib\\site-packages\\keras\\engine\\compile_utils.py\", line 652, in map_to_output_names\n        raise ValueError(\n\n    ValueError: Found unexpected losses or metrics that do not correspond to any Model output: dict_keys(['label1', 'label2']). Valid mode output names: ['output_1', 'output_2']. Received struct is: {'label1': <tf.Tensor 'ExpandDims_2:0' shape=(8, 1) dtype=int64>, 'label2': <tf.Tensor 'ExpandDims_3:0' shape=(8, 1) dtype=int64>}.\n",
     "output_type": "error",
     "traceback": [
      "\u001b[1;31m---------------------------------------------------------------------------\u001b[0m",
      "\u001b[1;31mValueError\u001b[0m                                Traceback (most recent call last)",
      "\u001b[1;32m~\\AppData\\Local\\Temp/ipykernel_23608/3283910639.py\u001b[0m in \u001b[0;36m<module>\u001b[1;34m\u001b[0m\n\u001b[1;32m----> 1\u001b[1;33m model.fit(\n\u001b[0m\u001b[0;32m      2\u001b[0m     \u001b[0mtf_data\u001b[0m\u001b[1;33m[\u001b[0m\u001b[1;34m\"train\"\u001b[0m\u001b[1;33m]\u001b[0m\u001b[1;33m,\u001b[0m\u001b[1;33m\u001b[0m\u001b[1;33m\u001b[0m\u001b[0m\n\u001b[0;32m      3\u001b[0m     \u001b[0mvalidation_data\u001b[0m\u001b[1;33m=\u001b[0m\u001b[0mtf_data\u001b[0m\u001b[1;33m[\u001b[0m\u001b[1;34m\"validation\"\u001b[0m\u001b[1;33m]\u001b[0m\u001b[1;33m,\u001b[0m\u001b[1;33m\u001b[0m\u001b[1;33m\u001b[0m\u001b[0m\n\u001b[0;32m      4\u001b[0m     \u001b[0mepochs\u001b[0m\u001b[1;33m=\u001b[0m\u001b[0mint\u001b[0m\u001b[1;33m(\u001b[0m\u001b[0mtraining_args\u001b[0m\u001b[1;33m.\u001b[0m\u001b[0mnum_train_epochs\u001b[0m\u001b[1;33m)\u001b[0m\u001b[1;33m,\u001b[0m\u001b[1;33m\u001b[0m\u001b[1;33m\u001b[0m\u001b[0m\n\u001b[0;32m      5\u001b[0m     \u001b[0mcallbacks\u001b[0m\u001b[1;33m=\u001b[0m\u001b[1;33m[\u001b[0m\u001b[1;33m]\u001b[0m\u001b[1;33m,\u001b[0m\u001b[1;33m\u001b[0m\u001b[1;33m\u001b[0m\u001b[0m\n",
      "\u001b[1;32mC:\\Anaconda3\\envs\\transformers\\lib\\site-packages\\keras\\utils\\traceback_utils.py\u001b[0m in \u001b[0;36merror_handler\u001b[1;34m(*args, **kwargs)\u001b[0m\n\u001b[0;32m     65\u001b[0m     \u001b[1;32mexcept\u001b[0m \u001b[0mException\u001b[0m \u001b[1;32mas\u001b[0m \u001b[0me\u001b[0m\u001b[1;33m:\u001b[0m  \u001b[1;31m# pylint: disable=broad-except\u001b[0m\u001b[1;33m\u001b[0m\u001b[1;33m\u001b[0m\u001b[0m\n\u001b[0;32m     66\u001b[0m       \u001b[0mfiltered_tb\u001b[0m \u001b[1;33m=\u001b[0m \u001b[0m_process_traceback_frames\u001b[0m\u001b[1;33m(\u001b[0m\u001b[0me\u001b[0m\u001b[1;33m.\u001b[0m\u001b[0m__traceback__\u001b[0m\u001b[1;33m)\u001b[0m\u001b[1;33m\u001b[0m\u001b[1;33m\u001b[0m\u001b[0m\n\u001b[1;32m---> 67\u001b[1;33m       \u001b[1;32mraise\u001b[0m \u001b[0me\u001b[0m\u001b[1;33m.\u001b[0m\u001b[0mwith_traceback\u001b[0m\u001b[1;33m(\u001b[0m\u001b[0mfiltered_tb\u001b[0m\u001b[1;33m)\u001b[0m \u001b[1;32mfrom\u001b[0m \u001b[1;32mNone\u001b[0m\u001b[1;33m\u001b[0m\u001b[1;33m\u001b[0m\u001b[0m\n\u001b[0m\u001b[0;32m     68\u001b[0m     \u001b[1;32mfinally\u001b[0m\u001b[1;33m:\u001b[0m\u001b[1;33m\u001b[0m\u001b[1;33m\u001b[0m\u001b[0m\n\u001b[0;32m     69\u001b[0m       \u001b[1;32mdel\u001b[0m \u001b[0mfiltered_tb\u001b[0m\u001b[1;33m\u001b[0m\u001b[1;33m\u001b[0m\u001b[0m\n",
      "\u001b[1;32mC:\\Anaconda3\\envs\\transformers\\lib\\site-packages\\tensorflow\\python\\framework\\func_graph.py\u001b[0m in \u001b[0;36mautograph_handler\u001b[1;34m(*args, **kwargs)\u001b[0m\n\u001b[0;32m   1127\u001b[0m           \u001b[1;32mexcept\u001b[0m \u001b[0mException\u001b[0m \u001b[1;32mas\u001b[0m \u001b[0me\u001b[0m\u001b[1;33m:\u001b[0m  \u001b[1;31m# pylint:disable=broad-except\u001b[0m\u001b[1;33m\u001b[0m\u001b[1;33m\u001b[0m\u001b[0m\n\u001b[0;32m   1128\u001b[0m             \u001b[1;32mif\u001b[0m \u001b[0mhasattr\u001b[0m\u001b[1;33m(\u001b[0m\u001b[0me\u001b[0m\u001b[1;33m,\u001b[0m \u001b[1;34m\"ag_error_metadata\"\u001b[0m\u001b[1;33m)\u001b[0m\u001b[1;33m:\u001b[0m\u001b[1;33m\u001b[0m\u001b[1;33m\u001b[0m\u001b[0m\n\u001b[1;32m-> 1129\u001b[1;33m               \u001b[1;32mraise\u001b[0m \u001b[0me\u001b[0m\u001b[1;33m.\u001b[0m\u001b[0mag_error_metadata\u001b[0m\u001b[1;33m.\u001b[0m\u001b[0mto_exception\u001b[0m\u001b[1;33m(\u001b[0m\u001b[0me\u001b[0m\u001b[1;33m)\u001b[0m\u001b[1;33m\u001b[0m\u001b[1;33m\u001b[0m\u001b[0m\n\u001b[0m\u001b[0;32m   1130\u001b[0m             \u001b[1;32melse\u001b[0m\u001b[1;33m:\u001b[0m\u001b[1;33m\u001b[0m\u001b[1;33m\u001b[0m\u001b[0m\n\u001b[0;32m   1131\u001b[0m               \u001b[1;32mraise\u001b[0m\u001b[1;33m\u001b[0m\u001b[1;33m\u001b[0m\u001b[0m\n",
      "\u001b[1;31mValueError\u001b[0m: in user code:\n\n    File \"C:\\Anaconda3\\envs\\transformers\\lib\\site-packages\\keras\\engine\\training.py\", line 878, in train_function  *\n        return step_function(self, iterator)\n    File \"C:\\Anaconda3\\envs\\transformers\\lib\\site-packages\\keras\\engine\\training.py\", line 867, in step_function  **\n        outputs = model.distribute_strategy.run(run_step, args=(data,))\n    File \"C:\\Anaconda3\\envs\\transformers\\lib\\site-packages\\keras\\engine\\training.py\", line 860, in run_step  **\n        outputs = model.train_step(data)\n    File \"C:\\Anaconda3\\envs\\transformers\\lib\\site-packages\\transformers\\modeling_tf_utils.py\", line 914, in train_step\n        loss = self.compiled_loss(y, y_pred, sample_weight, regularization_losses=self.losses)\n    File \"C:\\Anaconda3\\envs\\transformers\\lib\\site-packages\\keras\\engine\\compile_utils.py\", line 180, in __call__\n        y_true = self._conform_to_outputs(y_pred, y_true)\n    File \"C:\\Anaconda3\\envs\\transformers\\lib\\site-packages\\keras\\engine\\compile_utils.py\", line 56, in _conform_to_outputs\n        struct = map_to_output_names(outputs, self._output_names, struct)\n    File \"C:\\Anaconda3\\envs\\transformers\\lib\\site-packages\\keras\\engine\\compile_utils.py\", line 652, in map_to_output_names\n        raise ValueError(\n\n    ValueError: Found unexpected losses or metrics that do not correspond to any Model output: dict_keys(['label1', 'label2']). Valid mode output names: ['output_1', 'output_2']. Received struct is: {'label1': <tf.Tensor 'ExpandDims_2:0' shape=(8, 1) dtype=int64>, 'label2': <tf.Tensor 'ExpandDims_3:0' shape=(8, 1) dtype=int64>}.\n"
     ]
    }
   ],
   "source": [
    "model.fit(\n",
    "    tf_data[\"train\"],\n",
    "    validation_data=tf_data[\"validation\"],\n",
    "    epochs=int(training_args.num_train_epochs),\n",
    "    callbacks=[],\n",
    ")"
   ]
  }
 ],
 "metadata": {
  "interpreter": {
   "hash": "21ade77d1a005a9febcfd29d2ec0dea48f74b0b2dc097f0a2ba8132806873fea"
  },
  "kernelspec": {
   "display_name": "Python 3.9.7 ('transformers')",
   "language": "python",
   "name": "python3"
  },
  "language_info": {
   "codemirror_mode": {
    "name": "ipython",
    "version": 3
   },
   "file_extension": ".py",
   "mimetype": "text/x-python",
   "name": "python",
   "nbconvert_exporter": "python",
   "pygments_lexer": "ipython3",
   "version": "3.9.7"
  },
  "orig_nbformat": 4
 },
 "nbformat": 4,
 "nbformat_minor": 2
}
