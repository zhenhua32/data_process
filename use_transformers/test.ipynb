{
 "cells": [
  {
   "cell_type": "code",
   "execution_count": 1,
   "metadata": {},
   "outputs": [],
   "source": [
    "import pandas as pd"
   ]
  },
  {
   "cell_type": "code",
   "execution_count": 3,
   "metadata": {},
   "outputs": [
    {
     "data": {
      "text/html": [
       "<div>\n",
       "<style scoped>\n",
       "    .dataframe tbody tr th:only-of-type {\n",
       "        vertical-align: middle;\n",
       "    }\n",
       "\n",
       "    .dataframe tbody tr th {\n",
       "        vertical-align: top;\n",
       "    }\n",
       "\n",
       "    .dataframe thead th {\n",
       "        text-align: right;\n",
       "    }\n",
       "</style>\n",
       "<table border=\"1\" class=\"dataframe\">\n",
       "  <thead>\n",
       "    <tr style=\"text-align: right;\">\n",
       "      <th></th>\n",
       "      <th>label</th>\n",
       "      <th>sentence1</th>\n",
       "    </tr>\n",
       "  </thead>\n",
       "  <tbody>\n",
       "    <tr>\n",
       "      <th>0</th>\n",
       "      <td>政务_文旅</td>\n",
       "      <td>安徽三祖寺发现佛牙舍利 初步判断为宋代皇家所赐</td>\n",
       "    </tr>\n",
       "    <tr>\n",
       "      <th>1</th>\n",
       "      <td>科技_数码</td>\n",
       "      <td>员工曝苹果2022年春季发布会要来了！iPhone SE 3即将发布</td>\n",
       "    </tr>\n",
       "    <tr>\n",
       "      <th>2</th>\n",
       "      <td>汽车_行业</td>\n",
       "      <td>俄乌战争使大众向中国和美国转移产能</td>\n",
       "    </tr>\n",
       "    <tr>\n",
       "      <th>3</th>\n",
       "      <td>科技_车科技</td>\n",
       "      <td>再也不怕事故扯皮！所有新车全面上线黑匣子：比行车记录仪好用</td>\n",
       "    </tr>\n",
       "    <tr>\n",
       "      <th>4</th>\n",
       "      <td>体育_中国足球</td>\n",
       "      <td>终身禁赛！体育总局和公安部联手严查严打赌球假球行为</td>\n",
       "    </tr>\n",
       "    <tr>\n",
       "      <th>...</th>\n",
       "      <td>...</td>\n",
       "      <td>...</td>\n",
       "    </tr>\n",
       "    <tr>\n",
       "      <th>3915</th>\n",
       "      <td>政务_发展治理</td>\n",
       "      <td>住建部约谈五城背后：东莞房价涨幅超深圳、房企南通激战抢地</td>\n",
       "    </tr>\n",
       "    <tr>\n",
       "      <th>3916</th>\n",
       "      <td>体育_NBA</td>\n",
       "      <td>欧文回应与哈登不和传言：别把我名字放到这些傻瓜文章里！</td>\n",
       "    </tr>\n",
       "    <tr>\n",
       "      <th>3917</th>\n",
       "      <td>政务_发展治理</td>\n",
       "      <td>统计局：中国3月CPI同比增长0.4%，环比下降0.5%</td>\n",
       "    </tr>\n",
       "    <tr>\n",
       "      <th>3918</th>\n",
       "      <td>娱乐_电影</td>\n",
       "      <td>她这组写真照真不错</td>\n",
       "    </tr>\n",
       "    <tr>\n",
       "      <th>3919</th>\n",
       "      <td>体育_国际足球</td>\n",
       "      <td>球迷怒斥金球奖颁给梅西是耻辱 竟收获C罗寄来的签名球衣</td>\n",
       "    </tr>\n",
       "  </tbody>\n",
       "</table>\n",
       "<p>3920 rows × 2 columns</p>\n",
       "</div>"
      ],
      "text/plain": [
       "        label                           sentence1\n",
       "0       政务_文旅             安徽三祖寺发现佛牙舍利 初步判断为宋代皇家所赐\n",
       "1       科技_数码  员工曝苹果2022年春季发布会要来了！iPhone SE 3即将发布\n",
       "2       汽车_行业                   俄乌战争使大众向中国和美国转移产能\n",
       "3      科技_车科技       再也不怕事故扯皮！所有新车全面上线黑匣子：比行车记录仪好用\n",
       "4     体育_中国足球           终身禁赛！体育总局和公安部联手严查严打赌球假球行为\n",
       "...       ...                                 ...\n",
       "3915  政务_发展治理        住建部约谈五城背后：东莞房价涨幅超深圳、房企南通激战抢地\n",
       "3916   体育_NBA         欧文回应与哈登不和传言：别把我名字放到这些傻瓜文章里！\n",
       "3917  政务_发展治理        统计局：中国3月CPI同比增长0.4%，环比下降0.5%\n",
       "3918    娱乐_电影                           她这组写真照真不错\n",
       "3919  体育_国际足球         球迷怒斥金球奖颁给梅西是耻辱 竟收获C罗寄来的签名球衣\n",
       "\n",
       "[3920 rows x 2 columns]"
      ]
     },
     "execution_count": 3,
     "metadata": {},
     "output_type": "execute_result"
    }
   ],
   "source": [
    "df = pd.read_csv(\"./ifeng_data/train.csv\", header=0, sep=\"\\t\")\n",
    "df"
   ]
  },
  {
   "cell_type": "code",
   "execution_count": 9,
   "metadata": {},
   "outputs": [
    {
     "data": {
      "text/plain": [
       "31.0"
      ]
     },
     "execution_count": 9,
     "metadata": {},
     "output_type": "execute_result"
    }
   ],
   "source": [
    "df[\"sentence1\"].str.len().quantile(0.9)"
   ]
  }
 ],
 "metadata": {
  "interpreter": {
   "hash": "21ade77d1a005a9febcfd29d2ec0dea48f74b0b2dc097f0a2ba8132806873fea"
  },
  "kernelspec": {
   "display_name": "Python 3.9.7 ('transformers')",
   "language": "python",
   "name": "python3"
  },
  "language_info": {
   "codemirror_mode": {
    "name": "ipython",
    "version": 3
   },
   "file_extension": ".py",
   "mimetype": "text/x-python",
   "name": "python",
   "nbconvert_exporter": "python",
   "pygments_lexer": "ipython3",
   "version": "3.9.7"
  },
  "orig_nbformat": 4
 },
 "nbformat": 4,
 "nbformat_minor": 2
}
