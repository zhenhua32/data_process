{
 "cells": [
  {
   "cell_type": "code",
   "execution_count": 1,
   "metadata": {},
   "outputs": [],
   "source": [
    "import tensorflow as tf\n",
    "import torch\n",
    "import numpy as np"
   ]
  },
  {
   "cell_type": "code",
   "execution_count": 168,
   "metadata": {},
   "outputs": [
    {
     "name": "stdout",
     "output_type": "stream",
     "text": [
      "tf.Tensor(\n",
      "[[4 5 6]\n",
      " [1 2 3]], shape=(2, 3), dtype=int32)\n",
      "tf.Tensor(\n",
      "[[2 1]\n",
      " [5 4]], shape=(2, 2), dtype=int32)\n",
      "tf.Tensor([2 4], shape=(2,), dtype=int32)\n"
     ]
    }
   ],
   "source": [
    "# TODO: 我的场景如下\n",
    "a = tf.Variable([[1, 2, 3], [4, 5, 6]])\n",
    "indices = tf.constant([1, 0])\n",
    "# 然后要对 a 的 axis=0 上的每个进行操作, 将 indices 对应的值都变成某个值\n",
    "print(tf.gather(a, indices))\n",
    "print(tf.gather(a, indices, axis=1))\n",
    "print(tf.gather(a, indices, batch_dims=1))"
   ]
  },
  {
   "cell_type": "code",
   "execution_count": 161,
   "metadata": {},
   "outputs": [
    {
     "name": "stdout",
     "output_type": "stream",
     "text": [
      "tf.Tensor(\n",
      "[[1 4]\n",
      " [2 5]\n",
      " [3 6]], shape=(3, 2), dtype=int32)\n",
      "1\n",
      "(2, 1)\n",
      "tf.Tensor(\n",
      "[[1 1]\n",
      " [1 1]], shape=(2, 2), dtype=int32)\n",
      "tf.Tensor(\n",
      "[[0 0]\n",
      " [0 0]\n",
      " [3 6]], shape=(3, 2), dtype=int32)\n"
     ]
    },
    {
     "data": {
      "text/plain": [
       "<tf.Tensor: shape=(2, 3), dtype=int32, numpy=\n",
       "array([[0, 0, 3],\n",
       "       [0, 0, 6]])>"
      ]
     },
     "execution_count": 161,
     "metadata": {},
     "output_type": "execute_result"
    }
   ],
   "source": [
    "a = tf.Variable([[1, 2, 3], [4, 5, 6]])\n",
    "a = tf.transpose(a, perm=[1, 0])\n",
    "indices = tf.constant([1, 0])\n",
    "print(a)\n",
    "print(indices.shape.rank)\n",
    "print(tf.constant([[1], [0]]).shape)\n",
    "print(tf.ones([2, 2], dtype=tf.int32))\n",
    "result = tf.tensor_scatter_nd_update(a, tf.reshape(indices, (-1, 1)), tf.zeros([2, 2], dtype=tf.int32))\n",
    "print(result)\n",
    "tf.transpose(result, perm=[1, 0])"
   ]
  },
  {
   "cell_type": "code",
   "execution_count": 167,
   "metadata": {},
   "outputs": [
    {
     "data": {
      "text/plain": [
       "<tf.Tensor: shape=(2, 4), dtype=int32, numpy=\n",
       "array([[0, 0, 3, 1],\n",
       "       [0, 0, 6, 2]])>"
      ]
     },
     "execution_count": 167,
     "metadata": {},
     "output_type": "execute_result"
    }
   ],
   "source": [
    "# a 是 (2, 3)\n",
    "a = tf.Variable([[1, 2, 3, 1], [4, 5, 6, 2]])\n",
    "# 调换 axis 的顺序, 变成 (3, 2)\n",
    "a = tf.transpose(a, perm=[1, 0])\n",
    "# 定义需要修改的列的索引. 其实现在是行, 因为 a 已经改变了行列的顺序\n",
    "indices = tf.constant([1, 0])\n",
    "# 首先, indices 必须先变成 (2, 1) 的形状, 因为要求 rank 必须 >= 2\n",
    "# 然后定义 update 的形状, 第一个维度是 indices.shape[0], 第二个维度是 a.shape[1:]\n",
    "updates = tf.zeros([indices.shape[0]] + a.shape[1:], dtype=tf.int32)\n",
    "result = tf.tensor_scatter_nd_update(a, tf.reshape(indices, (-1, 1)), updates)\n",
    "tf.transpose(result, perm=[1, 0])"
   ]
  },
  {
   "cell_type": "code",
   "execution_count": 137,
   "metadata": {},
   "outputs": [
    {
     "data": {
      "text/plain": [
       "<tf.Tensor: shape=(2, 3), dtype=float32, numpy=\n",
       "array([[1., 1., 1.],\n",
       "       [1., 1., 1.]], dtype=float32)>"
      ]
     },
     "execution_count": 137,
     "metadata": {},
     "output_type": "execute_result"
    }
   ],
   "source": [
    "tf.ones(a.shape)"
   ]
  },
  {
   "cell_type": "code",
   "execution_count": 3,
   "metadata": {},
   "outputs": [
    {
     "data": {
      "text/plain": [
       "<tf.Tensor: shape=(1, 5), dtype=int32, numpy=array([[1, 2, 3, 4, 5]])>"
      ]
     },
     "execution_count": 3,
     "metadata": {},
     "output_type": "execute_result"
    }
   ],
   "source": [
    "a = [[1, 2, 3, 4, 5]]\n",
    "tf_a = tf.constant(a)\n",
    "tf_a"
   ]
  },
  {
   "cell_type": "code",
   "execution_count": 42,
   "metadata": {},
   "outputs": [
    {
     "data": {
      "text/plain": [
       "array([[4, 2, 2, 3]])"
      ]
     },
     "execution_count": 42,
     "metadata": {},
     "output_type": "execute_result"
    }
   ],
   "source": [
    "tf.gather(tf_a, axis=1, indices=[3, 1, 1, 2]).numpy()"
   ]
  },
  {
   "cell_type": "code",
   "execution_count": 46,
   "metadata": {},
   "outputs": [
    {
     "data": {
      "text/plain": [
       "<tf.Tensor: shape=(1, 2), dtype=int32, numpy=array([[1, 2]])>"
      ]
     },
     "execution_count": 46,
     "metadata": {},
     "output_type": "execute_result"
    }
   ],
   "source": [
    "tf.gather(tf_a, axis=1, indices=[0, 1])"
   ]
  },
  {
   "cell_type": "code",
   "execution_count": 77,
   "metadata": {},
   "outputs": [
    {
     "data": {
      "text/plain": [
       "<tf.Tensor: shape=(1, 5), dtype=int32, numpy=array([[10, 10,  3,  4,  5]])>"
      ]
     },
     "execution_count": 77,
     "metadata": {},
     "output_type": "execute_result"
    }
   ],
   "source": [
    "tf.tensor_scatter_nd_update(tf_a, [[0, 0], [0, 1]], [10, 10])"
   ]
  },
  {
   "cell_type": "code",
   "execution_count": 17,
   "metadata": {},
   "outputs": [
    {
     "data": {
      "text/plain": [
       "array([[ 2.,  1.],\n",
       "       [12., 11.],\n",
       "       [22., 21.],\n",
       "       [32., 31.]], dtype=float32)"
      ]
     },
     "execution_count": 17,
     "metadata": {},
     "output_type": "execute_result"
    }
   ],
   "source": [
    "params = tf.constant([[0, 1.0, 2.0],\n",
    "                      [10.0, 11.0, 12.0],\n",
    "                      [20.0, 21.0, 22.0],\n",
    "                      [30.0, 31.0, 32.0]])\n",
    "tf.gather(params, indices=[2,1], axis=1).numpy()"
   ]
  },
  {
   "cell_type": "code",
   "execution_count": 35,
   "metadata": {},
   "outputs": [
    {
     "data": {
      "text/plain": [
       "array([[30., 31., 32.]], dtype=float32)"
      ]
     },
     "execution_count": 35,
     "metadata": {},
     "output_type": "execute_result"
    }
   ],
   "source": [
    "tf.expand_dims(params[3], 0).numpy()"
   ]
  },
  {
   "cell_type": "code",
   "execution_count": 23,
   "metadata": {},
   "outputs": [
    {
     "data": {
      "text/plain": [
       "array([ 2., 12., 22., 32.], dtype=float32)"
      ]
     },
     "execution_count": 23,
     "metadata": {},
     "output_type": "execute_result"
    }
   ],
   "source": [
    "params[:, 2].numpy()"
   ]
  },
  {
   "cell_type": "code",
   "execution_count": 39,
   "metadata": {},
   "outputs": [
    {
     "data": {
      "text/plain": [
       "array([[ 2.,  1.],\n",
       "       [12., 11.],\n",
       "       [22., 21.],\n",
       "       [32., 31.]], dtype=float32)"
      ]
     },
     "execution_count": 39,
     "metadata": {},
     "output_type": "execute_result"
    }
   ],
   "source": [
    "np.concatenate([tf.expand_dims(params[:, 2], 1).numpy() , tf.expand_dims( params[:, 1], 1).numpy()], axis=1)"
   ]
  },
  {
   "cell_type": "code",
   "execution_count": 101,
   "metadata": {},
   "outputs": [
    {
     "data": {
      "text/plain": [
       "array([[1, 0],\n",
       "       [0, 0],\n",
       "       [0, 5]])"
      ]
     },
     "execution_count": 101,
     "metadata": {},
     "output_type": "execute_result"
    }
   ],
   "source": [
    "np.stack([params[:, 2], params[:, 1]], axis=1)"
   ]
  },
  {
   "cell_type": "code",
   "execution_count": 78,
   "metadata": {},
   "outputs": [
    {
     "name": "stdout",
     "output_type": "stream",
     "text": [
      "(4, 3)\n"
     ]
    }
   ],
   "source": [
    "params = tf.constant([[0, 1.0, 2.0],\n",
    "                      [10.0, 11.0, 12.0],\n",
    "                      [20.0, 21.0, 22.0],\n",
    "                      [30.0, 31.0, 32.0]])\n",
    "print(params.shape)"
   ]
  },
  {
   "cell_type": "code",
   "execution_count": 79,
   "metadata": {},
   "outputs": [
    {
     "data": {
      "text/plain": [
       "TensorShape([2, 3])"
      ]
     },
     "execution_count": 79,
     "metadata": {},
     "output_type": "execute_result"
    }
   ],
   "source": [
    "tf.gather(params, indices=[3,1], axis=0).shape"
   ]
  },
  {
   "cell_type": "code",
   "execution_count": 83,
   "metadata": {},
   "outputs": [
    {
     "name": "stdout",
     "output_type": "stream",
     "text": [
      "(6,)\n"
     ]
    },
    {
     "data": {
      "text/plain": [
       "(2, 2)"
      ]
     },
     "execution_count": 83,
     "metadata": {},
     "output_type": "execute_result"
    }
   ],
   "source": [
    "params = tf.constant(['p0', 'p1', 'p2', 'p3', 'p4', 'p5'])\n",
    "print(params.shape)\n",
    "tf.gather(params, [[2, 0], [2, 5]]).numpy().shape"
   ]
  },
  {
   "cell_type": "code",
   "execution_count": 95,
   "metadata": {},
   "outputs": [
    {
     "data": {
      "text/plain": [
       "array([[[1, 2],\n",
       "        [0, 2],\n",
       "        [0, 0]],\n",
       "\n",
       "       [[0, 4],\n",
       "        [3, 4],\n",
       "        [0, 0]],\n",
       "\n",
       "       [[0, 0],\n",
       "        [0, 0],\n",
       "        [5, 6]]])"
      ]
     },
     "execution_count": 95,
     "metadata": {},
     "output_type": "execute_result"
    }
   ],
   "source": [
    "params = tf.constant([\n",
    "    [0, 0, 1, 0, 2],\n",
    "    [3, 0, 0, 0, 4],\n",
    "    [0, 5, 0, 6, 0]])\n",
    "indices = tf.constant([\n",
    "    [2, 4],\n",
    "    [0, 4],\n",
    "    [1, 3]])\n",
    "tf.gather(params, indices, axis=1, batch_dims=0).numpy()"
   ]
  },
  {
   "cell_type": "code",
   "execution_count": 88,
   "metadata": {},
   "outputs": [
    {
     "data": {
      "text/plain": [
       "array([[1, 2],\n",
       "       [3, 4],\n",
       "       [5, 6]])"
      ]
     },
     "execution_count": 88,
     "metadata": {},
     "output_type": "execute_result"
    }
   ],
   "source": [
    "tf.gather(params, indices, axis=1, batch_dims=1).numpy()"
   ]
  },
  {
   "cell_type": "code",
   "execution_count": 93,
   "metadata": {},
   "outputs": [
    {
     "name": "stdout",
     "output_type": "stream",
     "text": [
      "tf.Tensor([0 0 1 0 2], shape=(5,), dtype=int32) tf.Tensor([2 4], shape=(2,), dtype=int32)\n",
      "tf.Tensor([1 2], shape=(2,), dtype=int32)\n",
      "tf.Tensor([3 0 0 0 4], shape=(5,), dtype=int32) tf.Tensor([0 4], shape=(2,), dtype=int32)\n",
      "tf.Tensor([3 4], shape=(2,), dtype=int32)\n",
      "tf.Tensor([0 5 0 6 0], shape=(5,), dtype=int32) tf.Tensor([1 3], shape=(2,), dtype=int32)\n",
      "tf.Tensor([5 6], shape=(2,), dtype=int32)\n"
     ]
    },
    {
     "data": {
      "text/plain": [
       "array([[1, 2],\n",
       "       [3, 4],\n",
       "       [5, 6]])"
      ]
     },
     "execution_count": 93,
     "metadata": {},
     "output_type": "execute_result"
    }
   ],
   "source": [
    "def manually_batched_gather(params, indices, axis):\n",
    "  batch_dims=1\n",
    "  result = []\n",
    "  for p,i in zip(params, indices):\n",
    "    print(p, i)\n",
    "    r = tf.gather(p, i, axis=axis-batch_dims)\n",
    "    print(r)\n",
    "    result.append(r)\n",
    "  return tf.stack(result)\n",
    "manually_batched_gather(params, indices, axis=1).numpy()"
   ]
  },
  {
   "cell_type": "code",
   "execution_count": 117,
   "metadata": {},
   "outputs": [
    {
     "data": {
      "text/plain": [
       "(2, 1, 2)"
      ]
     },
     "execution_count": 117,
     "metadata": {},
     "output_type": "execute_result"
    }
   ],
   "source": [
    "tf.gather_nd(\n",
    "    batch_dims = 1,\n",
    "    indices = [[[1]], [[0]]],\n",
    "    params = [[['a0', 'b0'], ['c0', 'd0']],\n",
    "              [['a1', 'b1'], ['c1', 'd1']]]).numpy().shape"
   ]
  }
 ],
 "metadata": {
  "kernelspec": {
   "display_name": "Python 3.9.7 ('transformers')",
   "language": "python",
   "name": "python3"
  },
  "language_info": {
   "codemirror_mode": {
    "name": "ipython",
    "version": 3
   },
   "file_extension": ".py",
   "mimetype": "text/x-python",
   "name": "python",
   "nbconvert_exporter": "python",
   "pygments_lexer": "ipython3",
   "version": "3.9.7"
  },
  "orig_nbformat": 4,
  "vscode": {
   "interpreter": {
    "hash": "d8025d30852334e6e768ca567da121c1aa274c2c5a5a8a9ff400eded44c1a99b"
   }
  }
 },
 "nbformat": 4,
 "nbformat_minor": 2
}
