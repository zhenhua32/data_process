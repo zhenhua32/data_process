{
 "cells": [
  {
   "cell_type": "code",
   "execution_count": 2,
   "metadata": {},
   "outputs": [],
   "source": [
    "from transformers import BertForMaskedLM, BertForMaskedLM, TFBertForMaskedLM, BertTokenizerFast\n",
    "# https://zhuanlan.zhihu.com/p/349331135"
   ]
  },
  {
   "cell_type": "code",
   "execution_count": 5,
   "metadata": {},
   "outputs": [],
   "source": [
    "tokenizer = BertTokenizerFast.from_pretrained(\"pretrained_bert\")"
   ]
  },
  {
   "cell_type": "code",
   "execution_count": 6,
   "metadata": {},
   "outputs": [
    {
     "data": {
      "text/plain": [
       "{'input_ids': [2, 561, 935, 1, 525, 1, 315, 255, 985, 320, 645, 3], 'token_type_ids': [0, 0, 0, 0, 0, 0, 0, 0, 0, 0, 0, 0], 'attention_mask': [1, 1, 1, 1, 1, 1, 1, 1, 1, 1, 1, 1]}"
      ]
     },
     "execution_count": 6,
     "metadata": {},
     "output_type": "execute_result"
    }
   ],
   "source": [
    "tokenizer(\"杨采钰明艳复古风大片\")"
   ]
  },
  {
   "cell_type": "code",
   "execution_count": 7,
   "metadata": {},
   "outputs": [
    {
     "name": "stderr",
     "output_type": "stream",
     "text": [
      "Some weights of the PyTorch model were not used when initializing the TF 2.0 model TFBertForMaskedLM: ['cls.predictions.decoder.bias', 'bert.embeddings.position_ids']\n",
      "- This IS expected if you are initializing TFBertForMaskedLM from a PyTorch model trained on another task or with another architecture (e.g. initializing a TFBertForSequenceClassification model from a BertForPreTraining model).\n",
      "- This IS NOT expected if you are initializing TFBertForMaskedLM from a PyTorch model that you expect to be exactly identical (e.g. initializing a TFBertForSequenceClassification model from a BertForSequenceClassification model).\n",
      "All the weights of TFBertForMaskedLM were initialized from the PyTorch model.\n",
      "If your task is similar to the task the model of the checkpoint was trained on, you can already use TFBertForMaskedLM for predictions without further training.\n"
     ]
    }
   ],
   "source": [
    "model = TFBertForMaskedLM.from_pretrained(\"pretrained_bert\", from_pt=True)"
   ]
  },
  {
   "cell_type": "code",
   "execution_count": 9,
   "metadata": {},
   "outputs": [
    {
     "data": {
      "text/plain": [
       "TFMaskedLMOutput(loss=None, logits=<tf.Tensor: shape=(1, 13, 2000), dtype=float32, numpy=\n",
       "array([[[-7.4694724, -5.8204107, -6.7780266, ..., -7.3554573,\n",
       "         -7.5991035, -6.926003 ],\n",
       "        [-7.4695044, -5.820405 , -6.7780886, ..., -7.355513 ,\n",
       "         -7.5991483, -6.926039 ],\n",
       "        [-7.4694953, -5.8204145, -6.778013 , ..., -7.355431 ,\n",
       "         -7.5990934, -6.926001 ],\n",
       "        ...,\n",
       "        [-7.469463 , -5.8203726, -6.7779846, ..., -7.3554373,\n",
       "         -7.5990324, -6.925999 ],\n",
       "        [-7.4694586, -5.820402 , -6.777973 , ..., -7.3554225,\n",
       "         -7.5990415, -6.9259763],\n",
       "        [-7.4694886, -5.8204536, -6.777983 , ..., -7.3554244,\n",
       "         -7.5991416, -6.925942 ]]], dtype=float32)>, hidden_states=None, attentions=None)"
      ]
     },
     "execution_count": 9,
     "metadata": {},
     "output_type": "execute_result"
    }
   ],
   "source": [
    "text = \"杨采钰明艳复古风[MASK]片.\"\n",
    "encoded_input = tokenizer(text, return_tensors='tf')\n",
    "model(encoded_input)"
   ]
  },
  {
   "cell_type": "code",
   "execution_count": 11,
   "metadata": {},
   "outputs": [
    {
     "data": {
      "text/plain": [
       "[{'score': 0.01527977455407381,\n",
       "  'token': 1003,\n",
       "  'token_str': '，',\n",
       "  'sequence': '杨 采 明 复 古 风 ， 片.'},\n",
       " {'score': 0.011427342891693115,\n",
       "  'token': 1004,\n",
       "  'token_str': '：',\n",
       "  'sequence': '杨 采 明 复 古 风 ： 片.'},\n",
       " {'score': 0.010652313008904457,\n",
       "  'token': 682,\n",
       "  'token_str': '的',\n",
       "  'sequence': '杨 采 明 复 古 风 的 片.'},\n",
       " {'score': 0.00969742238521576,\n",
       "  'token': 1002,\n",
       "  'token_str': '！',\n",
       "  'sequence': '杨 采 明 复 古 风 ！ 片.'},\n",
       " {'score': 0.008929425850510597,\n",
       "  'token': 295,\n",
       "  'token_str': '国',\n",
       "  'sequence': '杨 采 明 复 古 风 国 片.'}]"
      ]
     },
     "execution_count": 11,
     "metadata": {},
     "output_type": "execute_result"
    }
   ],
   "source": [
    "from transformers import pipeline\n",
    "unmasker = pipeline('fill-mask', model=model, tokenizer=tokenizer)\n",
    "unmasker(text)"
   ]
  },
  {
   "cell_type": "code",
   "execution_count": 12,
   "metadata": {},
   "outputs": [],
   "source": [
    "model.save_pretrained(\"output3\")"
   ]
  },
  {
   "cell_type": "code",
   "execution_count": 13,
   "metadata": {},
   "outputs": [],
   "source": [
    "model.save_weights()"
   ]
  }
 ],
 "metadata": {
  "interpreter": {
   "hash": "d8025d30852334e6e768ca567da121c1aa274c2c5a5a8a9ff400eded44c1a99b"
  },
  "kernelspec": {
   "display_name": "Python 3.9.7 ('transformers')",
   "language": "python",
   "name": "python3"
  },
  "language_info": {
   "codemirror_mode": {
    "name": "ipython",
    "version": 3
   },
   "file_extension": ".py",
   "mimetype": "text/x-python",
   "name": "python",
   "nbconvert_exporter": "python",
   "pygments_lexer": "ipython3",
   "version": "3.9.7"
  },
  "orig_nbformat": 4
 },
 "nbformat": 4,
 "nbformat_minor": 2
}
