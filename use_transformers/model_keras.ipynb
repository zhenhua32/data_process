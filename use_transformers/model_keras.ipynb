{
 "cells": [
  {
   "cell_type": "code",
   "execution_count": 1,
   "metadata": {},
   "outputs": [],
   "source": [
    "import pandas as pd"
   ]
  },
  {
   "cell_type": "code",
   "execution_count": 2,
   "metadata": {},
   "outputs": [
    {
     "data": {
      "text/html": [
       "<div>\n",
       "<style scoped>\n",
       "    .dataframe tbody tr th:only-of-type {\n",
       "        vertical-align: middle;\n",
       "    }\n",
       "\n",
       "    .dataframe tbody tr th {\n",
       "        vertical-align: top;\n",
       "    }\n",
       "\n",
       "    .dataframe thead th {\n",
       "        text-align: right;\n",
       "    }\n",
       "</style>\n",
       "<table border=\"1\" class=\"dataframe\">\n",
       "  <thead>\n",
       "    <tr style=\"text-align: right;\">\n",
       "      <th></th>\n",
       "      <th>label</th>\n",
       "      <th>sentence1</th>\n",
       "    </tr>\n",
       "  </thead>\n",
       "  <tbody>\n",
       "    <tr>\n",
       "      <th>0</th>\n",
       "      <td>政务_文旅</td>\n",
       "      <td>安徽三祖寺发现佛牙舍利 初步判断为宋代皇家所赐</td>\n",
       "    </tr>\n",
       "    <tr>\n",
       "      <th>1</th>\n",
       "      <td>科技_数码</td>\n",
       "      <td>员工曝苹果2022年春季发布会要来了！iPhone SE 3即将发布</td>\n",
       "    </tr>\n",
       "    <tr>\n",
       "      <th>2</th>\n",
       "      <td>汽车_行业</td>\n",
       "      <td>俄乌战争使大众向中国和美国转移产能</td>\n",
       "    </tr>\n",
       "    <tr>\n",
       "      <th>3</th>\n",
       "      <td>科技_车科技</td>\n",
       "      <td>再也不怕事故扯皮！所有新车全面上线黑匣子：比行车记录仪好用</td>\n",
       "    </tr>\n",
       "    <tr>\n",
       "      <th>4</th>\n",
       "      <td>体育_中国足球</td>\n",
       "      <td>终身禁赛！体育总局和公安部联手严查严打赌球假球行为</td>\n",
       "    </tr>\n",
       "    <tr>\n",
       "      <th>...</th>\n",
       "      <td>...</td>\n",
       "      <td>...</td>\n",
       "    </tr>\n",
       "    <tr>\n",
       "      <th>3915</th>\n",
       "      <td>政务_发展治理</td>\n",
       "      <td>住建部约谈五城背后：东莞房价涨幅超深圳、房企南通激战抢地</td>\n",
       "    </tr>\n",
       "    <tr>\n",
       "      <th>3916</th>\n",
       "      <td>体育_NBA</td>\n",
       "      <td>欧文回应与哈登不和传言：别把我名字放到这些傻瓜文章里！</td>\n",
       "    </tr>\n",
       "    <tr>\n",
       "      <th>3917</th>\n",
       "      <td>政务_发展治理</td>\n",
       "      <td>统计局：中国3月CPI同比增长0.4%，环比下降0.5%</td>\n",
       "    </tr>\n",
       "    <tr>\n",
       "      <th>3918</th>\n",
       "      <td>娱乐_电影</td>\n",
       "      <td>她这组写真照真不错</td>\n",
       "    </tr>\n",
       "    <tr>\n",
       "      <th>3919</th>\n",
       "      <td>体育_国际足球</td>\n",
       "      <td>球迷怒斥金球奖颁给梅西是耻辱 竟收获C罗寄来的签名球衣</td>\n",
       "    </tr>\n",
       "  </tbody>\n",
       "</table>\n",
       "<p>3920 rows × 2 columns</p>\n",
       "</div>"
      ],
      "text/plain": [
       "        label                           sentence1\n",
       "0       政务_文旅             安徽三祖寺发现佛牙舍利 初步判断为宋代皇家所赐\n",
       "1       科技_数码  员工曝苹果2022年春季发布会要来了！iPhone SE 3即将发布\n",
       "2       汽车_行业                   俄乌战争使大众向中国和美国转移产能\n",
       "3      科技_车科技       再也不怕事故扯皮！所有新车全面上线黑匣子：比行车记录仪好用\n",
       "4     体育_中国足球           终身禁赛！体育总局和公安部联手严查严打赌球假球行为\n",
       "...       ...                                 ...\n",
       "3915  政务_发展治理        住建部约谈五城背后：东莞房价涨幅超深圳、房企南通激战抢地\n",
       "3916   体育_NBA         欧文回应与哈登不和传言：别把我名字放到这些傻瓜文章里！\n",
       "3917  政务_发展治理        统计局：中国3月CPI同比增长0.4%，环比下降0.5%\n",
       "3918    娱乐_电影                           她这组写真照真不错\n",
       "3919  体育_国际足球         球迷怒斥金球奖颁给梅西是耻辱 竟收获C罗寄来的签名球衣\n",
       "\n",
       "[3920 rows x 2 columns]"
      ]
     },
     "execution_count": 2,
     "metadata": {},
     "output_type": "execute_result"
    }
   ],
   "source": [
    "df = pd.read_csv(\"./ifeng_data/train.csv\", header=None, sep=\"\\t\", names=[\"label\", \"sentence1\"])\n",
    "df"
   ]
  },
  {
   "cell_type": "code",
   "execution_count": 3,
   "metadata": {},
   "outputs": [
    {
     "data": {
      "text/plain": [
       "31.0"
      ]
     },
     "execution_count": 3,
     "metadata": {},
     "output_type": "execute_result"
    }
   ],
   "source": [
    "df[\"sentence1\"].str.len().quantile(0.9)"
   ]
  },
  {
   "cell_type": "code",
   "execution_count": 4,
   "metadata": {},
   "outputs": [
    {
     "name": "stdout",
     "output_type": "stream",
     "text": [
      "['体育', '娱乐', '政务', '时尚', '汽车', '科技'] 6\n",
      "['5G', 'CBA', 'NBA', '中国足球', '区块链', '反腐', '发展治理', '国际足球', '地方', '导购', '情感', '手机', '政策', '数码', '文旅', '新车', '时装', '明星', '电影', '电视', '美容', '行业', '试驾', '车科技', '音乐'] 25\n"
     ]
    }
   ],
   "source": [
    "labels = sorted(df[\"label\"].value_counts().index.tolist())\n",
    "\n",
    "labels1 = sorted(set([x.split(\"_\")[0] for x in labels]))\n",
    "labels2 = sorted(set([x.split(\"_\")[1] for x in labels]))\n",
    "print(labels1, len(labels1))\n",
    "print(labels2, len(labels2))"
   ]
  },
  {
   "cell_type": "code",
   "execution_count": null,
   "metadata": {},
   "outputs": [],
   "source": []
  },
  {
   "cell_type": "code",
   "execution_count": 6,
   "metadata": {},
   "outputs": [
    {
     "name": "stdout",
     "output_type": "stream",
     "text": [
      "['C:\\\\Anaconda3\\\\envs\\\\transformers\\\\lib\\\\site-packages\\\\ipykernel_launcher.py']\n"
     ]
    }
   ],
   "source": [
    "import sys\n",
    "print(sys.argv)\n",
    "sys.argv = sys.argv[:1]"
   ]
  },
  {
   "cell_type": "code",
   "execution_count": 15,
   "metadata": {},
   "outputs": [],
   "source": [
    "import logging\n",
    "import os\n",
    "\n",
    "import numpy as np\n",
    "from transformers import TFAutoModelForSequenceClassification, set_seed, create_optimizer\n",
    "\n",
    "import tensorflow as tf  # noqa: E402\n",
    "\n",
    "# import tensorflow.python.keras as keras\n",
    "import tensorflow.keras as keras\n",
    "\n",
    "import importlib\n",
    "import dataset_helper\n",
    "importlib.reload(dataset_helper)\n",
    "\n",
    "from param_helper import load_params, SavePretrainedCallback\n",
    "from dataset_helper import load_data, covert_to_tf_dataset, load_data_layer\n",
    "\n",
    "logger = logging.getLogger(__name__)\n",
    "os.environ[\"TF_CPP_MIN_LOG_LEVEL\"] = \"1\"  # Reduce the amount of console output from TF"
   ]
  },
  {
   "cell_type": "code",
   "execution_count": 8,
   "metadata": {},
   "outputs": [
    {
     "name": "stdout",
     "output_type": "stream",
     "text": [
      "04/22/2022 20:38:51 - INFO - param_helper - Training/evaluation parameters TFTrainingArguments(\n",
      "_n_gpu=1,\n",
      "adafactor=False,\n",
      "adam_beta1=0.9,\n",
      "adam_beta2=0.999,\n",
      "adam_epsilon=1e-08,\n",
      "bf16=False,\n",
      "bf16_full_eval=False,\n",
      "dataloader_drop_last=False,\n",
      "dataloader_num_workers=0,\n",
      "dataloader_pin_memory=True,\n",
      "ddp_bucket_cap_mb=None,\n",
      "ddp_find_unused_parameters=None,\n",
      "debug=[],\n",
      "deepspeed=None,\n",
      "disable_tqdm=False,\n",
      "do_eval=False,\n",
      "do_predict=False,\n",
      "do_train=False,\n",
      "eval_accumulation_steps=None,\n",
      "eval_steps=None,\n",
      "evaluation_strategy=IntervalStrategy.NO,\n",
      "fp16=False,\n",
      "fp16_backend=auto,\n",
      "fp16_full_eval=False,\n",
      "fp16_opt_level=O1,\n",
      "gcp_project=None,\n",
      "gradient_accumulation_steps=1,\n",
      "gradient_checkpointing=False,\n",
      "greater_is_better=None,\n",
      "group_by_length=False,\n",
      "half_precision_backend=auto,\n",
      "hub_model_id=None,\n",
      "hub_strategy=HubStrategy.EVERY_SAVE,\n",
      "hub_token=<HUB_TOKEN>,\n",
      "ignore_data_skip=False,\n",
      "label_names=None,\n",
      "label_smoothing_factor=0.0,\n",
      "learning_rate=5e-05,\n",
      "length_column_name=length,\n",
      "load_best_model_at_end=False,\n",
      "local_rank=-1,\n",
      "log_level=-1,\n",
      "log_level_replica=-1,\n",
      "log_on_each_node=True,\n",
      "logging_dir=output\\runs\\Apr22_20-38-51_DESKTOP-1OR65MK,\n",
      "logging_first_step=False,\n",
      "logging_nan_inf_filter=True,\n",
      "logging_steps=500,\n",
      "logging_strategy=IntervalStrategy.STEPS,\n",
      "lr_scheduler_type=SchedulerType.LINEAR,\n",
      "max_grad_norm=1.0,\n",
      "max_steps=-1,\n",
      "metric_for_best_model=None,\n",
      "mp_parameters=,\n",
      "no_cuda=False,\n",
      "num_train_epochs=5,\n",
      "optim=OptimizerNames.ADAMW_HF,\n",
      "output_dir=output,\n",
      "overwrite_output_dir=True,\n",
      "past_index=-1,\n",
      "per_device_eval_batch_size=8,\n",
      "per_device_train_batch_size=8,\n",
      "poly_power=1.0,\n",
      "prediction_loss_only=False,\n",
      "push_to_hub=False,\n",
      "push_to_hub_model_id=None,\n",
      "push_to_hub_organization=None,\n",
      "push_to_hub_token=<PUSH_TO_HUB_TOKEN>,\n",
      "remove_unused_columns=True,\n",
      "report_to=['tensorboard'],\n",
      "resume_from_checkpoint=None,\n",
      "run_name=output,\n",
      "save_on_each_node=False,\n",
      "save_steps=500,\n",
      "save_strategy=IntervalStrategy.STEPS,\n",
      "save_total_limit=None,\n",
      "seed=42,\n",
      "sharded_ddp=[],\n",
      "skip_memory_metrics=True,\n",
      "tf32=None,\n",
      "tpu_metrics_debug=False,\n",
      "tpu_name=None,\n",
      "tpu_num_cores=None,\n",
      "tpu_zone=None,\n",
      "use_legacy_prediction_loop=False,\n",
      "warmup_ratio=0.0,\n",
      "warmup_steps=0,\n",
      "weight_decay=0.0,\n",
      "xla=False,\n",
      "xpu_backend=None,\n",
      ")\n",
      "04/22/2022 20:38:56 - WARNING - datasets.builder - Using custom data configuration default-efc3665f38c94ff3\n",
      "04/22/2022 20:38:56 - WARNING - datasets.builder - Reusing dataset csv (C:\\Users\\tzh\\.cache\\huggingface\\datasets\\csv\\default-efc3665f38c94ff3\\0.0.0\\6b9057d9e23d9d8a2f05b985917a0da84d70c5dae3d22ddd8a3f22fb01c69d9e)\n"
     ]
    },
    {
     "name": "stderr",
     "output_type": "stream",
     "text": [
      "100%|██████████| 2/2 [00:00<00:00, 58.82it/s]"
     ]
    },
    {
     "name": "stdout",
     "output_type": "stream",
     "text": [
      "['体育', '娱乐', '政务', '时尚', '汽车', '科技'] 6\n",
      "['5G', 'CBA', 'NBA', '中国足球', '区块链', '反腐', '发展治理', '国际足球', '地方', '导购', '情感', '手机', '政策', '数码', '文旅', '新车', '时装', '明星', '电影', '电视', '美容', '行业', '试驾', '车科技', '音乐'] 25\n"
     ]
    },
    {
     "name": "stderr",
     "output_type": "stream",
     "text": [
      "\n"
     ]
    },
    {
     "name": "stdout",
     "output_type": "stream",
     "text": [
      "04/22/2022 20:39:05 - WARNING - datasets.arrow_dataset - Loading cached processed dataset at C:\\Users\\tzh\\.cache\\huggingface\\datasets\\csv\\default-efc3665f38c94ff3\\0.0.0\\6b9057d9e23d9d8a2f05b985917a0da84d70c5dae3d22ddd8a3f22fb01c69d9e\\cache-680ee6be552e8879.arrow\n",
      "04/22/2022 20:39:05 - WARNING - datasets.arrow_dataset - Loading cached processed dataset at C:\\Users\\tzh\\.cache\\huggingface\\datasets\\csv\\default-efc3665f38c94ff3\\0.0.0\\6b9057d9e23d9d8a2f05b985917a0da84d70c5dae3d22ddd8a3f22fb01c69d9e\\cache-660798e0b607bc72.arrow\n"
     ]
    }
   ],
   "source": [
    "model_args, data_args, training_args, checkpoint = load_params(\"my.json\")\n",
    "datasets, config, is_regression, data_collator, non_label_column_names = load_data_layer(\n",
    "    model_args, data_args, training_args, checkpoint\n",
    ")\n",
    "tf_data = covert_to_tf_dataset(datasets, data_args, training_args, data_collator, non_label_column_names, True)"
   ]
  },
  {
   "cell_type": "code",
   "execution_count": 17,
   "metadata": {},
   "outputs": [
    {
     "data": {
      "text/plain": [
       "({'attention_mask': <tf.Tensor: shape=(8, 28), dtype=int64, numpy=\n",
       "  array([[1, 1, 1, 1, 1, 1, 1, 1, 1, 1, 1, 1, 1, 1, 1, 1, 1, 1, 1, 1, 1, 1,\n",
       "          1, 1, 0, 0, 0, 0],\n",
       "         [1, 1, 1, 1, 1, 1, 1, 1, 1, 1, 1, 1, 0, 0, 0, 0, 0, 0, 0, 0, 0, 0,\n",
       "          0, 0, 0, 0, 0, 0],\n",
       "         [1, 1, 1, 1, 1, 1, 1, 1, 1, 1, 1, 1, 1, 1, 1, 1, 1, 1, 1, 1, 1, 1,\n",
       "          1, 1, 1, 0, 0, 0],\n",
       "         [1, 1, 1, 1, 1, 1, 1, 1, 1, 1, 1, 1, 1, 1, 1, 1, 1, 1, 1, 1, 1, 1,\n",
       "          1, 1, 1, 0, 0, 0],\n",
       "         [1, 1, 1, 1, 1, 1, 1, 1, 1, 1, 1, 1, 1, 1, 1, 1, 1, 1, 1, 1, 0, 0,\n",
       "          0, 0, 0, 0, 0, 0],\n",
       "         [1, 1, 1, 1, 1, 1, 1, 1, 1, 1, 1, 1, 1, 1, 1, 1, 1, 1, 1, 1, 1, 1,\n",
       "          1, 1, 1, 1, 1, 1],\n",
       "         [1, 1, 1, 1, 1, 1, 1, 1, 1, 1, 1, 1, 1, 1, 1, 1, 1, 1, 0, 0, 0, 0,\n",
       "          0, 0, 0, 0, 0, 0],\n",
       "         [1, 1, 1, 1, 1, 1, 1, 1, 1, 1, 1, 1, 1, 1, 1, 1, 1, 1, 1, 1, 1, 1,\n",
       "          1, 1, 1, 1, 0, 0]], dtype=int64)>,\n",
       "  'input_ids': <tf.Tensor: shape=(8, 28), dtype=int64, numpy=\n",
       "  array([[ 101,  704, 1925, 1100, 3217, 3131, 4135, 6598, 7032,  678, 2884,\n",
       "          4802,  924, 3131, 4135, 3621, 4289, 1350, 3198, 6639, 7583, 1355,\n",
       "          3123,  102,    0,    0,    0,    0],\n",
       "         [ 101,  837, 7509, 2797, 3322, 1139, 3862, 7410, 6845,  671, 1318,\n",
       "           102,    0,    0,    0,    0,    0,    0,    0,    0,    0,    0,\n",
       "             0,    0,    0,    0,    0,    0],\n",
       "         [ 101, 8176, 4689,  819,  782, 1772,  100, 3683, 2894, 8038,  776,\n",
       "          3772, 6631, 8115,  674, 1039, 8024, 7028, 2412, 3959, 1266, 6631,\n",
       "          2255,  691,  102,    0,    0,    0],\n",
       "         [ 101, 6659, 1862, 6588, 3211, 2832, 6598, 7770, 3717, 2398, 2458,\n",
       "          3123, 6407, 4157, 1139, 4140, 3868, 1350, 1914, 7555, 3121, 7484,\n",
       "           715, 2974,  102,    0,    0,    0],\n",
       "         [ 101, 3772, 5722, 3851, 4646, 2972, 1139, 8145,  865, 7555, 7270,\n",
       "           676, 6235, 3152, 3180, 2339,  868, 3926, 1296,  102,    0,    0,\n",
       "             0,    0,    0,    0,    0,    0],\n",
       "         [ 101, 5018,  676, 1767, 3341, 6159, 8013, 7509,  727, 1196,  517,\n",
       "          2496, 4263, 2347, 2768, 2518,  752,  518, 1548, 1510, 3636, 3727,\n",
       "          4433, 1378, 1920, 1196, 7368,  102],\n",
       "         [ 101, 1728, 4307, 2578,  856, 6837, 8024, 1744, 6639, 6205, 2519,\n",
       "          3123, 2461, 2519, 1374, 3636, 4830,  102,    0,    0,    0,    0,\n",
       "             0,    0,    0,    0,    0,    0],\n",
       "         [ 101, 7770, 1501, 6574,  856, 2768, 3315, 4638, 1139, 6121,  860,\n",
       "          7741, 3180, 6121, 6407, 7730, 1266,  776, 4385,  807, 1059, 3173,\n",
       "           151, 8206, 8852,  102,    0,    0]], dtype=int64)>,\n",
       "  'output_1': <tf.Tensor: shape=(8,), dtype=int64, numpy=array([2, 5, 2, 2, 2, 1, 0, 4], dtype=int64)>,\n",
       "  'output_2': <tf.Tensor: shape=(8,), dtype=int64, numpy=array([12, 11,  6, 12,  8, 24,  3, 22], dtype=int64)>,\n",
       "  'token_type_ids': <tf.Tensor: shape=(8, 28), dtype=int64, numpy=\n",
       "  array([[0, 0, 0, 0, 0, 0, 0, 0, 0, 0, 0, 0, 0, 0, 0, 0, 0, 0, 0, 0, 0, 0,\n",
       "          0, 0, 0, 0, 0, 0],\n",
       "         [0, 0, 0, 0, 0, 0, 0, 0, 0, 0, 0, 0, 0, 0, 0, 0, 0, 0, 0, 0, 0, 0,\n",
       "          0, 0, 0, 0, 0, 0],\n",
       "         [0, 0, 0, 0, 0, 0, 0, 0, 0, 0, 0, 0, 0, 0, 0, 0, 0, 0, 0, 0, 0, 0,\n",
       "          0, 0, 0, 0, 0, 0],\n",
       "         [0, 0, 0, 0, 0, 0, 0, 0, 0, 0, 0, 0, 0, 0, 0, 0, 0, 0, 0, 0, 0, 0,\n",
       "          0, 0, 0, 0, 0, 0],\n",
       "         [0, 0, 0, 0, 0, 0, 0, 0, 0, 0, 0, 0, 0, 0, 0, 0, 0, 0, 0, 0, 0, 0,\n",
       "          0, 0, 0, 0, 0, 0],\n",
       "         [0, 0, 0, 0, 0, 0, 0, 0, 0, 0, 0, 0, 0, 0, 0, 0, 0, 0, 0, 0, 0, 0,\n",
       "          0, 0, 0, 0, 0, 0],\n",
       "         [0, 0, 0, 0, 0, 0, 0, 0, 0, 0, 0, 0, 0, 0, 0, 0, 0, 0, 0, 0, 0, 0,\n",
       "          0, 0, 0, 0, 0, 0],\n",
       "         [0, 0, 0, 0, 0, 0, 0, 0, 0, 0, 0, 0, 0, 0, 0, 0, 0, 0, 0, 0, 0, 0,\n",
       "          0, 0, 0, 0, 0, 0]], dtype=int64)>},\n",
       " {'output_1': <tf.Tensor: shape=(8,), dtype=int64, numpy=array([2, 5, 2, 2, 2, 1, 0, 4], dtype=int64)>,\n",
       "  'output_2': <tf.Tensor: shape=(8,), dtype=int64, numpy=array([12, 11,  6, 12,  8, 24,  3, 22], dtype=int64)>})"
      ]
     },
     "execution_count": 17,
     "metadata": {},
     "output_type": "execute_result"
    }
   ],
   "source": [
    "tf_data = covert_to_tf_dataset(datasets, data_args, training_args, data_collator, non_label_column_names, True)\n",
    "next(iter(tf_data[\"train\"]))"
   ]
  },
  {
   "cell_type": "code",
   "execution_count": 11,
   "metadata": {},
   "outputs": [],
   "source": [
    "# model_path = model_args.model_name_or_path\n",
    "# model = TFAutoModelForSequenceClassification.from_pretrained(\n",
    "#     model_path,\n",
    "#     config=config,\n",
    "#     cache_dir=model_args.cache_dir,\n",
    "#     revision=model_args.model_revision,\n",
    "#     use_auth_token=True if model_args.use_auth_token else None,\n",
    "# )\n",
    "# model"
   ]
  },
  {
   "cell_type": "code",
   "execution_count": 12,
   "metadata": {},
   "outputs": [],
   "source": [
    "# model.summary()"
   ]
  },
  {
   "cell_type": "code",
   "execution_count": 13,
   "metadata": {},
   "outputs": [
    {
     "name": "stderr",
     "output_type": "stream",
     "text": [
      "All model checkpoint layers were used when initializing TFBertForSequenceClassification.\n",
      "\n",
      "Some layers of TFBertForSequenceClassification were not initialized from the model checkpoint at bert-base-chinese and are newly initialized: ['classifier1', 'classifier2']\n",
      "You should probably TRAIN this model on a down-stream task to be able to use it for predictions and inference.\n"
     ]
    },
    {
     "data": {
      "text/plain": [
       "<model_helper.TFBertForSequenceClassification at 0x207878d6490>"
      ]
     },
     "execution_count": 13,
     "metadata": {},
     "output_type": "execute_result"
    }
   ],
   "source": [
    "from model_helper import TFBertForSequenceClassification\n",
    "\n",
    "model_path = model_args.model_name_or_path\n",
    "model = TFBertForSequenceClassification.from_pretrained(\n",
    "    model_path,\n",
    "    config=config,\n",
    "    cache_dir=model_args.cache_dir,\n",
    "    revision=model_args.model_revision,\n",
    "    use_auth_token=True if model_args.use_auth_token else None,\n",
    ")\n",
    "model"
   ]
  },
  {
   "cell_type": "code",
   "execution_count": 14,
   "metadata": {},
   "outputs": [
    {
     "name": "stdout",
     "output_type": "stream",
     "text": [
      "Model: \"tf_bert_for_sequence_classification\"\n",
      "_________________________________________________________________\n",
      " Layer (type)                Output Shape              Param #   \n",
      "=================================================================\n",
      " bert (TFBertMainLayer)      multiple                  102267648 \n",
      "                                                                 \n",
      " dropout_37 (Dropout)        multiple                  0         \n",
      "                                                                 \n",
      " dropout_38 (Dropout)        multiple                  0         \n",
      "                                                                 \n",
      " classifier1 (Dense)         multiple                  4614      \n",
      "                                                                 \n",
      " classifier2 (Dense)         multiple                  19225     \n",
      "                                                                 \n",
      "=================================================================\n",
      "Total params: 102,291,487\n",
      "Trainable params: 102,291,487\n",
      "Non-trainable params: 0\n",
      "_________________________________________________________________\n"
     ]
    }
   ],
   "source": [
    "model.summary()"
   ]
  },
  {
   "cell_type": "code",
   "execution_count": 15,
   "metadata": {},
   "outputs": [],
   "source": [
    "optimizer = keras.optimizers.Adam(\n",
    "    learning_rate=training_args.learning_rate,\n",
    "    beta_1=training_args.adam_beta1,\n",
    "    beta_2=training_args.adam_beta2,\n",
    "    epsilon=training_args.adam_epsilon,\n",
    "    clipnorm=training_args.max_grad_norm,\n",
    ")\n",
    "loss_fn = keras.losses.SparseCategoricalCrossentropy(from_logits=True)\n",
    "loss_fn2 = keras.losses.SparseCategoricalCrossentropy(from_logits=True)\n",
    "metrics = [\"accuracy\"]\n",
    "# model.compile(optimizer=optimizer, loss={\"output_1\": loss_fn, \"output_2\": loss_fn2}, metrics=metrics)\n",
    "model.compile(optimizer=optimizer, loss=[loss_fn, loss_fn2], metrics=metrics)"
   ]
  },
  {
   "cell_type": "code",
   "execution_count": 16,
   "metadata": {},
   "outputs": [
    {
     "name": "stdout",
     "output_type": "stream",
     "text": [
      "Epoch 1/5\n",
      "490/490 [==============================] - 89s 144ms/step - loss: 2.2106 - output_1_loss: 0.5397 - output_2_loss: 1.6709 - output_1_accuracy: 0.8260 - output_2_accuracy: 0.4972 - val_loss: 1.5271 - val_output_1_loss: 0.4330 - val_output_2_loss: 1.0940 - val_output_1_accuracy: 0.8582 - val_output_2_accuracy: 0.6490\n",
      "Epoch 2/5\n",
      "490/490 [==============================] - 67s 138ms/step - loss: 1.1518 - output_1_loss: 0.2814 - output_2_loss: 0.8705 - output_1_accuracy: 0.9059 - output_2_accuracy: 0.7148 - val_loss: 1.3175 - val_output_1_loss: 0.3923 - val_output_2_loss: 0.9251 - val_output_1_accuracy: 0.8786 - val_output_2_accuracy: 0.7224\n",
      "Epoch 3/5\n",
      "490/490 [==============================] - 69s 141ms/step - loss: 0.7692 - output_1_loss: 0.1672 - output_2_loss: 0.6021 - output_1_accuracy: 0.9452 - output_2_accuracy: 0.8066 - val_loss: 1.2946 - val_output_1_loss: 0.3747 - val_output_2_loss: 0.9199 - val_output_1_accuracy: 0.8969 - val_output_2_accuracy: 0.7347\n",
      "Epoch 4/5\n",
      "490/490 [==============================] - 69s 142ms/step - loss: 0.5443 - output_1_loss: 0.1187 - output_2_loss: 0.4255 - output_1_accuracy: 0.9628 - output_2_accuracy: 0.8635 - val_loss: 1.4079 - val_output_1_loss: 0.4141 - val_output_2_loss: 0.9938 - val_output_1_accuracy: 0.8980 - val_output_2_accuracy: 0.7224\n",
      "Epoch 5/5\n",
      "490/490 [==============================] - 70s 142ms/step - loss: 0.3903 - output_1_loss: 0.0725 - output_2_loss: 0.3178 - output_1_accuracy: 0.9793 - output_2_accuracy: 0.9033 - val_loss: 1.3383 - val_output_1_loss: 0.3894 - val_output_2_loss: 0.9489 - val_output_1_accuracy: 0.9051 - val_output_2_accuracy: 0.7449\n"
     ]
    },
    {
     "data": {
      "text/plain": [
       "<keras.callbacks.History at 0x2078ed9d340>"
      ]
     },
     "execution_count": 16,
     "metadata": {},
     "output_type": "execute_result"
    }
   ],
   "source": [
    "model.fit(\n",
    "    tf_data[\"train\"],\n",
    "    validation_data=tf_data[\"validation\"],\n",
    "    epochs=int(training_args.num_train_epochs),\n",
    "    callbacks=[],\n",
    ")"
   ]
  }
 ],
 "metadata": {
  "interpreter": {
   "hash": "21ade77d1a005a9febcfd29d2ec0dea48f74b0b2dc097f0a2ba8132806873fea"
  },
  "kernelspec": {
   "display_name": "Python 3.9.7 ('transformers')",
   "language": "python",
   "name": "python3"
  },
  "language_info": {
   "codemirror_mode": {
    "name": "ipython",
    "version": 3
   },
   "file_extension": ".py",
   "mimetype": "text/x-python",
   "name": "python",
   "nbconvert_exporter": "python",
   "pygments_lexer": "ipython3",
   "version": "3.9.7"
  },
  "orig_nbformat": 4
 },
 "nbformat": 4,
 "nbformat_minor": 2
}
