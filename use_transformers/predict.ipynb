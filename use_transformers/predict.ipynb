{
 "cells": [
  {
   "cell_type": "code",
   "execution_count": 10,
   "metadata": {},
   "outputs": [],
   "source": [
    "from transformers import TFAutoModelForSequenceClassification, AutoTokenizer\n",
    "import tensorflow as tf"
   ]
  },
  {
   "cell_type": "code",
   "execution_count": 3,
   "metadata": {},
   "outputs": [
    {
     "name": "stderr",
     "output_type": "stream",
     "text": [
      "Some layers from the model checkpoint at ./output were not used when initializing TFBertForSequenceClassification: ['dropout_37']\n",
      "- This IS expected if you are initializing TFBertForSequenceClassification from the checkpoint of a model trained on another task or with another architecture (e.g. initializing a BertForSequenceClassification model from a BertForPreTraining model).\n",
      "- This IS NOT expected if you are initializing TFBertForSequenceClassification from the checkpoint of a model that you expect to be exactly identical (initializing a BertForSequenceClassification model from a BertForSequenceClassification model).\n",
      "All the layers of TFBertForSequenceClassification were initialized from the model checkpoint at ./output.\n",
      "If your task is similar to the task the model of the checkpoint was trained on, you can already use TFBertForSequenceClassification for predictions without further training.\n"
     ]
    }
   ],
   "source": [
    "my_model = TFAutoModelForSequenceClassification.from_pretrained(\"./output\")\n",
    "my_tokenizer = AutoTokenizer.from_pretrained(\"./output\")"
   ]
  },
  {
   "cell_type": "code",
   "execution_count": 25,
   "metadata": {},
   "outputs": [
    {
     "name": "stdout",
     "output_type": "stream",
     "text": [
      "TFSequenceClassifierOutput(loss=None, logits=<tf.Tensor: shape=(1, 25), dtype=float32, numpy=\n",
      "array([[-0.72052294,  1.1747351 , -1.0982342 , -0.37767336, -1.0921919 ,\n",
      "        -1.2597075 , -0.68110037, -1.5146378 , -0.99611294, -0.46207786,\n",
      "        -2.2787147 , -0.73325366, -1.7068146 , -0.84196067,  1.2893516 ,\n",
      "        -2.7350929 , -3.3782663 , -1.4319956 ,  0.88496804, -1.9387099 ,\n",
      "         2.5381165 ,  6.9129324 ,  0.9050839 ,  0.58762884,  1.5133077 ]],\n",
      "      dtype=float32)>, hidden_states=None, attentions=None)\n",
      "tf.Tensor(\n",
      "[[4.6712288e-04 3.1083594e-03 3.2017927e-04 6.5815606e-04 3.2211983e-04\n",
      "  2.7243712e-04 4.8590585e-04 2.1113068e-04 3.5460424e-04 6.0488423e-04\n",
      "  9.8337070e-05 4.6121384e-04 1.7421680e-04 4.1370548e-04 3.4858484e-03\n",
      "  6.2303785e-05 3.2748234e-05 2.2932033e-04 2.3264135e-03 1.3815898e-04\n",
      "  1.2151790e-02 9.6515858e-01 2.3736851e-03 1.7280417e-03 4.3608528e-03]], shape=(1, 25), dtype=float32)\n"
     ]
    },
    {
     "data": {
      "text/plain": [
       "<tf.Tensor: shape=(1,), dtype=int64, numpy=array([21], dtype=int64)>"
      ]
     },
     "execution_count": 25,
     "metadata": {},
     "output_type": "execute_result"
    }
   ],
   "source": [
    "result = my_model(my_tokenizer(\"新闻摄影也要NFT 美联社连摊子都支好了\", return_tensors=\"tf\"))\n",
    "print(result)\n",
    "print(tf.nn.softmax(result.logits, axis=1))\n",
    "\n",
    "tf.argmax(tf.nn.softmax(result.logits, axis=1), axis=1)"
   ]
  },
  {
   "cell_type": "code",
   "execution_count": 19,
   "metadata": {},
   "outputs": [
    {
     "data": {
      "text/plain": [
       "{0: '体育_CBA',\n",
       " 1: '体育_NBA',\n",
       " 2: '体育_中国足球',\n",
       " 3: '体育_国际足球',\n",
       " 4: '娱乐_明星',\n",
       " 5: '娱乐_电影',\n",
       " 6: '娱乐_电视',\n",
       " 7: '娱乐_音乐',\n",
       " 8: '政务_反腐',\n",
       " 9: '政务_发展治理',\n",
       " 10: '政务_地方',\n",
       " 11: '政务_政策',\n",
       " 12: '政务_文旅',\n",
       " 13: '时尚_情感',\n",
       " 14: '时尚_时装',\n",
       " 15: '时尚_美容',\n",
       " 16: '汽车_导购',\n",
       " 17: '汽车_新车',\n",
       " 18: '汽车_行业',\n",
       " 19: '汽车_试驾',\n",
       " 20: '科技_5G',\n",
       " 21: '科技_区块链',\n",
       " 22: '科技_手机',\n",
       " 23: '科技_数码',\n",
       " 24: '科技_车科技'}"
      ]
     },
     "execution_count": 19,
     "metadata": {},
     "output_type": "execute_result"
    }
   ],
   "source": [
    "my_model.config.id2label"
   ]
  }
 ],
 "metadata": {
  "interpreter": {
   "hash": "21ade77d1a005a9febcfd29d2ec0dea48f74b0b2dc097f0a2ba8132806873fea"
  },
  "kernelspec": {
   "display_name": "Python 3.9.7 ('transformers')",
   "language": "python",
   "name": "python3"
  },
  "language_info": {
   "codemirror_mode": {
    "name": "ipython",
    "version": 3
   },
   "file_extension": ".py",
   "mimetype": "text/x-python",
   "name": "python",
   "nbconvert_exporter": "python",
   "pygments_lexer": "ipython3",
   "version": "3.9.7"
  },
  "orig_nbformat": 4
 },
 "nbformat": 4,
 "nbformat_minor": 2
}
