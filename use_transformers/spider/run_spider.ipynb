{
 "cells": [
  {
   "cell_type": "code",
   "execution_count": 13,
   "metadata": {},
   "outputs": [],
   "source": [
    "import requests\n",
    "import os\n",
    "import re\n",
    "import json\n",
    "import time\n",
    "from datetime import datetime\n",
    "from bs4 import BeautifulSoup\n"
   ]
  },
  {
   "cell_type": "code",
   "execution_count": 4,
   "metadata": {},
   "outputs": [],
   "source": [
    "\"\"\"\"\n",
    "准备干一波凤凰网的新闻, 要构建一个层级的新闻类别, 目前暂定为两级, 每个小级别应该要有 1000 条数据, 不知道能不能达成, 我看有些层级基本没数据\n",
    "\"\"\"\n",
    "label_dict = {\"政务\": [\"高层动态\", \"政策\", \"人事\", \"地方\", \"发展治理\", \"反腐\", \"环保\", \"文旅\"]}"
   ]
  },
  {
   "cell_type": "code",
   "execution_count": 7,
   "metadata": {},
   "outputs": [
    {
     "name": "stdout",
     "output_type": "stream",
     "text": [
      "100\n"
     ]
    }
   ],
   "source": [
    "import requests\n",
    "\n",
    "cookies = {\n",
    "    \"userid\": \"1647525251481_gkn7z47154\",\n",
    "    \"if_prov\": \"cn0571\",\n",
    "    \"if_city\": \"0571\",\n",
    "    \"prov\": \"cn0571\",\n",
    "    \"city\": \"0571\",\n",
    "    \"weather_city\": \"zj_hz\",\n",
    "    \"region_ip\": \"125.120.227.x\",\n",
    "    \"region_ver\": \"1.2\",\n",
    "}\n",
    "\n",
    "headers = {\n",
    "    \"Connection\": \"keep-alive\",\n",
    "    \"Pragma\": \"no-cache\",\n",
    "    \"Cache-Control\": \"no-cache\",\n",
    "    \"sec-ch-ua\": '\" Not A;Brand\";v=\"99\", \"Chromium\";v=\"99\", \"Google Chrome\";v=\"99\"',\n",
    "    \"sec-ch-ua-mobile\": \"?0\",\n",
    "    \"User-Agent\": \"Mozilla/5.0 (Windows NT 10.0; Win64; x64) AppleWebKit/537.36 (KHTML, like Gecko) Chrome/99.0.4844.51 Safari/537.36\",\n",
    "    \"sec-ch-ua-platform\": '\"Windows\"',\n",
    "    \"Accept\": \"*/*\",\n",
    "    \"Sec-Fetch-Site\": \"same-site\",\n",
    "    \"Sec-Fetch-Mode\": \"no-cors\",\n",
    "    \"Sec-Fetch-Dest\": \"script\",\n",
    "    \"Referer\": \"https://gov.ifeng.com/shanklist/22-35143-\",\n",
    "    \"Accept-Language\": \"zh-CN,zh;q=0.9\",\n",
    "}\n",
    "\n",
    "params = (\n",
    "    (\"callback\", \"getColumnInfoCallback\"),\n",
    "    (\"_\", \"16475255953401\"),\n",
    ")\n",
    "\n",
    "response = requests.get(\n",
    "    \"https://shankapi.ifeng.com/shanklist/_/getColumnInfo/_/default/6879595161253318693/1640225010000/100/22-35143-/getColumnInfoCallback\",\n",
    "    headers=headers,\n",
    "    params=params,\n",
    "    cookies=cookies,\n",
    ")\n",
    "\n",
    "# print(response.text)\n",
    "json_data = json.loads(response.text.replace(\"getColumnInfoCallback(\", \"\")[:-1])\n",
    "print(len(json_data[\"data\"][\"newsstream\"]))\n"
   ]
  },
  {
   "cell_type": "code",
   "execution_count": null,
   "metadata": {},
   "outputs": [],
   "source": [
    "\"\"\"\n",
    "url 的构建方式\n",
    "\"\"\"\n",
    "last_news_id = \"6811416760466543017\"\n",
    "last_time = int(time.mktime(time.strptime(\"2021-06-18 07:03:10\", \"%Y-%m-%d %H:%M:%S\")) * 1000)\n",
    "now_time = int(time.time() * 10000)\n",
    "url = \"https://shankapi.ifeng.com/shanklist/_/getColumnInfo/_/default/{last_news_id}/{last_time}/20/22-35146-/getColumnInfoCallback?callback=getColumnInfoCallback&_={now_time}\"\n",
    "url = url.format(last_news_id=last_news_id, last_time=last_time, now_time=now_time)\n",
    "url\n"
   ]
  },
  {
   "cell_type": "code",
   "execution_count": null,
   "metadata": {},
   "outputs": [],
   "source": [
    "response = requests.get(url, headers=headers, cookies=cookies)\n",
    "response.text\n"
   ]
  },
  {
   "cell_type": "code",
   "execution_count": 11,
   "metadata": {},
   "outputs": [
    {
     "data": {
      "text/plain": [
       "True"
      ]
     },
     "execution_count": 11,
     "metadata": {},
     "output_type": "execute_result"
    }
   ],
   "source": [
    "\"\"\"\n",
    "base62 转换方式\n",
    "\"\"\"\n",
    "BASE62 = \"0123456789ABCDEFGHIJKLMNOPQRSTUVWXYZabcdefghijklmnopqrstuvwxyz\"\n",
    "\n",
    "def encode_b62(num, alphabet=BASE62):\n",
    "    \"\"\"Encode a positive number in Base X\n",
    "    Arguments:\n",
    "    - `num`: The number to encode\n",
    "    - `alphabet`: The alphabet to use for encoding\n",
    "    \"\"\"\n",
    "    if num == 0:\n",
    "        return alphabet[0]\n",
    "    arr = []\n",
    "    base = len(alphabet)\n",
    "    while num:\n",
    "        num, rem = divmod(num, base)\n",
    "        arr.append(alphabet[rem])\n",
    "    arr.reverse()\n",
    "    return ''.join(arr)\n",
    "\n",
    "def decode_b62(string, alphabet=BASE62):\n",
    "    \"\"\"Decode a Base X encoded string into the number\n",
    "    Arguments:\n",
    "    - `string`: The encoded string\n",
    "    - `alphabet`: The alphabet to use for encoding\n",
    "    \"\"\"\n",
    "    base = len(alphabet)\n",
    "    strlen = len(string)\n",
    "    num = 0\n",
    "    idx = 0\n",
    "    for char in string:\n",
    "        power = (strlen - (idx + 1))\n",
    "        num += alphabet.index(char) * (base ** power)\n",
    "        idx += 1\n",
    "\n",
    "    return num\n",
    "\n",
    "encode_b62(6764717602024464456) == \"83iTeuiRl4i\""
   ]
  },
  {
   "cell_type": "code",
   "execution_count": 60,
   "metadata": {},
   "outputs": [],
   "source": [
    "def parse_one_api(url, result):\n",
    "    response = requests.get(url, headers=headers, cookies=cookies)\n",
    "    text = response.text.replace(\"getColumnInfoCallback(\", \"\")[:-1]\n",
    "    json_data = json.loads(text)\n",
    "    code = json_data[\"code\"]\n",
    "    if code != 0:\n",
    "        print(json_data)\n",
    "        return False, None, None\n",
    "    data = json_data[\"data\"]\n",
    "    is_end = data[\"isEnd\"]\n",
    "    for item in data[\"newsstream\"]:\n",
    "        result.append(item[\"title\"])\n",
    "    \n",
    "    last_news_id = data[\"newsstream\"][-1][\"id\"]\n",
    "    last_time = data[\"newsstream\"][-1][\"newsTime\"]\n",
    "    return is_end, last_news_id, last_time\n",
    "\n",
    "\n",
    "def build_new_url(last_news_id, last_time, category_id=\"22-35146-\"):\n",
    "    last_time = int(time.mktime(time.strptime(last_time, \"%Y-%m-%d %H:%M:%S\")) * 1000)\n",
    "    now_time = int(time.time() * 10000)\n",
    "    url = \"https://shankapi.ifeng.com/shanklist/_/getColumnInfo/_/default/{last_news_id}/{last_time}/100/{category_id}/getColumnInfoCallback?callback=getColumnInfoCallback&_={now_time}\"\n",
    "    url = \"https://shankapi.ifeng.com/shanklist/_/getColumnInfo/_/selectedPool/{last_news_id}/{last_time}/100/{category_id}/getColumnInfoCallback?callback=getColumnInfoCallback&_={now_time}\"\n",
    "    url = url.format(last_news_id=last_news_id, last_time=last_time, now_time=now_time, category_id=category_id)\n",
    "    return url"
   ]
  },
  {
   "cell_type": "code",
   "execution_count": 14,
   "metadata": {},
   "outputs": [
    {
     "name": "stdout",
     "output_type": "stream",
     "text": [
      "100\n"
     ]
    }
   ],
   "source": [
    "url = build_new_url(decode_b62(\"8EGQmMbzd1q\"), \"2022-03-10 10:09:15\", \"22-35143-\")\n",
    "result = []\n",
    "parse_one_api(url, result)\n",
    "print(len(result))"
   ]
  },
  {
   "cell_type": "code",
   "execution_count": 24,
   "metadata": {},
   "outputs": [
    {
     "name": "stdout",
     "output_type": "stream",
     "text": [
      "True 6735212528927768667 2020-11-20 00:12:40\n",
      "没有更多了\n"
     ]
    }
   ],
   "source": [
    "result = []\n",
    "url = build_new_url(decode_b62(\"8EGQmMbzd1q\"), \"2022-03-10 10:09:15\", \"22-35143-\")\n",
    "is_end, last_news_id, last_time = parse_one_api(url, result)\n",
    "i = 10\n",
    "while i > 0:\n",
    "    i -= 1\n",
    "    if is_end:\n",
    "        print(\"没有更多了\")\n",
    "        break\n",
    "    url = build_new_url(last_news_id, last_time, \"22-35143-\")\n",
    "    is_end, last_news_id, last_time = parse_one_api(url, result)\n",
    "    print(is_end, last_news_id, last_time)\n"
   ]
  },
  {
   "cell_type": "code",
   "execution_count": 29,
   "metadata": {},
   "outputs": [],
   "source": [
    "def run_one_category(start_id, start_time, category_id, label):\n",
    "    start_time = start_time.replace(\"年\", \"-\").replace(\"月\", \"-\").replace(\"日\", \"\")\n",
    "    result = []\n",
    "    url = build_new_url(decode_b62(start_id), start_time, category_id)\n",
    "    is_end, last_news_id, last_time = parse_one_api(url, result)\n",
    "    i = 10\n",
    "    while i > 0:\n",
    "        i -= 1\n",
    "        if is_end:\n",
    "            print(\"没有更多了\")\n",
    "            break\n",
    "        url = build_new_url(last_news_id, last_time, category_id)\n",
    "        is_end, last_news_id, last_time = parse_one_api(url, result)\n",
    "        print(is_end, last_news_id, last_time)\n",
    "    print(len(result))\n",
    "    with open(label + \".txt\", \"w\", encoding=\"utf-8\") as f:\n",
    "        for item in result:\n",
    "            f.write(f\"{label}\\t{item}\\n\")\n"
   ]
  },
  {
   "cell_type": "code",
   "execution_count": 62,
   "metadata": {},
   "outputs": [
    {
     "name": "stdout",
     "output_type": "stream",
     "text": [
      "False 6902522869654237729 2022-02-24 23:22:57\n",
      "True 6899875555567472697 2022-02-17 08:45:14\n",
      "没有更多了\n",
      "296\n"
     ]
    }
   ],
   "source": [
    "run_one_category(\"8ETkeg6ilPY\", \"2022年03月19日 03:10:58\", \"20003\", \"科技_手机\")"
   ]
  }
 ],
 "metadata": {
  "interpreter": {
   "hash": "21ade77d1a005a9febcfd29d2ec0dea48f74b0b2dc097f0a2ba8132806873fea"
  },
  "kernelspec": {
   "display_name": "Python 3.9.7 ('transformers')",
   "language": "python",
   "name": "python3"
  },
  "language_info": {
   "codemirror_mode": {
    "name": "ipython",
    "version": 3
   },
   "file_extension": ".py",
   "mimetype": "text/x-python",
   "name": "python",
   "nbconvert_exporter": "python",
   "pygments_lexer": "ipython3",
   "version": "3.8.12"
  },
  "orig_nbformat": 4
 },
 "nbformat": 4,
 "nbformat_minor": 2
}
