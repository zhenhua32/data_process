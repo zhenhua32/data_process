{
 "cells": [
  {
   "cell_type": "code",
   "execution_count": 1,
   "metadata": {},
   "outputs": [],
   "source": [
    "import os\n",
    "import json\n"
   ]
  },
  {
   "cell_type": "code",
   "execution_count": 2,
   "metadata": {},
   "outputs": [
    {
     "name": "stdout",
     "output_type": "stream",
     "text": [
      "4900\n",
      "{'label': '体育_CBA', 'sentence1': '轰16+12+3帽！周琦打出复出后代表作，制霸篮下，末节崩盘被逆转'}\n"
     ]
    }
   ],
   "source": [
    "data_list = []\n",
    "for file in os.listdir(\"raw_data\"):\n",
    "    with open(os.path.join(\"raw_data\", file), \"r\", encoding=\"utf-8\") as f:\n",
    "        data_list.extend(f.read().split(\"\\n\"))\n",
    "data_list = [x.strip() for x in data_list if x.strip()]\n",
    "print(len(data_list))\n",
    "\n",
    "data_list = [{\"label\": k, \"sentence1\": v} for k, v in map(lambda x:x.split(\"\\t\"), data_list)]\n",
    "print(data_list[0])"
   ]
  },
  {
   "cell_type": "code",
   "execution_count": 3,
   "metadata": {},
   "outputs": [],
   "source": [
    "import pandas as pd\n",
    "from datasets import Dataset"
   ]
  },
  {
   "cell_type": "code",
   "execution_count": 4,
   "metadata": {},
   "outputs": [
    {
     "data": {
      "text/html": [
       "<div>\n",
       "<style scoped>\n",
       "    .dataframe tbody tr th:only-of-type {\n",
       "        vertical-align: middle;\n",
       "    }\n",
       "\n",
       "    .dataframe tbody tr th {\n",
       "        vertical-align: top;\n",
       "    }\n",
       "\n",
       "    .dataframe thead th {\n",
       "        text-align: right;\n",
       "    }\n",
       "</style>\n",
       "<table border=\"1\" class=\"dataframe\">\n",
       "  <thead>\n",
       "    <tr style=\"text-align: right;\">\n",
       "      <th></th>\n",
       "      <th>label</th>\n",
       "      <th>sentence1</th>\n",
       "    </tr>\n",
       "  </thead>\n",
       "  <tbody>\n",
       "    <tr>\n",
       "      <th>0</th>\n",
       "      <td>体育_CBA</td>\n",
       "      <td>轰16+12+3帽！周琦打出复出后代表作，制霸篮下，末节崩盘被逆转</td>\n",
       "    </tr>\n",
       "    <tr>\n",
       "      <th>1</th>\n",
       "      <td>体育_CBA</td>\n",
       "      <td>新疆队绝杀之后的一幕</td>\n",
       "    </tr>\n",
       "    <tr>\n",
       "      <th>2</th>\n",
       "      <td>体育_CBA</td>\n",
       "      <td>CBA奇景！外援轰62分创赛季新高 球队却狂输29分</td>\n",
       "    </tr>\n",
       "    <tr>\n",
       "      <th>3</th>\n",
       "      <td>体育_CBA</td>\n",
       "      <td>中国篮球人才库引发争议？队员太老不要紧 打通校园是关键</td>\n",
       "    </tr>\n",
       "    <tr>\n",
       "      <th>4</th>\n",
       "      <td>体育_CBA</td>\n",
       "      <td>CBA季后赛争夺白热化！4队抢2个名额 天津3连胜搅局</td>\n",
       "    </tr>\n",
       "    <tr>\n",
       "      <th>...</th>\n",
       "      <td>...</td>\n",
       "      <td>...</td>\n",
       "    </tr>\n",
       "    <tr>\n",
       "      <th>4895</th>\n",
       "      <td>科技_车科技</td>\n",
       "      <td>蔚小理 自动驾驶谁第一？</td>\n",
       "    </tr>\n",
       "    <tr>\n",
       "      <th>4896</th>\n",
       "      <td>科技_车科技</td>\n",
       "      <td>集度汽车量产车型将于11月广州车展亮相 2023年上市</td>\n",
       "    </tr>\n",
       "    <tr>\n",
       "      <th>4897</th>\n",
       "      <td>科技_车科技</td>\n",
       "      <td>松下将于2024财年开始为特斯拉量产4680型电池</td>\n",
       "    </tr>\n",
       "    <tr>\n",
       "      <th>4898</th>\n",
       "      <td>科技_车科技</td>\n",
       "      <td>电动汽车有望每周只需充电一次？锂硫电池关键障碍被突破</td>\n",
       "    </tr>\n",
       "    <tr>\n",
       "      <th>4899</th>\n",
       "      <td>科技_车科技</td>\n",
       "      <td>李一男造车交卷了！首款车长这样</td>\n",
       "    </tr>\n",
       "  </tbody>\n",
       "</table>\n",
       "<p>4900 rows × 2 columns</p>\n",
       "</div>"
      ],
      "text/plain": [
       "       label                          sentence1\n",
       "0     体育_CBA  轰16+12+3帽！周琦打出复出后代表作，制霸篮下，末节崩盘被逆转\n",
       "1     体育_CBA                         新疆队绝杀之后的一幕\n",
       "2     体育_CBA         CBA奇景！外援轰62分创赛季新高 球队却狂输29分\n",
       "3     体育_CBA        中国篮球人才库引发争议？队员太老不要紧 打通校园是关键\n",
       "4     体育_CBA        CBA季后赛争夺白热化！4队抢2个名额 天津3连胜搅局\n",
       "...      ...                                ...\n",
       "4895  科技_车科技                       蔚小理 自动驾驶谁第一？\n",
       "4896  科技_车科技        集度汽车量产车型将于11月广州车展亮相 2023年上市\n",
       "4897  科技_车科技          松下将于2024财年开始为特斯拉量产4680型电池\n",
       "4898  科技_车科技         电动汽车有望每周只需充电一次？锂硫电池关键障碍被突破\n",
       "4899  科技_车科技                    李一男造车交卷了！首款车长这样\n",
       "\n",
       "[4900 rows x 2 columns]"
      ]
     },
     "execution_count": 4,
     "metadata": {},
     "output_type": "execute_result"
    }
   ],
   "source": [
    "df = pd.DataFrame(data_list)\n",
    "df"
   ]
  },
  {
   "cell_type": "code",
   "execution_count": 5,
   "metadata": {},
   "outputs": [
    {
     "data": {
      "text/plain": [
       "科技_数码      299\n",
       "科技_手机      296\n",
       "汽车_试驾      200\n",
       "汽车_新车      200\n",
       "体育_CBA     199\n",
       "政务_政策      199\n",
       "科技_区块链     199\n",
       "汽车_行业      199\n",
       "时尚_美容      199\n",
       "体育_NBA     199\n",
       "科技_车科技     199\n",
       "政务_地方      199\n",
       "政务_发展治理    199\n",
       "政务_反腐      199\n",
       "娱乐_音乐      199\n",
       "娱乐_电视      199\n",
       "娱乐_电影      199\n",
       "体育_国际足球    199\n",
       "体育_中国足球    199\n",
       "时尚_情感      198\n",
       "时尚_时装      198\n",
       "娱乐_明星      197\n",
       "政务_文旅      127\n",
       "汽车_导购      100\n",
       "科技_5G      100\n",
       "Name: label, dtype: int64"
      ]
     },
     "execution_count": 5,
     "metadata": {},
     "output_type": "execute_result"
    }
   ],
   "source": [
    "df[\"label\"].value_counts()"
   ]
  },
  {
   "cell_type": "code",
   "execution_count": 6,
   "metadata": {},
   "outputs": [
    {
     "name": "stdout",
     "output_type": "stream",
     "text": [
      "count    4900.000000\n",
      "mean       24.592857\n",
      "std         6.170020\n",
      "min         6.000000\n",
      "25%        21.000000\n",
      "50%        25.000000\n",
      "75%        29.000000\n",
      "max        70.000000\n",
      "Name: sentence1, dtype: float64\n"
     ]
    },
    {
     "data": {
      "text/plain": [
       "<AxesSubplot:ylabel='Frequency'>"
      ]
     },
     "execution_count": 6,
     "metadata": {},
     "output_type": "execute_result"
    },
    {
     "data": {
      "image/png": "[encoded data removed]",
      "text/plain": [
       "<Figure size 432x288 with 1 Axes>"
      ]
     },
     "metadata": {
      "needs_background": "light"
     },
     "output_type": "display_data"
    }
   ],
   "source": [
    "line_df = df[\"sentence1\"].str.len()\n",
    "print(line_df.describe())\n",
    "line_df.plot(kind=\"hist\")"
   ]
  },
  {
   "cell_type": "code",
   "execution_count": 7,
   "metadata": {},
   "outputs": [
    {
     "name": "stderr",
     "output_type": "stream",
     "text": [
      "Creating CSV from Arrow format: 100%|██████████| 1/1 [00:00<00:00, 79.84ba/s]\n",
      "Creating CSV from Arrow format: 100%|██████████| 1/1 [00:00<00:00, 249.41ba/s]\n"
     ]
    },
    {
     "data": {
      "text/plain": [
       "81769"
      ]
     },
     "execution_count": 7,
     "metadata": {},
     "output_type": "execute_result"
    }
   ],
   "source": [
    "ds = Dataset.from_pandas(df)\n",
    "ds = ds.train_test_split(test_size=0.2)\n",
    "ds[\"train\"].to_csv(\"train.csv\", index=False, sep=\"\\t\")\n",
    "ds[\"test\"].to_csv(\"test.csv\", index=False, sep=\"\\t\")"
   ]
  },
  {
   "cell_type": "code",
   "execution_count": 8,
   "metadata": {},
   "outputs": [
    {
     "name": "stdout",
     "output_type": "stream",
     "text": [
      "25\n",
      "25\n"
     ]
    }
   ],
   "source": [
    "print(len(pd.DataFrame(iter(ds[\"train\"]))[\"label\"].value_counts()))\n",
    "print(len(pd.DataFrame(iter(ds[\"test\"]))[\"label\"].value_counts()))"
   ]
  }
 ],
 "metadata": {
  "interpreter": {
   "hash": "71b3735fdba4a5f8d5824874c2a550d97d7eac0beecd462770636ee993e44fdd"
  },
  "kernelspec": {
   "display_name": "Python 3.8.12 ('nlp')",
   "language": "python",
   "name": "python3"
  },
  "language_info": {
   "codemirror_mode": {
    "name": "ipython",
    "version": 3
   },
   "file_extension": ".py",
   "mimetype": "text/x-python",
   "name": "python",
   "nbconvert_exporter": "python",
   "pygments_lexer": "ipython3",
   "version": "3.8.12"
  },
  "orig_nbformat": 4
 },
 "nbformat": 4,
 "nbformat_minor": 2
}
