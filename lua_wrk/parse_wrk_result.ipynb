{
 "cells": [
  {
   "cell_type": "markdown",
   "metadata": {},
   "source": [
    "# 解析 wrk 的输出"
   ]
  },
  {
   "cell_type": "code",
   "execution_count": 12,
   "metadata": {},
   "outputs": [],
   "source": [
    "import os\n",
    "import json\n",
    "import re\n",
    "from collections import defaultdict\n",
    "from ast import literal_eval\n",
    "\n",
    "import pandas as pd"
   ]
  },
  {
   "cell_type": "code",
   "execution_count": 6,
   "metadata": {},
   "outputs": [
    {
     "name": "stdout",
     "output_type": "stream",
     "text": [
      "106\n"
     ]
    }
   ],
   "source": [
    "file = \"./result1.txt\"\n",
    "\n",
    "with open(file, \"r\", encoding=\"utf8\") as f:\n",
    "    lines = f.readlines()\n",
    "\n",
    "print(len(lines))"
   ]
  },
  {
   "cell_type": "code",
   "execution_count": 21,
   "metadata": {},
   "outputs": [],
   "source": [
    "def convert_percentage(percentage: str):\n",
    "    percentage = percentage.replace(\"%\", \"\").strip()\n",
    "    return round(literal_eval(percentage) / 100, 5)\n",
    "\n",
    "def convert_latency(latency: str):\n",
    "    latency = latency.strip()\n",
    "    if latency.endswith(\"ms\"):\n",
    "        latency = latency[:-2]\n",
    "        latency = float(latency)\n",
    "    elif latency.endswith(\"s\"):\n",
    "        latency = latency[:-1]\n",
    "        latency = float(latency) * 1000\n",
    "    else:\n",
    "        # 默认是 ms\n",
    "        latency = float(latency)\n",
    "    return latency\n"
   ]
  },
  {
   "cell_type": "code",
   "execution_count": 50,
   "metadata": {},
   "outputs": [],
   "source": [
    "def parse_latency_istribution(lines):\n",
    "    # 解析总体的 Latency Distribution\n",
    "    data_list = []\n",
    "    flag = False\n",
    "    for line in lines:\n",
    "        if flag:\n",
    "            split = line.strip().split()\n",
    "            if len(split) == 2:\n",
    "                percentage, latency = split\n",
    "                percentage = convert_percentage(percentage)\n",
    "                latency = convert_latency(latency)\n",
    "                # print(percentage, latency)\n",
    "                data_list.append({\n",
    "                    \"percentage\": percentage,\n",
    "                    \"latency\": latency,\n",
    "                })\n",
    "\n",
    "        if \"Latency Distribution\" in line:\n",
    "            flag = True\n",
    "        if line.strip() == \"\":\n",
    "            flag = False\n",
    "    return data_list"
   ]
  },
  {
   "cell_type": "code",
   "execution_count": 51,
   "metadata": {},
   "outputs": [
    {
     "data": {
      "text/html": [
       "<div>\n",
       "<style scoped>\n",
       "    .dataframe tbody tr th:only-of-type {\n",
       "        vertical-align: middle;\n",
       "    }\n",
       "\n",
       "    .dataframe tbody tr th {\n",
       "        vertical-align: top;\n",
       "    }\n",
       "\n",
       "    .dataframe thead th {\n",
       "        text-align: right;\n",
       "    }\n",
       "</style>\n",
       "<table border=\"1\" class=\"dataframe\">\n",
       "  <thead>\n",
       "    <tr style=\"text-align: right;\">\n",
       "      <th></th>\n",
       "      <th>percentage</th>\n",
       "      <th>latency</th>\n",
       "    </tr>\n",
       "  </thead>\n",
       "  <tbody>\n",
       "    <tr>\n",
       "      <th>0</th>\n",
       "      <td>0.50000</td>\n",
       "      <td>2.77</td>\n",
       "    </tr>\n",
       "    <tr>\n",
       "      <th>1</th>\n",
       "      <td>0.75000</td>\n",
       "      <td>3.52</td>\n",
       "    </tr>\n",
       "    <tr>\n",
       "      <th>2</th>\n",
       "      <td>0.90000</td>\n",
       "      <td>5.81</td>\n",
       "    </tr>\n",
       "    <tr>\n",
       "      <th>3</th>\n",
       "      <td>0.99000</td>\n",
       "      <td>26.01</td>\n",
       "    </tr>\n",
       "    <tr>\n",
       "      <th>4</th>\n",
       "      <td>0.99900</td>\n",
       "      <td>52.16</td>\n",
       "    </tr>\n",
       "    <tr>\n",
       "      <th>5</th>\n",
       "      <td>0.99990</td>\n",
       "      <td>58.05</td>\n",
       "    </tr>\n",
       "    <tr>\n",
       "      <th>6</th>\n",
       "      <td>0.99999</td>\n",
       "      <td>61.38</td>\n",
       "    </tr>\n",
       "    <tr>\n",
       "      <th>7</th>\n",
       "      <td>1.00000</td>\n",
       "      <td>61.38</td>\n",
       "    </tr>\n",
       "  </tbody>\n",
       "</table>\n",
       "</div>"
      ],
      "text/plain": [
       "   percentage  latency\n",
       "0     0.50000     2.77\n",
       "1     0.75000     3.52\n",
       "2     0.90000     5.81\n",
       "3     0.99000    26.01\n",
       "4     0.99900    52.16\n",
       "5     0.99990    58.05\n",
       "6     0.99999    61.38\n",
       "7     1.00000    61.38"
      ]
     },
     "execution_count": 51,
     "metadata": {},
     "output_type": "execute_result"
    }
   ],
   "source": [
    "data_list = parse_latency_istribution(lines)\n",
    "df = pd.DataFrame(data_list)\n",
    "df"
   ]
  },
  {
   "cell_type": "code",
   "execution_count": 52,
   "metadata": {},
   "outputs": [
    {
     "data": {
      "image/png": "[encoded data removed]",
      "text/plain": [
       "<Figure size 640x480 with 1 Axes>"
      ]
     },
     "metadata": {},
     "output_type": "display_data"
    }
   ],
   "source": [
    "ax = df.plot.line(x=\"percentage\", y=\"latency\", color=\"green\", marker=\"o\", linestyle=\"--\")\n",
    "\n",
    "# 在折线图上显示每个点的数值\n",
    "for x, y in zip(df[\"percentage\"], df[\"latency\"]):\n",
    "    ax.annotate(str(y), xy=(x, y), xytext=(0, 5), textcoords=\"offset points\")\n",
    "\n",
    "import matplotlib.pyplot as plt\n",
    "plt.show()"
   ]
  },
  {
   "cell_type": "code",
   "execution_count": 53,
   "metadata": {},
   "outputs": [],
   "source": [
    "def parse_detail_latency_istribution(lines):\n",
    "    \"\"\"\n",
    "    解析更详细的时延信息\n",
    "    \"\"\"\n",
    "    # 解析总体的 Latency Distribution\n",
    "    data_list = []\n",
    "    flag = False\n",
    "    for line in lines:\n",
    "        if flag:\n",
    "            split = line.strip().split()\n",
    "            if len(split) == 4:\n",
    "                latency, percentage, count, _ = split\n",
    "                percentage = literal_eval(percentage)\n",
    "                latency = literal_eval(latency)\n",
    "                # print(percentage, latency)\n",
    "                data_list.append({\n",
    "                    \"percentage\": percentage,\n",
    "                    \"latency\": latency,\n",
    "                    \"count\": count,\n",
    "                })\n",
    "\n",
    "        if \"Value   Percentile   TotalCount\" in line:\n",
    "            flag = True\n",
    "        if \"#[Mean\" in line:\n",
    "            flag = False\n",
    "    return data_list"
   ]
  },
  {
   "cell_type": "code",
   "execution_count": 56,
   "metadata": {},
   "outputs": [
    {
     "data": {
      "text/html": [
       "<div>\n",
       "<style scoped>\n",
       "    .dataframe tbody tr th:only-of-type {\n",
       "        vertical-align: middle;\n",
       "    }\n",
       "\n",
       "    .dataframe tbody tr th {\n",
       "        vertical-align: top;\n",
       "    }\n",
       "\n",
       "    .dataframe thead th {\n",
       "        text-align: right;\n",
       "    }\n",
       "</style>\n",
       "<table border=\"1\" class=\"dataframe\">\n",
       "  <thead>\n",
       "    <tr style=\"text-align: right;\">\n",
       "      <th></th>\n",
       "      <th>percentage</th>\n",
       "      <th>latency</th>\n",
       "      <th>count</th>\n",
       "    </tr>\n",
       "  </thead>\n",
       "  <tbody>\n",
       "    <tr>\n",
       "      <th>0</th>\n",
       "      <td>0.000000</td>\n",
       "      <td>0.454</td>\n",
       "      <td>1</td>\n",
       "    </tr>\n",
       "    <tr>\n",
       "      <th>1</th>\n",
       "      <td>0.100000</td>\n",
       "      <td>1.673</td>\n",
       "      <td>3950</td>\n",
       "    </tr>\n",
       "    <tr>\n",
       "      <th>2</th>\n",
       "      <td>0.200000</td>\n",
       "      <td>2.028</td>\n",
       "      <td>7902</td>\n",
       "    </tr>\n",
       "    <tr>\n",
       "      <th>3</th>\n",
       "      <td>0.300000</td>\n",
       "      <td>2.301</td>\n",
       "      <td>11881</td>\n",
       "    </tr>\n",
       "    <tr>\n",
       "      <th>4</th>\n",
       "      <td>0.400000</td>\n",
       "      <td>2.543</td>\n",
       "      <td>15830</td>\n",
       "    </tr>\n",
       "    <tr>\n",
       "      <th>...</th>\n",
       "      <td>...</td>\n",
       "      <td>...</td>\n",
       "      <td>...</td>\n",
       "    </tr>\n",
       "    <tr>\n",
       "      <th>74</th>\n",
       "      <td>0.999963</td>\n",
       "      <td>60.127</td>\n",
       "      <td>39494</td>\n",
       "    </tr>\n",
       "    <tr>\n",
       "      <th>75</th>\n",
       "      <td>0.999969</td>\n",
       "      <td>60.127</td>\n",
       "      <td>39494</td>\n",
       "    </tr>\n",
       "    <tr>\n",
       "      <th>76</th>\n",
       "      <td>0.999973</td>\n",
       "      <td>60.127</td>\n",
       "      <td>39494</td>\n",
       "    </tr>\n",
       "    <tr>\n",
       "      <th>77</th>\n",
       "      <td>0.999976</td>\n",
       "      <td>61.375</td>\n",
       "      <td>39495</td>\n",
       "    </tr>\n",
       "    <tr>\n",
       "      <th>78</th>\n",
       "      <td>1.000000</td>\n",
       "      <td>61.375</td>\n",
       "      <td>39495</td>\n",
       "    </tr>\n",
       "  </tbody>\n",
       "</table>\n",
       "<p>79 rows × 3 columns</p>\n",
       "</div>"
      ],
      "text/plain": [
       "    percentage  latency  count\n",
       "0     0.000000    0.454      1\n",
       "1     0.100000    1.673   3950\n",
       "2     0.200000    2.028   7902\n",
       "3     0.300000    2.301  11881\n",
       "4     0.400000    2.543  15830\n",
       "..         ...      ...    ...\n",
       "74    0.999963   60.127  39494\n",
       "75    0.999969   60.127  39494\n",
       "76    0.999973   60.127  39494\n",
       "77    0.999976   61.375  39495\n",
       "78    1.000000   61.375  39495\n",
       "\n",
       "[79 rows x 3 columns]"
      ]
     },
     "execution_count": 56,
     "metadata": {},
     "output_type": "execute_result"
    }
   ],
   "source": [
    "data_list = parse_detail_latency_istribution(lines)\n",
    "df = pd.DataFrame(data_list)\n",
    "df"
   ]
  },
  {
   "cell_type": "code",
   "execution_count": 65,
   "metadata": {},
   "outputs": [
    {
     "data": {
      "image/png": "[encoded data removed]",
      "text/plain": [
       "<Figure size 640x480 with 1 Axes>"
      ]
     },
     "metadata": {},
     "output_type": "display_data"
    }
   ],
   "source": [
    "ax = df.plot.line(x=\"percentage\", y=\"latency\", color=\"green\", linestyle=\"-\")"
   ]
  },
  {
   "cell_type": "code",
   "execution_count": null,
   "metadata": {},
   "outputs": [],
   "source": []
  }
 ],
 "metadata": {
  "kernelspec": {
   "display_name": "Python 3",
   "language": "python",
   "name": "python3"
  },
  "language_info": {
   "codemirror_mode": {
    "name": "ipython",
    "version": 3
   },
   "file_extension": ".py",
   "mimetype": "text/x-python",
   "name": "python",
   "nbconvert_exporter": "python",
   "pygments_lexer": "ipython3",
   "version": "3.11.5"
  },
  "orig_nbformat": 4
 },
 "nbformat": 4,
 "nbformat_minor": 2
}
