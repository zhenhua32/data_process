{
 "cells": [
  {
   "cell_type": "markdown",
   "metadata": {},
   "source": [
    "# 使用 tabula-py\n",
    "\n",
    "pip install tabula-py"
   ]
  },
  {
   "cell_type": "code",
   "execution_count": 5,
   "metadata": {},
   "outputs": [
    {
     "name": "stderr",
     "output_type": "stream",
     "text": [
      "Got stderr: 三月 04, 2024 11:09:19 下午 org.apache.pdfbox.pdmodel.font.PDType0Font toUnicode\n",
      "警告: No Unicode mapping for CID+3116 (3116) in font QDGMKT+FZLTHJW--GB1-0\n",
      "三月 04, 2024 11:09:30 下午 org.apache.pdfbox.pdmodel.font.PDType0Font toUnicode\n",
      "警告: No Unicode mapping for CID+1233 (1233) in font QDGMKT+FZLTHJW--GB1-0\n",
      "三月 04, 2024 11:10:09 下午 org.apache.pdfbox.pdmodel.font.FileSystemFontProvider loadDiskCache\n",
      "警告: New fonts found, font cache will be re-built\n",
      "三月 04, 2024 11:10:09 下午 org.apache.pdfbox.pdmodel.font.FileSystemFontProvider <init>\n",
      "警告: Building on-disk font cache, this may take a while\n",
      "三月 04, 2024 11:10:09 下午 org.apache.pdfbox.pdmodel.font.FileSystemFontProvider addTrueTypeFont\n",
      "警告: Could not load font file: C:\\WINDOWS\\FONTS\\mstmc.ttf\n",
      "java.io.EOFException\n",
      "\tat org.apache.fontbox.ttf.TTFDataStream.readUnsignedInt(TTFDataStream.java:151)\n",
      "\tat org.apache.fontbox.ttf.TTFParser.readTableDirectory(TTFParser.java:312)\n",
      "\tat org.apache.fontbox.ttf.TTFParser.parse(TTFParser.java:139)\n",
      "\tat org.apache.fontbox.ttf.TTFParser.parse(TTFParser.java:87)\n",
      "\tat org.apache.pdfbox.pdmodel.font.FileSystemFontProvider.addTrueTypeFont(FileSystemFontProvider.java:657)\n",
      "\tat org.apache.pdfbox.pdmodel.font.FileSystemFontProvider.scanFonts(FileSystemFontProvider.java:379)\n",
      "\tat org.apache.pdfbox.pdmodel.font.FileSystemFontProvider.<init>(FileSystemFontProvider.java:358)\n",
      "\tat org.apache.pdfbox.pdmodel.font.FontMapperImpl$DefaultFontProvider.<clinit>(FontMapperImpl.java:140)\n",
      "\tat org.apache.pdfbox.pdmodel.font.FontMapperImpl.getProvider(FontMapperImpl.java:159)\n",
      "\tat org.apache.pdfbox.pdmodel.font.FontMapperImpl.findFont(FontMapperImpl.java:423)\n",
      "\tat org.apache.pdfbox.pdmodel.font.FontMapperImpl.findFontBoxFont(FontMapperImpl.java:386)\n",
      "\tat org.apache.pdfbox.pdmodel.font.FontMapperImpl.getFontBoxFont(FontMapperImpl.java:360)\n",
      "\tat org.apache.pdfbox.pdmodel.font.PDType1Font.<init>(PDType1Font.java:146)\n",
      "\tat org.apache.pdfbox.pdmodel.font.PDType1Font.<clinit>(PDType1Font.java:79)\n",
      "\tat org.apache.pdfbox.pdmodel.font.PDFontFactory.createFont(PDFontFactory.java:76)\n",
      "\tat org.apache.pdfbox.pdmodel.PDResources.getFont(PDResources.java:146)\n",
      "\tat org.apache.pdfbox.contentstream.operator.text.SetFontAndSize.process(SetFontAndSize.java:66)\n",
      "\tat org.apache.pdfbox.contentstream.PDFStreamEngine.processOperator(PDFStreamEngine.java:933)\n",
      "\tat org.apache.pdfbox.contentstream.PDFStreamEngine.processStreamOperators(PDFStreamEngine.java:514)\n",
      "\tat org.apache.pdfbox.contentstream.PDFStreamEngine.processStream(PDFStreamEngine.java:492)\n",
      "\tat org.apache.pdfbox.contentstream.PDFStreamEngine.processPage(PDFStreamEngine.java:155)\n",
      "\tat technology.tabula.ObjectExtractor.extractPage(ObjectExtractor.java:24)\n",
      "\tat technology.tabula.PageIterator.next(PageIterator.java:30)\n",
      "\tat technology.tabula.CommandLineApp.extractFile(CommandLineApp.java:161)\n",
      "\tat technology.tabula.CommandLineApp.extractFileTables(CommandLineApp.java:124)\n",
      "\tat technology.tabula.CommandLineApp.extractTables(CommandLineApp.java:106)\n",
      "\tat technology.tabula.CommandLineApp.main(CommandLineApp.java:76)\n",
      "\n",
      "三月 04, 2024 11:10:09 下午 org.apache.pdfbox.pdmodel.font.FileSystemFontProvider <init>\n",
      "警告: Finished building on-disk font cache, found 179 fonts\n",
      "\n"
     ]
    },
    {
     "name": "stdout",
     "output_type": "stream",
     "text": [
      "158\n"
     ]
    }
   ],
   "source": [
    "# 导入所需的库\n",
    "import tabula\n",
    "\n",
    "# PDF 文件路径\n",
    "file = r\"data\\m9-product-manual.pdf\"\n",
    "\n",
    "# 使用 tabula 读取 PDF 文件中的表格\n",
    "tables = tabula.read_pdf(file, pages='all')\n",
    "\n",
    "# 打印所有表格\n",
    "print(len(tables))"
   ]
  },
  {
   "cell_type": "code",
   "execution_count": 2,
   "metadata": {},
   "outputs": [
    {
     "data": {
      "text/plain": [
       "158"
      ]
     },
     "execution_count": 2,
     "metadata": {},
     "output_type": "execute_result"
    }
   ],
   "source": [
    "len(tables)"
   ]
  },
  {
   "cell_type": "code",
   "execution_count": 4,
   "metadata": {},
   "outputs": [
    {
     "data": {
      "text/html": [
       "<div>\n",
       "<style scoped>\n",
       "    .dataframe tbody tr th:only-of-type {\n",
       "        vertical-align: middle;\n",
       "    }\n",
       "\n",
       "    .dataframe tbody tr th {\n",
       "        vertical-align: top;\n",
       "    }\n",
       "\n",
       "    .dataframe thead th {\n",
       "        text-align: right;\n",
       "    }\n",
       "</style>\n",
       "<table border=\"1\" class=\"dataframe\">\n",
       "  <thead>\n",
       "    <tr style=\"text-align: right;\">\n",
       "      <th></th>\n",
       "      <th>辆性能与安全,在您进行车辆保养或维修时,</th>\n",
       "      <th>●</th>\n",
       "      <th>车辆行驶过程中,务必全程佩戴安全带,若</th>\n",
       "    </tr>\n",
       "  </thead>\n",
       "  <tbody>\n",
       "    <tr>\n",
       "      <th>0</th>\n",
       "      <td>请使用 AITO 品牌原厂配件。</td>\n",
       "      <td>NaN</td>\n",
       "      <td>有儿童乘坐时,应使用合适的儿童安全座椅</td>\n",
       "    </tr>\n",
       "    <tr>\n",
       "      <th>1</th>\n",
       "      <td>NaN</td>\n",
       "      <td>NaN</td>\n",
       "      <td>( 51 页) 。</td>\n",
       "    </tr>\n",
       "    <tr>\n",
       "      <th>2</th>\n",
       "      <td>如果您使用非 AITO 品牌原厂配件,可能会对</td>\n",
       "      <td>NaN</td>\n",
       "      <td>NaN</td>\n",
       "    </tr>\n",
       "    <tr>\n",
       "      <th>3</th>\n",
       "      <td>您车辆的性能、安全和排放等系统产生不利影</td>\n",
       "      <td>●</td>\n",
       "      <td>遵守交通规则,避免超速、超载行驶。</td>\n",
       "    </tr>\n",
       "    <tr>\n",
       "      <th>4</th>\n",
       "      <td>响,因此产生的任何问题,本公司将不会承担</td>\n",
       "      <td>●</td>\n",
       "      <td>请遵循危险、警告等各类安全提示信息。</td>\n",
       "    </tr>\n",
       "    <tr>\n",
       "      <th>5</th>\n",
       "      <td>责任。</td>\n",
       "      <td>NaN</td>\n",
       "      <td>NaN</td>\n",
       "    </tr>\n",
       "    <tr>\n",
       "      <th>6</th>\n",
       "      <td>NaN</td>\n",
       "      <td>●</td>\n",
       "      <td>为避免人身伤害,禁止触碰车辆任何高压部</td>\n",
       "    </tr>\n",
       "    <tr>\n",
       "      <th>7</th>\n",
       "      <td>请不要私自改装您车辆的任何一个零部件、车</td>\n",
       "      <td>NaN</td>\n",
       "      <td>件,如高压电缆、高压插头、连接插头等。</td>\n",
       "    </tr>\n",
       "    <tr>\n",
       "      <th>8</th>\n",
       "      <td>辆信息及标识等,改装可能会影响车辆的性</td>\n",
       "      <td>NaN</td>\n",
       "      <td>NaN</td>\n",
       "    </tr>\n",
       "    <tr>\n",
       "      <th>9</th>\n",
       "      <td>能,如安全性、可靠性等,甚至可能违反国家</td>\n",
       "      <td>●</td>\n",
       "      <td>车辆使用环境应无腐蚀性、爆炸性和破坏绝</td>\n",
       "    </tr>\n",
       "  </tbody>\n",
       "</table>\n",
       "</div>"
      ],
      "text/plain": [
       "      辆性能与安全,在您进行车辆保养或维修时,    ●  车辆行驶过程中,务必全程佩戴安全带,若\n",
       "0         请使用 AITO 品牌原厂配件。  NaN  有儿童乘坐时,应使用合适的儿童安全座椅\n",
       "1                      NaN  NaN            ( 51 页) 。\n",
       "2  如果您使用非 AITO 品牌原厂配件,可能会对  NaN                  NaN\n",
       "3     您车辆的性能、安全和排放等系统产生不利影    ●    遵守交通规则,避免超速、超载行驶。\n",
       "4     响,因此产生的任何问题,本公司将不会承担    ●   请遵循危险、警告等各类安全提示信息。\n",
       "5                      责任。  NaN                  NaN\n",
       "6                      NaN    ●  为避免人身伤害,禁止触碰车辆任何高压部\n",
       "7     请不要私自改装您车辆的任何一个零部件、车  NaN  件,如高压电缆、高压插头、连接插头等。\n",
       "8      辆信息及标识等,改装可能会影响车辆的性  NaN                  NaN\n",
       "9     能,如安全性、可靠性等,甚至可能违反国家    ●  车辆使用环境应无腐蚀性、爆炸性和破坏绝"
      ]
     },
     "execution_count": 4,
     "metadata": {},
     "output_type": "execute_result"
    }
   ],
   "source": [
    "tables[1]"
   ]
  },
  {
   "cell_type": "markdown",
   "metadata": {},
   "source": [
    "# 使用 pdfplumber\n",
    "\n",
    "pip install pdfplumber"
   ]
  },
  {
   "cell_type": "code",
   "execution_count": 6,
   "metadata": {},
   "outputs": [
    {
     "name": "stdout",
     "output_type": "stream",
     "text": [
      "576\n"
     ]
    }
   ],
   "source": [
    "import pdfplumber\n",
    "\n",
    "# PDF 文件路径\n",
    "file = r\"data\\m9-product-manual.pdf\"\n",
    "\n",
    "tables = []\n",
    "\n",
    "# 打开 PDF 文件\n",
    "with pdfplumber.open(file) as pdf:\n",
    "    # 遍历 PDF 中的每一页\n",
    "    for page in pdf.pages:\n",
    "        # 提取当前页中的表格\n",
    "        tables.extend(page.extract_tables())\n",
    "\n",
    "print(len(tables))"
   ]
  },
  {
   "cell_type": "code",
   "execution_count": 7,
   "metadata": {},
   "outputs": [
    {
     "data": {
      "text/plain": [
       "[['危险'], ['危险标识提醒您，如未按照该标识内容操\\n作，可能会直接造成车辆损毁或人身伤亡。']]"
      ]
     },
     "execution_count": 7,
     "metadata": {},
     "output_type": "execute_result"
    }
   ],
   "source": [
    "tables[0]"
   ]
  },
  {
   "cell_type": "code",
   "execution_count": 18,
   "metadata": {},
   "outputs": [
    {
     "name": "stdout",
     "output_type": "stream",
     "text": [
      "[['后遮阳帘控制开关，控制后遮阳帘打\\n开、暂停、关闭。', ''], ['激光投影控制开关，控制激光投影打\\n开或关闭。', ''], ['屏蔽音控制开关，控制屏蔽音打开或\\n关闭。', ''], ['激光幕布开关，控制幕布打开、停止\\n或关闭。', ''], ['后空调温度加开关。', ''], ['后空调温度显示。', ''], ['后空调温度减开关。', ''], ['后空调出风模式显示。', ''], ['后空调模式切换开关，控制后空调吹\\n风模式。', '—']]\n",
      "[['4'], ['5']]\n",
      "[['名称', '标识', '含义'], [None, '', None], [None, '', None], [None, '', None]]\n",
      "[['质量组', '座椅位置', None, None], ['', '前排乘客座椅', '第二排乘客座椅', '第三排乘客座椅'], [None, '×', 'L1、I1', None], [None, '×', 'L1、I1', None], [None, '×', 'L、L2、I', None], [None, '×', 'L、I、I3', None], [None, '×', 'L、I、I3', None]]\n",
      "[['质量组', '尺码类型', '固定装置', '车辆上 ISOFIX 位置', None, None], ['', '', '', '前排乘客座椅', '第二排乘客座椅', '第三排乘客座椅'], [None, 'F', 'ISO/L1', '×', 'IL', None], [None, 'G', 'ISO/L2', '×', 'IL', None], [None, '-', '（1）', '×', '×', None], [None, 'E', 'ISO/R1', '×', 'IL', None], [None, '-', '（1）', '×', '×', None], [None, 'E', 'ISO/R1', '×', 'IL', None], [None, 'D', 'ISO/R2', '×', 'IL', None], [None, 'C', 'ISO/R3', '×', 'IL', None], [None, '-', '（1）', '×', '×', None], [None, 'D', 'ISO/R2', '×', 'IL、IUF', None], [None, 'C', 'ISO/R3', '×', 'IL、IUF', None], [None, 'B', 'ISO/F2', '×', 'IL、IUF', None], [None, 'B1', 'ISO/F2X', '×', 'IL、IUF', None], [None, 'A', 'ISO/F3', '×', 'IL、IUF', None], [None, '-', '（1）', '×', '×', None], [None, '-', '（1）', '×', 'IL', None], [None, '-', '（1）', '×', 'IL', None]]\n",
      "[['场景类型', '应用场景']]\n",
      "[['页签', '说明']]\n",
      "[['超声波雷达\\n（前）×6', ''], ['毫米波雷达', ''], ['侧视摄像头\\n（右）×2', ''], ['鱼眼摄像头\\n（右）×1', ''], ['前视摄像头×\\n2', ''], ['超声波雷达\\n（后）×6', '']]\n",
      "[['鱼眼摄像头\\n（后）×1', '']]\n",
      "[['激活 ACC 时的实时\\n车速', '初始目标车速']]\n",
      "[['序号', '元素含义', '说明'], [None, '刹停位置', None], [None, '减速路段', None], [None, '意图说明', None]]\n",
      "[['10'], ['11']]\n",
      "[['序号', '元素含义', '说明'], [None, '避让目标', None]]\n",
      "[['操作时机', '操作方法', '作用'], [None, '反向轻拨转\\n向灯拨杆', None], [None, '反向重拨转\\n向灯拨杆', None], [None, '反向拨动转\\n向灯拨杆\\n（轻拨、重\\n拨均可）', None]]\n",
      "[['6'], ['7']]\n",
      "[['操作时机', '操作方法', '作用'], [None, '反向轻拨组\\n合控制拨杆', None], [None, '反向重拨组\\n合控制拨杆', None], [None, '反向拨动组\\n合控制拨杆\\n（轻拨、重\\n拨均可）', None]]\n",
      "[['车辆与障碍物\\n的距离范围', '障碍物告警曲\\n线颜色', '告警声'], [None, '红色', None], [None, '橙色', None], [None, '绿色', None]]\n",
      "[['设置项', '参数项']]\n",
      "[['页签', '说明']]\n",
      "[['8'], ['9']]\n",
      "[['页签', '说明']]\n",
      "[['1'], ['2']]\n",
      "[['操作', '功能']]\n",
      "[['灯光状态', '说明']]\n",
      "[['', '', '', '最大输出功率\\n（kW）', None], ['输入电\\n压制式', '用电容\\n量', '输入电\\n流', '车辆处\\n于单相\\n充电模\\n式', '车辆处\\n于三相\\n充电模\\n式'], [None, '7kW\\n（默\\n认）', '32A', '7kW', None], [None, '21kW\\n（默\\n认）', '32A', '7kW', None], [None, '11kW', '16A', '3.5kW', None]]\n",
      "[['工作状态名称', '工作状态说明']]\n",
      "[['网络状态', '网络状态说明']]\n",
      "[['工作状态名称', '工作状态说明']]\n",
      "[['时间和里程（以先到者为准）', None], ['保养间隔\\n保养项目', '时间（月）'], [None, '里程（x1000 公里）']]\n",
      "[['项目', '时间和里程（以先到者为准）']]\n",
      "[['图示', '说明']]\n",
      "[['8'], ['9']]\n",
      "[['标注', '项目', '参数（mm）'], [None, '长度', None], [None, '宽度1', None], [None, '高度2', None], [None, '轴距', None], [None, '前悬', None], [None, '后悬', None], [None, '最小离地间隙2', None], [None, '前轮距', None], [None, '后轮距', None]]\n",
      "[['7'], ['8']]\n",
      "[['项目', '参数']]\n",
      "[['项目', '参数']]\n",
      "[['项目', 'HW165\\nCYS210XY0P1', 'HW200\\nCTZ196XY0P4'], [None, '交流异步', None], [None, '360', None], [None, '42', None], [None, '165', None], [None, '63', None], [None, '315', None], [None, '6250', None], [None, '17600', None]]\n",
      "[['', '', '推荐胎压（冷胎）', None, '', ''], ['适用位置', '轮胎尺寸/类型', '空载\\nkPa/bar', '满载\\nkPa/bar', '动平衡要求\\n（g）', '轮辋型号'], [None, '265/45 R21', '250/2.5', '290/2.9', '≤10', None], [None, '285/45 R21', None, None, None, None], [None, '265/40 R22', '270/2.7', '290/2.9', None, None], [None, '285/40 R22', None, None, None, None]]\n",
      "[['车轮定位类型', '参数（°）']]\n",
      "[['项目', '参数']]\n",
      "[['项目', '驾驶员侧座椅', '副驾驶侧座椅', '第二排普通座\\n椅', '第二排零重力\\n座椅', '第三排座椅'], [None, '向前滑动\\n200mm，\\n向后滑动\\n60mm', '向前滑动\\n170mm，\\n向后滑动\\n110mm', '向前滑动 80mm，\\n向后滑动 140mm', None, None], [None, '25°', '25°', '25°', '25°', None], [None, '向前调整\\n25°，向后调\\n整 63°', '向前调整\\n25°，向后调\\n整 66°', '向前调整\\n25°，向后调\\n整 35°', '向前调整\\n25°，向后调\\n整 25°', None], [None, '/', None, '扶手锁止行程\\n48°，全行程\\n120°', '外侧扶手可调\\n行程 67°，内\\n侧扶手可调行\\n程 139°', None]]\n",
      "[['项目', '类型']]\n",
      "[['项目', '参数']]\n",
      "[['项目', '参数']]\n",
      "[['制动盘/制动块', '参数（mm）', None], ['', '前轮', '后轮'], ['制动盘标准厚度', '32', '22'], ['制动盘使用极限厚度', '30', '20'], ['制动块标准厚度1', '8', '8'], ['制动块磨损极限厚度1', '6', '6']]\n",
      "[['项目', '21寸轮胎', '22寸轮胎'], [None, 'SKE6520SSHEVAS', None], [None, '6.9', None], [None, '22.2', None], [None, '175', None]]\n",
      "[['项目', '等级', '油箱容积（L）'], [None, '95# 及以上', None]]\n",
      "[['项目', '规格', '用量（L）'], [None, 'BOT 805C EV', None], [None, 'SP 0W/20', None]]\n",
      "[['项目', '规格', '用量（L）'], [None, '-35℃', None]]\n",
      "[['项目', '规格', '用量（g）'], [None, 'R134a', None]]\n",
      "[['项目', '规格', '用量（L）'], [None, '-40℃', None]]\n",
      "[['术语', '说明']]\n",
      "[['术语', '说明']]\n",
      "[['术语', '说明']]\n",
      "[['术语', '说明']]\n"
     ]
    }
   ],
   "source": [
    "for x in tables:\n",
    "    if x[0][0] not in [\"危险\", \"警告\", \"注意\", \"提示\", \"图标\"]:\n",
    "        print(x)"
   ]
  },
  {
   "cell_type": "code",
   "execution_count": 19,
   "metadata": {},
   "outputs": [
    {
     "data": {
      "text/plain": [
       "False"
      ]
     },
     "execution_count": 19,
     "metadata": {},
     "output_type": "execute_result"
    }
   ],
   "source": [
    "\"进入个人中心或唤起用户登录\" in str(tables)"
   ]
  },
  {
   "cell_type": "markdown",
   "metadata": {},
   "source": [
    "# 使用 Camelot\n",
    "\n",
    "pip install \"camelot-py[base]\"\n",
    "\n",
    "有个和其他工具对比的网页 https://github.com/camelot-dev/camelot/wiki/Comparison-with-other-PDF-Table-Extraction-libraries-and-tools"
   ]
  },
  {
   "cell_type": "code",
   "execution_count": 3,
   "metadata": {},
   "outputs": [
    {
     "name": "stdout",
     "output_type": "stream",
     "text": [
      "628\n"
     ]
    }
   ],
   "source": [
    "# 导入所需的库\n",
    "import camelot\n",
    "\n",
    "# PDF 文件路径\n",
    "file = r\"data\\m9-product-manual.pdf\"\n",
    "\n",
    "# 使用 Camelot 读取 PDF 文件中的表格\n",
    "tables = camelot.read_pdf(file, pages='all')\n",
    "\n",
    "# 打印所有表格\n",
    "print(len(tables))"
   ]
  },
  {
   "cell_type": "code",
   "execution_count": 2,
   "metadata": {},
   "outputs": [],
   "source": [
    "import tkinter"
   ]
  },
  {
   "cell_type": "code",
   "execution_count": 1,
   "metadata": {},
   "outputs": [
    {
     "data": {
      "text/plain": [
       "'C:\\\\Program Files\\\\gs\\\\gs10.02.1\\\\bin\\\\gsdll64.dll'"
      ]
     },
     "execution_count": 1,
     "metadata": {},
     "output_type": "execute_result"
    }
   ],
   "source": [
    "import ctypes\n",
    "from ctypes.util import find_library\n",
    "find_library(\"\".join((\"gsdll\", str(ctypes.sizeof(ctypes.c_voidp) * 8), \".dll\")))"
   ]
  },
  {
   "cell_type": "code",
   "execution_count": 5,
   "metadata": {},
   "outputs": [
    {
     "data": {
      "text/html": [
       "<div>\n",
       "<style scoped>\n",
       "    .dataframe tbody tr th:only-of-type {\n",
       "        vertical-align: middle;\n",
       "    }\n",
       "\n",
       "    .dataframe tbody tr th {\n",
       "        vertical-align: top;\n",
       "    }\n",
       "\n",
       "    .dataframe thead th {\n",
       "        text-align: right;\n",
       "    }\n",
       "</style>\n",
       "<table border=\"1\" class=\"dataframe\">\n",
       "  <thead>\n",
       "    <tr style=\"text-align: right;\">\n",
       "      <th></th>\n",
       "      <th>0</th>\n",
       "    </tr>\n",
       "  </thead>\n",
       "  <tbody>\n",
       "    <tr>\n",
       "      <th>0</th>\n",
       "      <td>危险</td>\n",
       "    </tr>\n",
       "    <tr>\n",
       "      <th>1</th>\n",
       "      <td>危 险 标 识 提 醒 您 ， 如 未 按 照 该 标 识 内 容 操\\n作，可能会直接造成...</td>\n",
       "    </tr>\n",
       "  </tbody>\n",
       "</table>\n",
       "</div>"
      ],
      "text/plain": [
       "                                                   0\n",
       "0                                                 危险\n",
       "1  危 险 标 识 提 醒 您 ， 如 未 按 照 该 标 识 内 容 操\\n作，可能会直接造成..."
      ]
     },
     "execution_count": 5,
     "metadata": {},
     "output_type": "execute_result"
    }
   ],
   "source": [
    "tables[0].df"
   ]
  },
  {
   "cell_type": "code",
   "execution_count": 7,
   "metadata": {},
   "outputs": [
    {
     "name": "stdout",
     "output_type": "stream",
     "text": [
      "<class 'camelot.core.Table'>\n",
      "['__class__', '__delattr__', '__dict__', '__dir__', '__doc__', '__eq__', '__format__', '__ge__', '__getattribute__', '__gt__', '__hash__', '__init__', '__init_subclass__', '__le__', '__lt__', '__module__', '__ne__', '__new__', '__reduce__', '__reduce_ex__', '__repr__', '__setattr__', '__sizeof__', '__str__', '__subclasshook__', '__weakref__', '_bbox', '_image', '_segments', '_text', '_textedges', 'accuracy', 'cells', 'cols', 'data', 'df', 'flavor', 'order', 'page', 'parsing_report', 'rows', 'set_all_edges', 'set_border', 'set_edges', 'set_span', 'shape', 'to_csv', 'to_excel', 'to_html', 'to_json', 'to_markdown', 'to_sqlite', 'whitespace']\n"
     ]
    }
   ],
   "source": [
    "print(type(tables[0]))\n",
    "print(dir(tables[0]))"
   ]
  },
  {
   "cell_type": "code",
   "execution_count": 12,
   "metadata": {},
   "outputs": [
    {
     "name": "stdout",
     "output_type": "stream",
     "text": [
      "[['危险'], ['危 险 标 识 提 醒 您 ， 如 未 按 照 该 标 识 内 容 操\\n作，可能会直接造成车辆损毁或人身伤亡。']]\n"
     ]
    }
   ],
   "source": [
    "print(tables[0].data)"
   ]
  }
 ],
 "metadata": {
  "kernelspec": {
   "display_name": "base",
   "language": "python",
   "name": "python3"
  },
  "language_info": {
   "codemirror_mode": {
    "name": "ipython",
    "version": 3
   },
   "file_extension": ".py",
   "mimetype": "text/x-python",
   "name": "python",
   "nbconvert_exporter": "python",
   "pygments_lexer": "ipython3",
   "version": "3.8.5"
  }
 },
 "nbformat": 4,
 "nbformat_minor": 2
}
