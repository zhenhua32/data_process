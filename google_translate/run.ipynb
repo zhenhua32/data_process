{
 "cells": [
  {
   "cell_type": "code",
   "execution_count": 1,
   "metadata": {},
   "outputs": [
    {
     "data": {
      "text/plain": [
       "array([[48, 45, 21, 92, 76,  8, 85, 97, 56, 96],\n",
       "       [72,  6, 95, 84,  4, 86, 95, 21, 31, 84],\n",
       "       [31, 89, 18, 91, 91, 63, 89, 85, 96, 55],\n",
       "       [83, 50, 42,  5, 98, 97, 24,  4,  2, 20],\n",
       "       [34, 21, 90, 68, 87, 79, 83, 42, 19, 32],\n",
       "       [82, 75, 46, 40, 99, 99, 57, 53, 95, 55],\n",
       "       [66,  8, 23,  3,  2, 54,  2, 31, 16,  4],\n",
       "       [55, 24, 54, 97, 72,  4, 54, 83, 30, 35],\n",
       "       [65, 36, 99, 37, 82, 53, 65, 11, 33, 87],\n",
       "       [37, 96, 46, 22, 59, 32,  8, 18,  0, 13]])"
      ]
     },
     "execution_count": 1,
     "metadata": {},
     "output_type": "execute_result"
    }
   ],
   "source": [
    "import pandas as pd\n",
    "import numpy as np\n",
    "X = np.random.randint(0, 100, size=(10, 10))\n",
    "X"
   ]
  },
  {
   "cell_type": "code",
   "execution_count": 27,
   "metadata": {},
   "outputs": [
    {
     "data": {
      "text/plain": [
       "array([[-0.2593622 , -0.71820501,  0.69029356,  1.26460776,  0.39514539,\n",
       "        -0.47198982,  0.60309118,  0.85833285, -0.63246063, -1.14868396],\n",
       "       [-0.228849  ,  2.10673469, -0.03408857, -1.1793533 ,  1.21836494,\n",
       "        -1.35484847, -1.15979073,  2.19599444,  0.15401891,  1.30869963],\n",
       "       [-0.62552059,  0.90972634,  1.37206497,  0.26997244, -1.25129372,\n",
       "        -0.74363864, -1.3144295 , -0.47932874,  1.36650819,  0.93723467],\n",
       "       [ 0.74757339, -1.19700834, -1.82373853, -1.20777146, -0.09878635,\n",
       "         1.29372749,  1.25257399, -0.03344154, -1.38617018, -0.49147672],\n",
       "       [ 0.65603379,  0.23940167,  0.94595784,  1.1793533 ,  0.06585756,\n",
       "        -1.66045339, -0.44845242, -0.59080053, -1.38617018, -0.46290249],\n",
       "       [-1.11373179, -0.430923  , -1.35502068, -0.61099027, -0.59271808,\n",
       "        -0.0984727 ,  1.19071849,  0.26381659, -0.3375308 , -0.00571485],\n",
       "       [-0.93065259, -0.95760668, -0.07669928, -0.86675363, -0.34575221,\n",
       "         0.92021037, -0.72680219,  0.82117559,  1.72697798, -1.20583241],\n",
       "       [-1.29681098, -0.430923  , -0.84369212,  1.49195298,  1.21836494,\n",
       "         1.32768359,  0.35566916, -1.03668773, -0.1736809 ,  1.19440272],\n",
       "       [ 1.69348258, -0.57456401,  0.22157571,  0.4120632 ,  1.21836494,\n",
       "         0.51273714, -1.03607972, -0.8509014 ,  0.8421885 ,  1.10868004],\n",
       "       [ 1.35783738,  1.05336734,  0.90334712, -0.75308103, -1.82754741,\n",
       "         0.27504443,  1.28350174, -1.14815953, -0.1736809 , -1.23440664]])"
      ]
     },
     "execution_count": 27,
     "metadata": {},
     "output_type": "execute_result"
    }
   ],
   "source": [
    "from sklearn import preprocessing\n",
    "std = preprocessing.StandardScaler()\n",
    "std.fit_transform(X)"
   ]
  },
  {
   "cell_type": "code",
   "execution_count": 25,
   "metadata": {},
   "outputs": [
    {
     "data": {
      "text/plain": [
       "array([[34, 38, 72, 91, 64, 39, 65, 60, 25,  7],\n",
       "       [35, 97, 55,  5, 74, 13,  8, 96, 49, 93],\n",
       "       [22, 72, 88, 56, 44, 31,  3, 24, 86, 80],\n",
       "       [67, 28, 13,  4, 58, 91, 86, 36,  2, 30],\n",
       "       [64, 58, 78, 88, 60,  4, 31, 21,  2, 31],\n",
       "       [ 6, 44, 24, 25, 52, 50, 84, 44, 34, 47],\n",
       "       [12, 33, 54, 16, 55, 80, 22, 59, 97,  5],\n",
       "       [ 0, 44, 36, 99, 74, 92, 57,  9, 39, 89],\n",
       "       [98, 41, 61, 61, 74, 68, 12, 14, 70, 86],\n",
       "       [87, 75, 77, 20, 37, 61, 87,  6, 39,  4]])"
      ]
     },
     "execution_count": 25,
     "metadata": {},
     "output_type": "execute_result"
    }
   ],
   "source": [
    "X"
   ]
  },
  {
   "cell_type": "code",
   "execution_count": 24,
   "metadata": {},
   "outputs": [
    {
     "data": {
      "text/plain": [
       "array([[-0.48893591, -0.35293149,  0.80310614,  1.44912716,  0.53109728,\n",
       "        -0.31893038,  0.56509839,  0.39509286, -0.79494587, -1.40696579],\n",
       "       [-0.45493481,  1.6531338 ,  0.22508733, -1.474968  ,  0.87110835,\n",
       "        -1.20295915, -1.37296468,  1.61913269,  0.02108069,  1.51712937],\n",
       "       [-0.89694919,  0.80310614,  1.34712384,  0.25908843, -0.14892485,\n",
       "        -0.59093923, -1.54297021, -0.82894698,  1.27912163,  1.07511499],\n",
       "       [ 0.6331006 , -0.69294255, -1.20295915, -1.50896911,  0.32709064,\n",
       "         1.44912716,  1.27912163, -0.4209337 , -1.57697132, -0.62494034],\n",
       "       [ 0.53109728,  0.32709064,  1.00711278,  1.34712384,  0.39509286,\n",
       "        -1.50896911, -0.59093923, -0.9309503 , -1.57697132, -0.59093923],\n",
       "       [-1.44096689, -0.14892485, -0.82894698, -0.79494587,  0.12308401,\n",
       "         0.05508179,  1.21111941, -0.14892485, -0.48893591, -0.04692153],\n",
       "       [-1.23696026, -0.52293702,  0.19108622, -1.10095583,  0.22508733,\n",
       "         1.07511499, -0.89694919,  0.36109175,  1.6531338 , -1.474968  ],\n",
       "       [-1.64497353, -0.14892485, -0.4209337 ,  1.72113601,  0.87110835,\n",
       "         1.48312827,  0.29308954, -1.33896357, -0.31893038,  1.38112495],\n",
       "       [ 1.68713491, -0.25092817,  0.42909396,  0.42909396,  0.87110835,\n",
       "         0.66710171, -1.23696026, -1.16895804,  0.73510392,  1.27912163],\n",
       "       [ 1.31312273,  0.90510946,  0.97311167, -0.9649514 , -0.38693259,\n",
       "         0.42909396,  1.31312273, -1.44096689, -0.31893038, -1.50896911]])"
      ]
     },
     "execution_count": 24,
     "metadata": {},
     "output_type": "execute_result"
    }
   ],
   "source": [
    "X2 = (X - X.mean()) / X.std()\n",
    "X2"
   ]
  },
  {
   "cell_type": "code",
   "execution_count": 14,
   "metadata": {},
   "outputs": [
    {
     "data": {
      "text/plain": [
       "29.410807537366264"
      ]
     },
     "execution_count": 14,
     "metadata": {},
     "output_type": "execute_result"
    }
   ],
   "source": [
    "X.std()"
   ]
  },
  {
   "cell_type": "code",
   "execution_count": 2,
   "metadata": {},
   "outputs": [
    {
     "data": {
      "text/plain": [
       "array([[0.32692308, 0.43333333, 0.03703704, 0.94680851, 0.7628866 ,\n",
       "        0.04210526, 0.89247312, 1.        , 0.58333333, 1.        ],\n",
       "       [0.78846154, 0.        , 0.95061728, 0.86170213, 0.02061856,\n",
       "        0.86315789, 1.        , 0.1827957 , 0.32291667, 0.86956522],\n",
       "       [0.        , 0.92222222, 0.        , 0.93617021, 0.91752577,\n",
       "        0.62105263, 0.93548387, 0.87096774, 1.        , 0.55434783],\n",
       "       [1.        , 0.48888889, 0.2962963 , 0.0212766 , 0.98969072,\n",
       "        0.97894737, 0.23655914, 0.        , 0.02083333, 0.17391304],\n",
       "       [0.05769231, 0.16666667, 0.88888889, 0.69148936, 0.87628866,\n",
       "        0.78947368, 0.87096774, 0.40860215, 0.19791667, 0.30434783],\n",
       "       [0.98076923, 0.76666667, 0.34567901, 0.39361702, 1.        ,\n",
       "        1.        , 0.59139785, 0.52688172, 0.98958333, 0.55434783],\n",
       "       [0.67307692, 0.02222222, 0.0617284 , 0.        , 0.        ,\n",
       "        0.52631579, 0.        , 0.29032258, 0.16666667, 0.        ],\n",
       "       [0.46153846, 0.2       , 0.44444444, 1.        , 0.72164948,\n",
       "        0.        , 0.55913978, 0.84946237, 0.3125    , 0.33695652],\n",
       "       [0.65384615, 0.33333333, 1.        , 0.36170213, 0.82474227,\n",
       "        0.51578947, 0.67741935, 0.07526882, 0.34375   , 0.90217391],\n",
       "       [0.11538462, 1.        , 0.34567901, 0.20212766, 0.58762887,\n",
       "        0.29473684, 0.06451613, 0.15053763, 0.        , 0.09782609]])"
      ]
     },
     "execution_count": 2,
     "metadata": {},
     "output_type": "execute_result"
    }
   ],
   "source": [
    "from sklearn import preprocessing\n",
    "mms = preprocessing.MinMaxScaler()\n",
    "mms.fit_transform(X)"
   ]
  },
  {
   "cell_type": "code",
   "execution_count": 3,
   "metadata": {},
   "outputs": [
    {
     "data": {
      "text/plain": [
       "array([[0.48484848, 0.45454545, 0.21212121, 0.92929293, 0.76767677,\n",
       "        0.08080808, 0.85858586, 0.97979798, 0.56565657, 0.96969697],\n",
       "       [0.72727273, 0.06060606, 0.95959596, 0.84848485, 0.04040404,\n",
       "        0.86868687, 0.95959596, 0.21212121, 0.31313131, 0.84848485],\n",
       "       [0.31313131, 0.8989899 , 0.18181818, 0.91919192, 0.91919192,\n",
       "        0.63636364, 0.8989899 , 0.85858586, 0.96969697, 0.55555556],\n",
       "       [0.83838384, 0.50505051, 0.42424242, 0.05050505, 0.98989899,\n",
       "        0.97979798, 0.24242424, 0.04040404, 0.02020202, 0.2020202 ],\n",
       "       [0.34343434, 0.21212121, 0.90909091, 0.68686869, 0.87878788,\n",
       "        0.7979798 , 0.83838384, 0.42424242, 0.19191919, 0.32323232],\n",
       "       [0.82828283, 0.75757576, 0.46464646, 0.4040404 , 1.        ,\n",
       "        1.        , 0.57575758, 0.53535354, 0.95959596, 0.55555556],\n",
       "       [0.66666667, 0.08080808, 0.23232323, 0.03030303, 0.02020202,\n",
       "        0.54545455, 0.02020202, 0.31313131, 0.16161616, 0.04040404],\n",
       "       [0.55555556, 0.24242424, 0.54545455, 0.97979798, 0.72727273,\n",
       "        0.04040404, 0.54545455, 0.83838384, 0.3030303 , 0.35353535],\n",
       "       [0.65656566, 0.36363636, 1.        , 0.37373737, 0.82828283,\n",
       "        0.53535354, 0.65656566, 0.11111111, 0.33333333, 0.87878788],\n",
       "       [0.37373737, 0.96969697, 0.46464646, 0.22222222, 0.5959596 ,\n",
       "        0.32323232, 0.08080808, 0.18181818, 0.        , 0.13131313]])"
      ]
     },
     "execution_count": 3,
     "metadata": {},
     "output_type": "execute_result"
    }
   ],
   "source": [
    "(X - X.min()) / (X.max() - X.min())"
   ]
  },
  {
   "cell_type": "code",
   "execution_count": 5,
   "metadata": {},
   "outputs": [
    {
     "data": {
      "text/html": [
       "<div>\n",
       "<style scoped>\n",
       "    .dataframe tbody tr th:only-of-type {\n",
       "        vertical-align: middle;\n",
       "    }\n",
       "\n",
       "    .dataframe tbody tr th {\n",
       "        vertical-align: top;\n",
       "    }\n",
       "\n",
       "    .dataframe thead th {\n",
       "        text-align: right;\n",
       "    }\n",
       "</style>\n",
       "<table border=\"1\" class=\"dataframe\">\n",
       "  <thead>\n",
       "    <tr style=\"text-align: right;\">\n",
       "      <th></th>\n",
       "      <th>name</th>\n",
       "      <th>inst</th>\n",
       "    </tr>\n",
       "  </thead>\n",
       "  <tbody>\n",
       "    <tr>\n",
       "      <th>0</th>\n",
       "      <td>G</td>\n",
       "      <td>B</td>\n",
       "    </tr>\n",
       "    <tr>\n",
       "      <th>1</th>\n",
       "      <td>P</td>\n",
       "      <td>D</td>\n",
       "    </tr>\n",
       "  </tbody>\n",
       "</table>\n",
       "</div>"
      ],
      "text/plain": [
       "  name inst\n",
       "0    G    B\n",
       "1    P    D"
      ]
     },
     "execution_count": 5,
     "metadata": {},
     "output_type": "execute_result"
    }
   ],
   "source": [
    "X_cat = pd.DataFrame({\n",
    "    \"name\": [\"G\", \"P\"],\n",
    "    \"inst\": [\"B\", \"D\"],\n",
    "})\n",
    "X_cat"
   ]
  },
  {
   "cell_type": "code",
   "execution_count": 6,
   "metadata": {},
   "outputs": [
    {
     "data": {
      "text/html": [
       "<div>\n",
       "<style scoped>\n",
       "    .dataframe tbody tr th:only-of-type {\n",
       "        vertical-align: middle;\n",
       "    }\n",
       "\n",
       "    .dataframe tbody tr th {\n",
       "        vertical-align: top;\n",
       "    }\n",
       "\n",
       "    .dataframe thead th {\n",
       "        text-align: right;\n",
       "    }\n",
       "</style>\n",
       "<table border=\"1\" class=\"dataframe\">\n",
       "  <thead>\n",
       "    <tr style=\"text-align: right;\">\n",
       "      <th></th>\n",
       "      <th>name_G</th>\n",
       "      <th>name_P</th>\n",
       "      <th>inst_B</th>\n",
       "      <th>inst_D</th>\n",
       "    </tr>\n",
       "  </thead>\n",
       "  <tbody>\n",
       "    <tr>\n",
       "      <th>0</th>\n",
       "      <td>1</td>\n",
       "      <td>0</td>\n",
       "      <td>1</td>\n",
       "      <td>0</td>\n",
       "    </tr>\n",
       "    <tr>\n",
       "      <th>1</th>\n",
       "      <td>0</td>\n",
       "      <td>1</td>\n",
       "      <td>0</td>\n",
       "      <td>1</td>\n",
       "    </tr>\n",
       "  </tbody>\n",
       "</table>\n",
       "</div>"
      ],
      "text/plain": [
       "   name_G  name_P  inst_B  inst_D\n",
       "0       1       0       1       0\n",
       "1       0       1       0       1"
      ]
     },
     "execution_count": 6,
     "metadata": {},
     "output_type": "execute_result"
    }
   ],
   "source": [
    "pd.get_dummies(X_cat)"
   ]
  },
  {
   "cell_type": "code",
   "execution_count": 7,
   "metadata": {},
   "outputs": [
    {
     "data": {
      "text/html": [
       "<div>\n",
       "<style scoped>\n",
       "    .dataframe tbody tr th:only-of-type {\n",
       "        vertical-align: middle;\n",
       "    }\n",
       "\n",
       "    .dataframe tbody tr th {\n",
       "        vertical-align: top;\n",
       "    }\n",
       "\n",
       "    .dataframe thead th {\n",
       "        text-align: right;\n",
       "    }\n",
       "</style>\n",
       "<table border=\"1\" class=\"dataframe\">\n",
       "  <thead>\n",
       "    <tr style=\"text-align: right;\">\n",
       "      <th></th>\n",
       "      <th>name_P</th>\n",
       "      <th>inst_D</th>\n",
       "    </tr>\n",
       "  </thead>\n",
       "  <tbody>\n",
       "    <tr>\n",
       "      <th>0</th>\n",
       "      <td>0</td>\n",
       "      <td>0</td>\n",
       "    </tr>\n",
       "    <tr>\n",
       "      <th>1</th>\n",
       "      <td>1</td>\n",
       "      <td>1</td>\n",
       "    </tr>\n",
       "  </tbody>\n",
       "</table>\n",
       "</div>"
      ],
      "text/plain": [
       "   name_P  inst_D\n",
       "0       0       0\n",
       "1       1       1"
      ]
     },
     "execution_count": 7,
     "metadata": {},
     "output_type": "execute_result"
    }
   ],
   "source": [
    "pd.get_dummies(X_cat, drop_first=True)"
   ]
  },
  {
   "cell_type": "code",
   "execution_count": 18,
   "metadata": {},
   "outputs": [
    {
     "data": {
      "text/plain": [
       "array([0, 1])"
      ]
     },
     "execution_count": 18,
     "metadata": {},
     "output_type": "execute_result"
    }
   ],
   "source": [
    "from sklearn import preprocessing\n",
    "lab = preprocessing.LabelEncoder()\n",
    "lab.fit_transform(X_cat.name)"
   ]
  },
  {
   "cell_type": "code",
   "execution_count": 17,
   "metadata": {},
   "outputs": [
    {
     "data": {
      "text/plain": [
       "array(['G', 'P'], dtype=object)"
      ]
     },
     "execution_count": 17,
     "metadata": {},
     "output_type": "execute_result"
    }
   ],
   "source": [
    "lab.inverse_transform([0, 1])"
   ]
  },
  {
   "cell_type": "code",
   "execution_count": 21,
   "metadata": {},
   "outputs": [
    {
     "data": {
      "text/plain": [
       "0    0\n",
       "1    1\n",
       "dtype: int8"
      ]
     },
     "execution_count": 21,
     "metadata": {},
     "output_type": "execute_result"
    }
   ],
   "source": [
    "X_cat.name.astype(\"category\").cat.codes"
   ]
  },
  {
   "cell_type": "code",
   "execution_count": 23,
   "metadata": {},
   "outputs": [
    {
     "data": {
      "text/plain": [
       "0    1\n",
       "1    1\n",
       "Name: name, dtype: int64"
      ]
     },
     "execution_count": 23,
     "metadata": {},
     "output_type": "execute_result"
    }
   ],
   "source": [
    "maping = X_cat.name.value_counts()\n",
    "X_cat.name.map(maping)"
   ]
  },
  {
   "cell_type": "code",
   "execution_count": 24,
   "metadata": {},
   "outputs": [
    {
     "ename": "ModuleNotFoundError",
     "evalue": "No module named 'categorical_encoder'",
     "output_type": "error",
     "traceback": [
      "\u001b[1;31m---------------------------------------------------------------------------\u001b[0m",
      "\u001b[1;31mModuleNotFoundError\u001b[0m                       Traceback (most recent call last)",
      "\u001b[1;32m<ipython-input-24-59c5fd949fd1>\u001b[0m in \u001b[0;36m<module>\u001b[1;34m\u001b[0m\n\u001b[1;32m----> 1\u001b[1;33m \u001b[1;32mfrom\u001b[0m \u001b[0mcategorical_encoder\u001b[0m \u001b[1;32mimport\u001b[0m \u001b[0mCategoricalEncoder\u001b[0m\u001b[1;33m\u001b[0m\u001b[1;33m\u001b[0m\u001b[0m\n\u001b[0m",
      "\u001b[1;31mModuleNotFoundError\u001b[0m: No module named 'categorical_encoder'"
     ]
    }
   ],
   "source": [
    "from categorical_encoder import CategoricalEncoder"
   ]
  },
  {
   "cell_type": "code",
   "execution_count": 1,
   "metadata": {},
   "outputs": [
    {
     "data": {
      "text/plain": [
       "1.0"
      ]
     },
     "execution_count": 1,
     "metadata": {},
     "output_type": "execute_result"
    }
   ],
   "source": [
    "from sklearn.metrics import accuracy_score\n",
    "X = [1, 2]\n",
    "Y = [1, 2]\n",
    "accuracy_score(X, Y)"
   ]
  },
  {
   "cell_type": "code",
   "execution_count": 26,
   "metadata": {},
   "outputs": [
    {
     "data": {
      "text/plain": [
       "1.0"
      ]
     },
     "execution_count": 26,
     "metadata": {},
     "output_type": "execute_result"
    }
   ],
   "source": [
    "from sklearn.metrics import recall_score\n",
    "recall_score(X, Y)"
   ]
  },
  {
   "cell_type": "code",
   "execution_count": 27,
   "metadata": {},
   "outputs": [
    {
     "data": {
      "text/plain": [
       "1.0"
      ]
     },
     "execution_count": 27,
     "metadata": {},
     "output_type": "execute_result"
    }
   ],
   "source": [
    "from sklearn.metrics import precision_score\n",
    "precision_score(X, Y)"
   ]
  },
  {
   "cell_type": "code",
   "execution_count": 28,
   "metadata": {},
   "outputs": [
    {
     "data": {
      "text/plain": [
       "1.0"
      ]
     },
     "execution_count": 28,
     "metadata": {},
     "output_type": "execute_result"
    }
   ],
   "source": [
    "from sklearn.metrics import f1_score\n",
    "f1_score(X, Y)"
   ]
  },
  {
   "cell_type": "code",
   "execution_count": 29,
   "metadata": {},
   "outputs": [
    {
     "data": {
      "text/plain": [
       "1.0"
      ]
     },
     "execution_count": 29,
     "metadata": {},
     "output_type": "execute_result"
    }
   ],
   "source": [
    "from sklearn.metrics import roc_auc_score\n",
    "roc_auc_score(X, Y)"
   ]
  },
  {
   "cell_type": "code",
   "execution_count": 30,
   "metadata": {},
   "outputs": [
    {
     "data": {
      "text/plain": [
       "0.5"
      ]
     },
     "execution_count": 30,
     "metadata": {},
     "output_type": "execute_result"
    }
   ],
   "source": [
    "from sklearn.metrics import average_precision_score\n",
    "average_precision_score(X, Y)"
   ]
  },
  {
   "cell_type": "code",
   "execution_count": 2,
   "metadata": {},
   "outputs": [
    {
     "data": {
      "text/plain": [
       "1.0"
      ]
     },
     "execution_count": 2,
     "metadata": {},
     "output_type": "execute_result"
    }
   ],
   "source": [
    "from sklearn.metrics import r2_score\n",
    "Y_test = [1, 2]\n",
    "Y_predict = [1, 2]\n",
    "r2_score(Y_test, Y_predict)"
   ]
  },
  {
   "cell_type": "code",
   "execution_count": 3,
   "metadata": {},
   "outputs": [
    {
     "data": {
      "text/plain": [
       "0.0"
      ]
     },
     "execution_count": 3,
     "metadata": {},
     "output_type": "execute_result"
    }
   ],
   "source": [
    "from sklearn.metrics import mean_absolute_error\n",
    "mean_absolute_error(Y_test, Y_predict)"
   ]
  },
  {
   "cell_type": "code",
   "execution_count": 4,
   "metadata": {},
   "outputs": [
    {
     "data": {
      "text/plain": [
       "0.0"
      ]
     },
     "execution_count": 4,
     "metadata": {},
     "output_type": "execute_result"
    }
   ],
   "source": [
    "from sklearn.metrics import mean_squared_error\n",
    "mean_squared_error(Y_test, Y_predict)"
   ]
  },
  {
   "cell_type": "code",
   "execution_count": 5,
   "metadata": {},
   "outputs": [
    {
     "data": {
      "text/plain": [
       "0.0"
      ]
     },
     "execution_count": 5,
     "metadata": {},
     "output_type": "execute_result"
    }
   ],
   "source": [
    "from sklearn.metrics import mean_squared_log_error\n",
    "mean_squared_log_error(Y_test, Y_predict)"
   ]
  },
  {
   "cell_type": "code",
   "execution_count": null,
   "metadata": {},
   "outputs": [],
   "source": []
  }
 ],
 "metadata": {
  "interpreter": {
   "hash": "97ae724bfa85b9b34df7982b8bb8c7216f435b92902d749e4263f71162bea840"
  },
  "kernelspec": {
   "display_name": "Python 3.8.5 64-bit ('base': conda)",
   "language": "python",
   "name": "python3"
  },
  "language_info": {
   "codemirror_mode": {
    "name": "ipython",
    "version": 3
   },
   "file_extension": ".py",
   "mimetype": "text/x-python",
   "name": "python",
   "nbconvert_exporter": "python",
   "pygments_lexer": "ipython3",
   "version": "3.8.5"
  },
  "orig_nbformat": 4
 },
 "nbformat": 4,
 "nbformat_minor": 2
}
